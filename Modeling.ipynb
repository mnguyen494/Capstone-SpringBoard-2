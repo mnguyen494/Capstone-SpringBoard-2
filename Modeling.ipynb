{
 "cells": [
  {
   "cell_type": "code",
   "execution_count": 1,
   "metadata": {},
   "outputs": [],
   "source": [
    "from scipy.cluster.hierarchy import fcluster\n",
    "from sklearn.metrics.pairwise import cosine_similarity\n",
    "import pandas as pd\n",
    "import numpy as np\n",
    "import matplotlib.pyplot as plt\n",
    "%matplotlib inline\n",
    "import re\n",
    "import string\n",
    "from nltk import word_tokenize\n",
    "from nltk.corpus import stopwords\n",
    "from nltk.stem import WordNetLemmatizer\n",
    "from sklearn.feature_extraction.text import TfidfVectorizer\n",
    "from collections import Counter\n",
    "from pylab import *\n",
    "import nltk\n",
    "import warnings\n",
    "warnings.filterwarnings('ignore')\n",
    "from scipy.cluster.hierarchy import ward, dendrogram\n",
    "import seaborn as sns; \n",
    "sns.set()\n",
    "import numpy as np\n",
    "from scipy.spatial.distance import cdist\n",
    "from sklearn.cluster import KMeans\n",
    "from sklearn.decomposition import PCA\n",
    "from sklearn.preprocessing import scale\n",
    "from sklearn.model_selection import train_test_split, cross_validate, GridSearchCV, learning_curve,cross_val_score\n",
    "from sklearn.preprocessing import StandardScaler, MinMaxScaler\n",
    "from sklearn.dummy import DummyClassifier\n",
    "from sklearn.linear_model import LinearRegression\n",
    "from sklearn.ensemble import RandomForestRegressor\n",
    "from sklearn.metrics import r2_score, mean_squared_error, mean_absolute_error\n",
    "from sklearn.pipeline import make_pipeline\n",
    "from sklearn.impute import SimpleImputer\n",
    "from sklearn.feature_selection import SelectKBest, f_regression\n",
    "import datetime\n",
    "from sklearn.dummy import DummyRegressor\n",
    "from sklearn.metrics import accuracy_score,roc_curve,classification_report,confusion_matrix,precision_recall_curve,auc,f1_score"
   ]
  },
  {
   "cell_type": "code",
   "execution_count": 2,
   "metadata": {},
   "outputs": [],
   "source": [
    "import warnings\n",
    "warnings.filterwarnings(\"ignore\")"
   ]
  },
  {
   "cell_type": "code",
   "execution_count": 3,
   "metadata": {},
   "outputs": [],
   "source": [
    "# Load the data. \n",
    "reviewdata=pd.read_csv('data/clean_up_data.csv')"
   ]
  },
  {
   "cell_type": "code",
   "execution_count": 4,
   "metadata": {},
   "outputs": [
    {
     "data": {
      "text/html": [
       "<div>\n",
       "<style scoped>\n",
       "    .dataframe tbody tr th:only-of-type {\n",
       "        vertical-align: middle;\n",
       "    }\n",
       "\n",
       "    .dataframe tbody tr th {\n",
       "        vertical-align: top;\n",
       "    }\n",
       "\n",
       "    .dataframe thead th {\n",
       "        text-align: right;\n",
       "    }\n",
       "</style>\n",
       "<table border=\"1\" class=\"dataframe\">\n",
       "  <thead>\n",
       "    <tr style=\"text-align: right;\">\n",
       "      <th></th>\n",
       "      <th>star_rating</th>\n",
       "      <th>helpful_votes</th>\n",
       "      <th>total_votes</th>\n",
       "      <th>helpful_votes_ratio</th>\n",
       "      <th>review_length</th>\n",
       "      <th>arrange_product_id</th>\n",
       "      <th>arrange_product_title</th>\n",
       "      <th>arrange_product_parent</th>\n",
       "      <th>arrange_customer_id</th>\n",
       "      <th>product_title</th>\n",
       "      <th>review_body</th>\n",
       "    </tr>\n",
       "  </thead>\n",
       "  <tbody>\n",
       "    <tr>\n",
       "      <th>0</th>\n",
       "      <td>5</td>\n",
       "      <td>0</td>\n",
       "      <td>0</td>\n",
       "      <td>0.000000</td>\n",
       "      <td>14</td>\n",
       "      <td>783255.0</td>\n",
       "      <td>696893.0</td>\n",
       "      <td>696055.0</td>\n",
       "      <td>1015876.0</td>\n",
       "      <td>Scotch Cushion Wrap 7961, 12 Inches x 100 Feet</td>\n",
       "      <td>Great product.</td>\n",
       "    </tr>\n",
       "    <tr>\n",
       "      <th>1</th>\n",
       "      <td>5</td>\n",
       "      <td>0</td>\n",
       "      <td>1</td>\n",
       "      <td>0.000000</td>\n",
       "      <td>155</td>\n",
       "      <td>1964694.0</td>\n",
       "      <td>1881711.0</td>\n",
       "      <td>1885670.0</td>\n",
       "      <td>1801693.0</td>\n",
       "      <td>Dust-Off Compressed Gas Duster, Pack of 4</td>\n",
       "      <td>What's to say about this commodity item except...</td>\n",
       "    </tr>\n",
       "    <tr>\n",
       "      <th>2</th>\n",
       "      <td>5</td>\n",
       "      <td>0</td>\n",
       "      <td>0</td>\n",
       "      <td>0.000000</td>\n",
       "      <td>47</td>\n",
       "      <td>554316.0</td>\n",
       "      <td>499073.0</td>\n",
       "      <td>500576.0</td>\n",
       "      <td>548574.0</td>\n",
       "      <td>Amram Tagger Standard Tag Attaching Tagging Gu...</td>\n",
       "      <td>Haven't used yet, but I am sure I will like it.</td>\n",
       "    </tr>\n",
       "    <tr>\n",
       "      <th>3</th>\n",
       "      <td>1</td>\n",
       "      <td>2</td>\n",
       "      <td>3</td>\n",
       "      <td>0.666667</td>\n",
       "      <td>735</td>\n",
       "      <td>2150992.0</td>\n",
       "      <td>2099828.0</td>\n",
       "      <td>2103291.0</td>\n",
       "      <td>719312.0</td>\n",
       "      <td>AmazonBasics 12-Sheet High-Security Micro-Cut ...</td>\n",
       "      <td>Although this was labeled as &amp;#34;new&amp;#34; the...</td>\n",
       "    </tr>\n",
       "    <tr>\n",
       "      <th>4</th>\n",
       "      <td>4</td>\n",
       "      <td>0</td>\n",
       "      <td>0</td>\n",
       "      <td>0.000000</td>\n",
       "      <td>31</td>\n",
       "      <td>1460506.0</td>\n",
       "      <td>1848076.0</td>\n",
       "      <td>1845831.0</td>\n",
       "      <td>103335.0</td>\n",
       "      <td>Derwent Colored Pencils, Inktense Ink Pencils,...</td>\n",
       "      <td>Gorgeous colors and easy to use</td>\n",
       "    </tr>\n",
       "  </tbody>\n",
       "</table>\n",
       "</div>"
      ],
      "text/plain": [
       "   star_rating  helpful_votes  total_votes  helpful_votes_ratio  \\\n",
       "0            5              0            0             0.000000   \n",
       "1            5              0            1             0.000000   \n",
       "2            5              0            0             0.000000   \n",
       "3            1              2            3             0.666667   \n",
       "4            4              0            0             0.000000   \n",
       "\n",
       "   review_length  arrange_product_id  arrange_product_title  \\\n",
       "0             14            783255.0               696893.0   \n",
       "1            155           1964694.0              1881711.0   \n",
       "2             47            554316.0               499073.0   \n",
       "3            735           2150992.0              2099828.0   \n",
       "4             31           1460506.0              1848076.0   \n",
       "\n",
       "   arrange_product_parent  arrange_customer_id  \\\n",
       "0                696055.0            1015876.0   \n",
       "1               1885670.0            1801693.0   \n",
       "2                500576.0             548574.0   \n",
       "3               2103291.0             719312.0   \n",
       "4               1845831.0             103335.0   \n",
       "\n",
       "                                       product_title  \\\n",
       "0     Scotch Cushion Wrap 7961, 12 Inches x 100 Feet   \n",
       "1          Dust-Off Compressed Gas Duster, Pack of 4   \n",
       "2  Amram Tagger Standard Tag Attaching Tagging Gu...   \n",
       "3  AmazonBasics 12-Sheet High-Security Micro-Cut ...   \n",
       "4  Derwent Colored Pencils, Inktense Ink Pencils,...   \n",
       "\n",
       "                                         review_body  \n",
       "0                                     Great product.  \n",
       "1  What's to say about this commodity item except...  \n",
       "2    Haven't used yet, but I am sure I will like it.  \n",
       "3  Although this was labeled as &#34;new&#34; the...  \n",
       "4                    Gorgeous colors and easy to use  "
      ]
     },
     "execution_count": 4,
     "metadata": {},
     "output_type": "execute_result"
    }
   ],
   "source": [
    "reviewdata.head()"
   ]
  },
  {
   "cell_type": "markdown",
   "metadata": {},
   "source": [
    "Before going to the modeling, let's use classified the reviews into two categories. This classification is motivated by the polarization of our reviews as indicated in our EDA step. We will label the review with no helpful votes or review with helpful_votes_ratio smaller than 0.5: 0.  The more helpful review with helpful_votes_ratio bigger than 0.5 as 1."
   ]
  },
  {
   "cell_type": "code",
   "execution_count": 5,
   "metadata": {},
   "outputs": [],
   "source": [
    "reviewdata['classified_review']=0"
   ]
  },
  {
   "cell_type": "code",
   "execution_count": 6,
   "metadata": {},
   "outputs": [],
   "source": [
    "reviewdata.loc[reviewdata['helpful_votes_ratio']>0.5,'classified_review']=1"
   ]
  },
  {
   "cell_type": "code",
   "execution_count": 7,
   "metadata": {},
   "outputs": [
    {
     "data": {
      "text/html": [
       "<div>\n",
       "<style scoped>\n",
       "    .dataframe tbody tr th:only-of-type {\n",
       "        vertical-align: middle;\n",
       "    }\n",
       "\n",
       "    .dataframe tbody tr th {\n",
       "        vertical-align: top;\n",
       "    }\n",
       "\n",
       "    .dataframe thead th {\n",
       "        text-align: right;\n",
       "    }\n",
       "</style>\n",
       "<table border=\"1\" class=\"dataframe\">\n",
       "  <thead>\n",
       "    <tr style=\"text-align: right;\">\n",
       "      <th></th>\n",
       "      <th>star_rating</th>\n",
       "      <th>helpful_votes</th>\n",
       "      <th>total_votes</th>\n",
       "      <th>helpful_votes_ratio</th>\n",
       "      <th>review_length</th>\n",
       "      <th>arrange_product_id</th>\n",
       "      <th>arrange_product_title</th>\n",
       "      <th>arrange_product_parent</th>\n",
       "      <th>arrange_customer_id</th>\n",
       "      <th>product_title</th>\n",
       "      <th>review_body</th>\n",
       "      <th>classified_review</th>\n",
       "    </tr>\n",
       "  </thead>\n",
       "  <tbody>\n",
       "    <tr>\n",
       "      <th>0</th>\n",
       "      <td>5</td>\n",
       "      <td>0</td>\n",
       "      <td>0</td>\n",
       "      <td>0.000000</td>\n",
       "      <td>14</td>\n",
       "      <td>783255.0</td>\n",
       "      <td>696893.0</td>\n",
       "      <td>696055.0</td>\n",
       "      <td>1015876.0</td>\n",
       "      <td>Scotch Cushion Wrap 7961, 12 Inches x 100 Feet</td>\n",
       "      <td>Great product.</td>\n",
       "      <td>0</td>\n",
       "    </tr>\n",
       "    <tr>\n",
       "      <th>1</th>\n",
       "      <td>5</td>\n",
       "      <td>0</td>\n",
       "      <td>1</td>\n",
       "      <td>0.000000</td>\n",
       "      <td>155</td>\n",
       "      <td>1964694.0</td>\n",
       "      <td>1881711.0</td>\n",
       "      <td>1885670.0</td>\n",
       "      <td>1801693.0</td>\n",
       "      <td>Dust-Off Compressed Gas Duster, Pack of 4</td>\n",
       "      <td>What's to say about this commodity item except...</td>\n",
       "      <td>0</td>\n",
       "    </tr>\n",
       "    <tr>\n",
       "      <th>2</th>\n",
       "      <td>5</td>\n",
       "      <td>0</td>\n",
       "      <td>0</td>\n",
       "      <td>0.000000</td>\n",
       "      <td>47</td>\n",
       "      <td>554316.0</td>\n",
       "      <td>499073.0</td>\n",
       "      <td>500576.0</td>\n",
       "      <td>548574.0</td>\n",
       "      <td>Amram Tagger Standard Tag Attaching Tagging Gu...</td>\n",
       "      <td>Haven't used yet, but I am sure I will like it.</td>\n",
       "      <td>0</td>\n",
       "    </tr>\n",
       "    <tr>\n",
       "      <th>3</th>\n",
       "      <td>1</td>\n",
       "      <td>2</td>\n",
       "      <td>3</td>\n",
       "      <td>0.666667</td>\n",
       "      <td>735</td>\n",
       "      <td>2150992.0</td>\n",
       "      <td>2099828.0</td>\n",
       "      <td>2103291.0</td>\n",
       "      <td>719312.0</td>\n",
       "      <td>AmazonBasics 12-Sheet High-Security Micro-Cut ...</td>\n",
       "      <td>Although this was labeled as &amp;#34;new&amp;#34; the...</td>\n",
       "      <td>1</td>\n",
       "    </tr>\n",
       "    <tr>\n",
       "      <th>4</th>\n",
       "      <td>4</td>\n",
       "      <td>0</td>\n",
       "      <td>0</td>\n",
       "      <td>0.000000</td>\n",
       "      <td>31</td>\n",
       "      <td>1460506.0</td>\n",
       "      <td>1848076.0</td>\n",
       "      <td>1845831.0</td>\n",
       "      <td>103335.0</td>\n",
       "      <td>Derwent Colored Pencils, Inktense Ink Pencils,...</td>\n",
       "      <td>Gorgeous colors and easy to use</td>\n",
       "      <td>0</td>\n",
       "    </tr>\n",
       "  </tbody>\n",
       "</table>\n",
       "</div>"
      ],
      "text/plain": [
       "   star_rating  helpful_votes  total_votes  helpful_votes_ratio  \\\n",
       "0            5              0            0             0.000000   \n",
       "1            5              0            1             0.000000   \n",
       "2            5              0            0             0.000000   \n",
       "3            1              2            3             0.666667   \n",
       "4            4              0            0             0.000000   \n",
       "\n",
       "   review_length  arrange_product_id  arrange_product_title  \\\n",
       "0             14            783255.0               696893.0   \n",
       "1            155           1964694.0              1881711.0   \n",
       "2             47            554316.0               499073.0   \n",
       "3            735           2150992.0              2099828.0   \n",
       "4             31           1460506.0              1848076.0   \n",
       "\n",
       "   arrange_product_parent  arrange_customer_id  \\\n",
       "0                696055.0            1015876.0   \n",
       "1               1885670.0            1801693.0   \n",
       "2                500576.0             548574.0   \n",
       "3               2103291.0             719312.0   \n",
       "4               1845831.0             103335.0   \n",
       "\n",
       "                                       product_title  \\\n",
       "0     Scotch Cushion Wrap 7961, 12 Inches x 100 Feet   \n",
       "1          Dust-Off Compressed Gas Duster, Pack of 4   \n",
       "2  Amram Tagger Standard Tag Attaching Tagging Gu...   \n",
       "3  AmazonBasics 12-Sheet High-Security Micro-Cut ...   \n",
       "4  Derwent Colored Pencils, Inktense Ink Pencils,...   \n",
       "\n",
       "                                         review_body  classified_review  \n",
       "0                                     Great product.                  0  \n",
       "1  What's to say about this commodity item except...                  0  \n",
       "2    Haven't used yet, but I am sure I will like it.                  0  \n",
       "3  Although this was labeled as &#34;new&#34; the...                  1  \n",
       "4                    Gorgeous colors and easy to use                  0  "
      ]
     },
     "execution_count": 7,
     "metadata": {},
     "output_type": "execute_result"
    }
   ],
   "source": [
    "reviewdata.head()"
   ]
  },
  {
   "cell_type": "markdown",
   "metadata": {},
   "source": [
    "We will create a TFIDF model for our classification. However, before doing that, we will need to tokenize and lemmatize our reviews to reduce the forms of many words such as zip, zipped, zipping etc. This will make our TFIDF more relevant."
   ]
  },
  {
   "cell_type": "code",
   "execution_count": 8,
   "metadata": {},
   "outputs": [],
   "source": [
    "lemmatizer = WordNetLemmatizer()\n",
    "stop_words = stopwords.words('english')\n",
    "stop_words = stop_words + list(string.printable)"
   ]
  },
  {
   "cell_type": "code",
   "execution_count": 9,
   "metadata": {},
   "outputs": [],
   "source": [
    "reviewdata['cleaned_review'] = reviewdata['review_body'].apply(\\\n",
    "lambda x : ' '.join([lemmatizer.lemmatize(word.lower()) \\\n",
    "    for word in word_tokenize(re.sub(r'([^\\s\\w]|_)+', ' ', str(x))) if word.lower() not in stop_words]))"
   ]
  },
  {
   "cell_type": "markdown",
   "metadata": {},
   "source": [
    "Now we can create the TFIDF model. We will use the most 50 common words first. This number can be adjusted in the hyper-parameter search stage to optimize the model."
   ]
  },
  {
   "cell_type": "code",
   "execution_count": 10,
   "metadata": {},
   "outputs": [],
   "source": [
    "def clf_model(model_type, X_train, y_train, X_test):\n",
    "    model = model_type.fit(X_train,y_train)\n",
    "    predicted_labels = model.predict(X_test)\n",
    "    predicted_probab = model.predict_proba(X_test)[:,1]\n",
    "    return [predicted_labels,predicted_probab, model]"
   ]
  },
  {
   "cell_type": "code",
   "execution_count": 11,
   "metadata": {},
   "outputs": [],
   "source": [
    "def model_evaluation(actual_values, predicted_values, predicted_probabilities):\n",
    "    cfn_mat = confusion_matrix(actual_values,predicted_values,labels=[0, 1])\n",
    "    print(\"confusion matrix: \\n\",cfn_mat)\n",
    "    print(\"\\naccuracy: \",accuracy_score(actual_values,predicted_values))\n",
    "    print(\"\\nclassification report: \\n\", classification_report(actual_values,predicted_values))\n",
    "    # Compute ROC curve and ROC area for each class\n",
    "#     fpr = dict()\n",
    "#     tpr = dict()\n",
    "#     roc_auc = dict()\n",
    "#     for i in range(3):\n",
    "#         fpr[i], tpr[i], _ = roc_curve(actual_values[:, i], predicted_values[:, i])\n",
    "#         roc_auc[i] = auc(fpr[i], tpr[i])\n",
    "\n",
    "# # Compute micro-average ROC curve and ROC area\n",
    "#     fpr[\"micro\"], tpr[\"micro\"], _ = roc_curve(actual_values.ravel(), predicted_values.ravel())\n",
    "#     roc_auc[\"micro\"] = auc(fpr[\"micro\"], tpr[\"micro\"])\n",
    "    \n",
    "    fpr,tpr,threshold=roc_curve(actual_values, predicted_probabilities)\n",
    "    print ('\\nArea under ROC curve for validation set:', auc(fpr,tpr))\n",
    "    fig, ax = plt.subplots(figsize=(6,6))\n",
    "    ax.plot(fpr,tpr,label='Validation set AUC')\n",
    "    plt.xlabel('False Positive Rate')\n",
    "    plt.ylabel('True Positive Rate')\n",
    "    ax.legend(loc='best')\n",
    "    plt.show()\n",
    "    return auc(fpr,tpr)"
   ]
  },
  {
   "cell_type": "code",
   "execution_count": 12,
   "metadata": {},
   "outputs": [
    {
     "data": {
      "text/html": [
       "<div>\n",
       "<style scoped>\n",
       "    .dataframe tbody tr th:only-of-type {\n",
       "        vertical-align: middle;\n",
       "    }\n",
       "\n",
       "    .dataframe tbody tr th {\n",
       "        vertical-align: top;\n",
       "    }\n",
       "\n",
       "    .dataframe thead th {\n",
       "        text-align: right;\n",
       "    }\n",
       "</style>\n",
       "<table border=\"1\" class=\"dataframe\">\n",
       "  <thead>\n",
       "    <tr style=\"text-align: right;\">\n",
       "      <th></th>\n",
       "      <th>34</th>\n",
       "      <th>also</th>\n",
       "      <th>back</th>\n",
       "      <th>bought</th>\n",
       "      <th>br</th>\n",
       "      <th>buy</th>\n",
       "      <th>cartridge</th>\n",
       "      <th>color</th>\n",
       "      <th>easy</th>\n",
       "      <th>even</th>\n",
       "      <th>...</th>\n",
       "      <th>set</th>\n",
       "      <th>thing</th>\n",
       "      <th>time</th>\n",
       "      <th>use</th>\n",
       "      <th>used</th>\n",
       "      <th>using</th>\n",
       "      <th>well</th>\n",
       "      <th>work</th>\n",
       "      <th>would</th>\n",
       "      <th>year</th>\n",
       "    </tr>\n",
       "  </thead>\n",
       "  <tbody>\n",
       "    <tr>\n",
       "      <th>0</th>\n",
       "      <td>0.00000</td>\n",
       "      <td>0.0</td>\n",
       "      <td>0.0</td>\n",
       "      <td>0.0</td>\n",
       "      <td>0.000000</td>\n",
       "      <td>0.0</td>\n",
       "      <td>0.0</td>\n",
       "      <td>0.00000</td>\n",
       "      <td>0.000000</td>\n",
       "      <td>0.0</td>\n",
       "      <td>...</td>\n",
       "      <td>0.0</td>\n",
       "      <td>0.0</td>\n",
       "      <td>0.0</td>\n",
       "      <td>0.000000</td>\n",
       "      <td>0.000000</td>\n",
       "      <td>0.0</td>\n",
       "      <td>0.0</td>\n",
       "      <td>0.000000</td>\n",
       "      <td>0.0</td>\n",
       "      <td>0.0</td>\n",
       "    </tr>\n",
       "    <tr>\n",
       "      <th>1</th>\n",
       "      <td>0.00000</td>\n",
       "      <td>0.0</td>\n",
       "      <td>0.0</td>\n",
       "      <td>0.0</td>\n",
       "      <td>0.516693</td>\n",
       "      <td>0.0</td>\n",
       "      <td>0.0</td>\n",
       "      <td>0.00000</td>\n",
       "      <td>0.000000</td>\n",
       "      <td>0.0</td>\n",
       "      <td>...</td>\n",
       "      <td>0.0</td>\n",
       "      <td>0.0</td>\n",
       "      <td>0.0</td>\n",
       "      <td>0.000000</td>\n",
       "      <td>0.000000</td>\n",
       "      <td>0.0</td>\n",
       "      <td>0.0</td>\n",
       "      <td>0.000000</td>\n",
       "      <td>0.0</td>\n",
       "      <td>0.0</td>\n",
       "    </tr>\n",
       "    <tr>\n",
       "      <th>2</th>\n",
       "      <td>0.00000</td>\n",
       "      <td>0.0</td>\n",
       "      <td>0.0</td>\n",
       "      <td>0.0</td>\n",
       "      <td>0.000000</td>\n",
       "      <td>0.0</td>\n",
       "      <td>0.0</td>\n",
       "      <td>0.00000</td>\n",
       "      <td>0.000000</td>\n",
       "      <td>0.0</td>\n",
       "      <td>...</td>\n",
       "      <td>0.0</td>\n",
       "      <td>0.0</td>\n",
       "      <td>0.0</td>\n",
       "      <td>0.000000</td>\n",
       "      <td>0.760549</td>\n",
       "      <td>0.0</td>\n",
       "      <td>0.0</td>\n",
       "      <td>0.000000</td>\n",
       "      <td>0.0</td>\n",
       "      <td>0.0</td>\n",
       "    </tr>\n",
       "    <tr>\n",
       "      <th>3</th>\n",
       "      <td>0.66983</td>\n",
       "      <td>0.0</td>\n",
       "      <td>0.0</td>\n",
       "      <td>0.0</td>\n",
       "      <td>0.000000</td>\n",
       "      <td>0.0</td>\n",
       "      <td>0.0</td>\n",
       "      <td>0.00000</td>\n",
       "      <td>0.000000</td>\n",
       "      <td>0.0</td>\n",
       "      <td>...</td>\n",
       "      <td>0.0</td>\n",
       "      <td>0.0</td>\n",
       "      <td>0.0</td>\n",
       "      <td>0.000000</td>\n",
       "      <td>0.138623</td>\n",
       "      <td>0.0</td>\n",
       "      <td>0.0</td>\n",
       "      <td>0.194986</td>\n",
       "      <td>0.0</td>\n",
       "      <td>0.0</td>\n",
       "    </tr>\n",
       "    <tr>\n",
       "      <th>4</th>\n",
       "      <td>0.00000</td>\n",
       "      <td>0.0</td>\n",
       "      <td>0.0</td>\n",
       "      <td>0.0</td>\n",
       "      <td>0.000000</td>\n",
       "      <td>0.0</td>\n",
       "      <td>0.0</td>\n",
       "      <td>0.63401</td>\n",
       "      <td>0.597541</td>\n",
       "      <td>0.0</td>\n",
       "      <td>...</td>\n",
       "      <td>0.0</td>\n",
       "      <td>0.0</td>\n",
       "      <td>0.0</td>\n",
       "      <td>0.490893</td>\n",
       "      <td>0.000000</td>\n",
       "      <td>0.0</td>\n",
       "      <td>0.0</td>\n",
       "      <td>0.000000</td>\n",
       "      <td>0.0</td>\n",
       "      <td>0.0</td>\n",
       "    </tr>\n",
       "  </tbody>\n",
       "</table>\n",
       "<p>5 rows × 50 columns</p>\n",
       "</div>"
      ],
      "text/plain": [
       "        34  also  back  bought        br  buy  cartridge    color      easy  \\\n",
       "0  0.00000   0.0   0.0     0.0  0.000000  0.0        0.0  0.00000  0.000000   \n",
       "1  0.00000   0.0   0.0     0.0  0.516693  0.0        0.0  0.00000  0.000000   \n",
       "2  0.00000   0.0   0.0     0.0  0.000000  0.0        0.0  0.00000  0.000000   \n",
       "3  0.66983   0.0   0.0     0.0  0.000000  0.0        0.0  0.00000  0.000000   \n",
       "4  0.00000   0.0   0.0     0.0  0.000000  0.0        0.0  0.63401  0.597541   \n",
       "\n",
       "   even  ...  set  thing  time       use      used  using  well      work  \\\n",
       "0   0.0  ...  0.0    0.0   0.0  0.000000  0.000000    0.0   0.0  0.000000   \n",
       "1   0.0  ...  0.0    0.0   0.0  0.000000  0.000000    0.0   0.0  0.000000   \n",
       "2   0.0  ...  0.0    0.0   0.0  0.000000  0.760549    0.0   0.0  0.000000   \n",
       "3   0.0  ...  0.0    0.0   0.0  0.000000  0.138623    0.0   0.0  0.194986   \n",
       "4   0.0  ...  0.0    0.0   0.0  0.490893  0.000000    0.0   0.0  0.000000   \n",
       "\n",
       "   would  year  \n",
       "0    0.0   0.0  \n",
       "1    0.0   0.0  \n",
       "2    0.0   0.0  \n",
       "3    0.0   0.0  \n",
       "4    0.0   0.0  \n",
       "\n",
       "[5 rows x 50 columns]"
      ]
     },
     "execution_count": 12,
     "metadata": {},
     "output_type": "execute_result"
    }
   ],
   "source": [
    "tfidf_model = TfidfVectorizer(max_features=50)\n",
    "tfidf_df = pd.DataFrame(tfidf_model.fit_transform(reviewdata['cleaned_review']).todense())\n",
    "tfidf_df.columns = sorted(tfidf_model.vocabulary_)\n",
    "tfidf_df.head()"
   ]
  },
  {
   "cell_type": "markdown",
   "metadata": {},
   "source": [
    "Next, we will combine this model with important features from the original dataset such as review_length, star_ratings etc."
   ]
  },
  {
   "cell_type": "code",
   "execution_count": 13,
   "metadata": {},
   "outputs": [],
   "source": [
    "df2=reviewdata.drop(columns=['helpful_votes_ratio','classified_review','review_body','product_title','total_votes','helpful_votes','cleaned_review'])"
   ]
  },
  {
   "cell_type": "code",
   "execution_count": 14,
   "metadata": {},
   "outputs": [],
   "source": [
    "df2=pd.concat([tfidf_df, df2], axis=1)"
   ]
  },
  {
   "cell_type": "code",
   "execution_count": 15,
   "metadata": {},
   "outputs": [
    {
     "data": {
      "text/html": [
       "<div>\n",
       "<style scoped>\n",
       "    .dataframe tbody tr th:only-of-type {\n",
       "        vertical-align: middle;\n",
       "    }\n",
       "\n",
       "    .dataframe tbody tr th {\n",
       "        vertical-align: top;\n",
       "    }\n",
       "\n",
       "    .dataframe thead th {\n",
       "        text-align: right;\n",
       "    }\n",
       "</style>\n",
       "<table border=\"1\" class=\"dataframe\">\n",
       "  <thead>\n",
       "    <tr style=\"text-align: right;\">\n",
       "      <th></th>\n",
       "      <th>34</th>\n",
       "      <th>also</th>\n",
       "      <th>back</th>\n",
       "      <th>bought</th>\n",
       "      <th>br</th>\n",
       "      <th>buy</th>\n",
       "      <th>cartridge</th>\n",
       "      <th>color</th>\n",
       "      <th>easy</th>\n",
       "      <th>even</th>\n",
       "      <th>...</th>\n",
       "      <th>well</th>\n",
       "      <th>work</th>\n",
       "      <th>would</th>\n",
       "      <th>year</th>\n",
       "      <th>star_rating</th>\n",
       "      <th>review_length</th>\n",
       "      <th>arrange_product_id</th>\n",
       "      <th>arrange_product_title</th>\n",
       "      <th>arrange_product_parent</th>\n",
       "      <th>arrange_customer_id</th>\n",
       "    </tr>\n",
       "  </thead>\n",
       "  <tbody>\n",
       "    <tr>\n",
       "      <th>0</th>\n",
       "      <td>0.00000</td>\n",
       "      <td>0.0</td>\n",
       "      <td>0.0</td>\n",
       "      <td>0.0</td>\n",
       "      <td>0.000000</td>\n",
       "      <td>0.0</td>\n",
       "      <td>0.0</td>\n",
       "      <td>0.00000</td>\n",
       "      <td>0.000000</td>\n",
       "      <td>0.0</td>\n",
       "      <td>...</td>\n",
       "      <td>0.0</td>\n",
       "      <td>0.000000</td>\n",
       "      <td>0.0</td>\n",
       "      <td>0.0</td>\n",
       "      <td>5</td>\n",
       "      <td>14</td>\n",
       "      <td>783255.0</td>\n",
       "      <td>696893.0</td>\n",
       "      <td>696055.0</td>\n",
       "      <td>1015876.0</td>\n",
       "    </tr>\n",
       "    <tr>\n",
       "      <th>1</th>\n",
       "      <td>0.00000</td>\n",
       "      <td>0.0</td>\n",
       "      <td>0.0</td>\n",
       "      <td>0.0</td>\n",
       "      <td>0.516693</td>\n",
       "      <td>0.0</td>\n",
       "      <td>0.0</td>\n",
       "      <td>0.00000</td>\n",
       "      <td>0.000000</td>\n",
       "      <td>0.0</td>\n",
       "      <td>...</td>\n",
       "      <td>0.0</td>\n",
       "      <td>0.000000</td>\n",
       "      <td>0.0</td>\n",
       "      <td>0.0</td>\n",
       "      <td>5</td>\n",
       "      <td>155</td>\n",
       "      <td>1964694.0</td>\n",
       "      <td>1881711.0</td>\n",
       "      <td>1885670.0</td>\n",
       "      <td>1801693.0</td>\n",
       "    </tr>\n",
       "    <tr>\n",
       "      <th>2</th>\n",
       "      <td>0.00000</td>\n",
       "      <td>0.0</td>\n",
       "      <td>0.0</td>\n",
       "      <td>0.0</td>\n",
       "      <td>0.000000</td>\n",
       "      <td>0.0</td>\n",
       "      <td>0.0</td>\n",
       "      <td>0.00000</td>\n",
       "      <td>0.000000</td>\n",
       "      <td>0.0</td>\n",
       "      <td>...</td>\n",
       "      <td>0.0</td>\n",
       "      <td>0.000000</td>\n",
       "      <td>0.0</td>\n",
       "      <td>0.0</td>\n",
       "      <td>5</td>\n",
       "      <td>47</td>\n",
       "      <td>554316.0</td>\n",
       "      <td>499073.0</td>\n",
       "      <td>500576.0</td>\n",
       "      <td>548574.0</td>\n",
       "    </tr>\n",
       "    <tr>\n",
       "      <th>3</th>\n",
       "      <td>0.66983</td>\n",
       "      <td>0.0</td>\n",
       "      <td>0.0</td>\n",
       "      <td>0.0</td>\n",
       "      <td>0.000000</td>\n",
       "      <td>0.0</td>\n",
       "      <td>0.0</td>\n",
       "      <td>0.00000</td>\n",
       "      <td>0.000000</td>\n",
       "      <td>0.0</td>\n",
       "      <td>...</td>\n",
       "      <td>0.0</td>\n",
       "      <td>0.194986</td>\n",
       "      <td>0.0</td>\n",
       "      <td>0.0</td>\n",
       "      <td>1</td>\n",
       "      <td>735</td>\n",
       "      <td>2150992.0</td>\n",
       "      <td>2099828.0</td>\n",
       "      <td>2103291.0</td>\n",
       "      <td>719312.0</td>\n",
       "    </tr>\n",
       "    <tr>\n",
       "      <th>4</th>\n",
       "      <td>0.00000</td>\n",
       "      <td>0.0</td>\n",
       "      <td>0.0</td>\n",
       "      <td>0.0</td>\n",
       "      <td>0.000000</td>\n",
       "      <td>0.0</td>\n",
       "      <td>0.0</td>\n",
       "      <td>0.63401</td>\n",
       "      <td>0.597541</td>\n",
       "      <td>0.0</td>\n",
       "      <td>...</td>\n",
       "      <td>0.0</td>\n",
       "      <td>0.000000</td>\n",
       "      <td>0.0</td>\n",
       "      <td>0.0</td>\n",
       "      <td>4</td>\n",
       "      <td>31</td>\n",
       "      <td>1460506.0</td>\n",
       "      <td>1848076.0</td>\n",
       "      <td>1845831.0</td>\n",
       "      <td>103335.0</td>\n",
       "    </tr>\n",
       "  </tbody>\n",
       "</table>\n",
       "<p>5 rows × 56 columns</p>\n",
       "</div>"
      ],
      "text/plain": [
       "        34  also  back  bought        br  buy  cartridge    color      easy  \\\n",
       "0  0.00000   0.0   0.0     0.0  0.000000  0.0        0.0  0.00000  0.000000   \n",
       "1  0.00000   0.0   0.0     0.0  0.516693  0.0        0.0  0.00000  0.000000   \n",
       "2  0.00000   0.0   0.0     0.0  0.000000  0.0        0.0  0.00000  0.000000   \n",
       "3  0.66983   0.0   0.0     0.0  0.000000  0.0        0.0  0.00000  0.000000   \n",
       "4  0.00000   0.0   0.0     0.0  0.000000  0.0        0.0  0.63401  0.597541   \n",
       "\n",
       "   even  ...  well      work  would  year  star_rating  review_length  \\\n",
       "0   0.0  ...   0.0  0.000000    0.0   0.0            5             14   \n",
       "1   0.0  ...   0.0  0.000000    0.0   0.0            5            155   \n",
       "2   0.0  ...   0.0  0.000000    0.0   0.0            5             47   \n",
       "3   0.0  ...   0.0  0.194986    0.0   0.0            1            735   \n",
       "4   0.0  ...   0.0  0.000000    0.0   0.0            4             31   \n",
       "\n",
       "   arrange_product_id  arrange_product_title  arrange_product_parent  \\\n",
       "0            783255.0               696893.0                696055.0   \n",
       "1           1964694.0              1881711.0               1885670.0   \n",
       "2            554316.0               499073.0                500576.0   \n",
       "3           2150992.0              2099828.0               2103291.0   \n",
       "4           1460506.0              1848076.0               1845831.0   \n",
       "\n",
       "   arrange_customer_id  \n",
       "0            1015876.0  \n",
       "1            1801693.0  \n",
       "2             548574.0  \n",
       "3             719312.0  \n",
       "4             103335.0  \n",
       "\n",
       "[5 rows x 56 columns]"
      ]
     },
     "execution_count": 15,
     "metadata": {},
     "output_type": "execute_result"
    }
   ],
   "source": [
    "df2.head()"
   ]
  },
  {
   "cell_type": "code",
   "execution_count": 51,
   "metadata": {},
   "outputs": [],
   "source": [
    "X_train, X_test, y_train, y_test = train_test_split(df2, \n",
    "                                                    reviewdata.classified_review, test_size=0.3, \n",
    "                                                    random_state=47)"
   ]
  },
  {
   "cell_type": "code",
   "execution_count": 17,
   "metadata": {},
   "outputs": [
    {
     "data": {
      "text/plain": [
       "0    1182572\n",
       "1     396515\n",
       "Name: classified_review, dtype: int64"
      ]
     },
     "execution_count": 17,
     "metadata": {},
     "output_type": "execute_result"
    }
   ],
   "source": [
    "y_train.value_counts()"
   ]
  },
  {
   "cell_type": "code",
   "execution_count": 18,
   "metadata": {},
   "outputs": [
    {
     "data": {
      "image/png": "[encoded data removed]",
      "text/plain": [
       "<Figure size 432x288 with 1 Axes>"
      ]
     },
     "metadata": {},
     "output_type": "display_data"
    }
   ],
   "source": [
    "ax = sns.histplot(y_train, binwidth=0.5)\n",
    "ax.set( xlabel='Normal classified Review')\n",
    "plt.ylim([0,1200000])\n",
    "plt.savefig(\"Classified_review_histogram_normal.png\", bbox_inches=\"tight\")\n",
    "plt.show()"
   ]
  },
  {
   "cell_type": "markdown",
   "metadata": {},
   "source": [
    "This shows that the reviews that are worthless dominate the whole data. To balance this, we will down-sample the bad review."
   ]
  },
  {
   "cell_type": "code",
   "execution_count": 52,
   "metadata": {},
   "outputs": [],
   "source": [
    "scaler = StandardScaler()\n",
    "scaler.fit(X_train)\n",
    "X_train = pd.DataFrame(scaler.transform(X_train))\n",
    "X_train.columns=df2.columns\n",
    "X_test = pd.DataFrame(scaler.transform(X_test))\n",
    "X_test.columns=df2.columns\n",
    "y_train.reset_index(drop=True, inplace=True)\n",
    "y_test.reset_index(drop=True, inplace=True)"
   ]
  },
  {
   "cell_type": "code",
   "execution_count": 53,
   "metadata": {},
   "outputs": [],
   "source": [
    "from sklearn.utils import resample\n",
    "train_data = pd.concat([X_train, y_train], axis=1)\n",
    "negative = train_data[train_data['classified_review']==0]\n",
    "positive = train_data[train_data['classified_review']==1]\n",
    "neg_downsampled = resample(negative,replace=True,n_samples=len(positive),random_state=21)\n",
    "downsampled = pd.concat([positive, neg_downsampled])\n"
   ]
  },
  {
   "cell_type": "code",
   "execution_count": 54,
   "metadata": {},
   "outputs": [],
   "source": [
    "y_train=downsampled.classified_review\n",
    "X_train=downsampled.drop(columns='classified_review')"
   ]
  },
  {
   "cell_type": "markdown",
   "metadata": {},
   "source": [
    "Now we can start modeling the training set. Let's first try Logistic Regression."
   ]
  },
  {
   "cell_type": "code",
   "execution_count": 25,
   "metadata": {},
   "outputs": [
    {
     "name": "stdout",
     "output_type": "stream",
     "text": [
      "confusion matrix: \n",
      " [[253943 253314]\n",
      " [ 84709  84786]]\n",
      "\n",
      "accuracy:  0.5005216090975719\n",
      "\n",
      "classification report: \n",
      "               precision    recall  f1-score   support\n",
      "\n",
      "           0       0.75      0.50      0.60    507257\n",
      "           1       0.25      0.50      0.33    169495\n",
      "\n",
      "    accuracy                           0.50    676752\n",
      "   macro avg       0.50      0.50      0.47    676752\n",
      "weighted avg       0.62      0.50      0.53    676752\n",
      "\n",
      "\n",
      "Area under ROC curve for validation set: 0.4991063006197509\n"
     ]
    },
    {
     "data": {
      "image/png": "[encoded data removed]",
      "text/plain": [
       "<Figure size 432x432 with 1 Axes>"
      ]
     },
     "metadata": {},
     "output_type": "display_data"
    }
   ],
   "source": [
    "dcs = DummyClassifier(strategy='stratified')\n",
    "results = clf_model(dcs, X_train, y_train, X_test)\n",
    "dcs_accuracy=accuracy_score(y_test,results[0])\n",
    "dcs_f1=f1_score(y_test,results[0])\n",
    "model_evaluation(y_test, results[0], results[1])\n",
    "model_dcs=results[2]"
   ]
  },
  {
   "cell_type": "code",
   "execution_count": 26,
   "metadata": {},
   "outputs": [
    {
     "name": "stdout",
     "output_type": "stream",
     "text": [
      "confusion matrix: \n",
      " [[360651 146606]\n",
      " [ 66791 102704]]\n",
      "\n",
      "accuracy:  0.6846747405253327\n",
      "\n",
      "classification report: \n",
      "               precision    recall  f1-score   support\n",
      "\n",
      "           0       0.84      0.71      0.77    507257\n",
      "           1       0.41      0.61      0.49    169495\n",
      "\n",
      "    accuracy                           0.68    676752\n",
      "   macro avg       0.63      0.66      0.63    676752\n",
      "weighted avg       0.74      0.68      0.70    676752\n",
      "\n",
      "\n",
      "Area under ROC curve for validation set: 0.7247705779175934\n"
     ]
    },
    {
     "data": {
      "image/png": "[encoded data removed]",
      "text/plain": [
       "<Figure size 432x432 with 1 Axes>"
      ]
     },
     "metadata": {},
     "output_type": "display_data"
    }
   ],
   "source": [
    "from sklearn.linear_model import LogisticRegression\n",
    "logreg = LogisticRegression()\n",
    "results = clf_model(logreg, X_train, y_train, X_test)\n",
    "logreg_accuracy=accuracy_score(y_test,results[0])\n",
    "logreg_f1=f1_score(y_test,results[0])\n",
    "model_evaluation(y_test, results[0], results[1])\n",
    "model_logreg=results[2]"
   ]
  },
  {
   "cell_type": "code",
   "execution_count": 27,
   "metadata": {},
   "outputs": [
    {
     "name": "stdout",
     "output_type": "stream",
     "text": [
      "[0.72038407 0.72187378 0.72327876 0.72186058 0.72163767]\n",
      "Mean cross validation test score: 0.7218069724868458\n",
      "Mean cross validation train score: 0.7264299718504004\n",
      "Standard deviation in cv test scores: 0.0009194344516136567\n"
     ]
    }
   ],
   "source": [
    "from sklearn.model_selection import cross_val_score\n",
    "\n",
    "cv_scores_test= cross_val_score(logreg,X_test,y_test,cv=5,scoring='roc_auc')\n",
    "cv_scores_train= cross_val_score(logreg,X_train,y_train,cv=5,scoring='roc_auc')\n",
    "print(cv_scores_test)\n",
    "cv_scores_lr_test= cv_scores_test.mean()\n",
    "cv_scores_lr_train= cv_scores_train.mean()\n",
    "cv_scores_std_test_lr= cv_scores_test.std()\n",
    "print ('Mean cross validation test score: ' +str(cv_scores_lr_test))\n",
    "print ('Mean cross validation train score: ' +str(cv_scores_lr_train))\n",
    "print ('Standard deviation in cv test scores: ' +str(cv_scores_std_test_lr))"
   ]
  },
  {
   "cell_type": "markdown",
   "metadata": {},
   "source": [
    "Now, let's try RandomForest."
   ]
  },
  {
   "cell_type": "code",
   "execution_count": 28,
   "metadata": {},
   "outputs": [
    {
     "name": "stdout",
     "output_type": "stream",
     "text": [
      "confusion matrix: \n",
      " [[332057 175200]\n",
      " [ 55464 114031]]\n",
      "\n",
      "accuracy:  0.6591602241293709\n",
      "\n",
      "classification report: \n",
      "               precision    recall  f1-score   support\n",
      "\n",
      "           0       0.86      0.65      0.74    507257\n",
      "           1       0.39      0.67      0.50    169495\n",
      "\n",
      "    accuracy                           0.66    676752\n",
      "   macro avg       0.63      0.66      0.62    676752\n",
      "weighted avg       0.74      0.66      0.68    676752\n",
      "\n",
      "\n",
      "Area under ROC curve for validation set: 0.7244860698273822\n"
     ]
    },
    {
     "data": {
      "image/png": "[encoded data removed]",
      "text/plain": [
       "<Figure size 432x432 with 1 Axes>"
      ]
     },
     "metadata": {},
     "output_type": "display_data"
    }
   ],
   "source": [
    "from sklearn.ensemble import RandomForestClassifier \n",
    "rfc = RandomForestClassifier(n_estimators=20,max_depth=4,max_features='sqrt',random_state=1)\n",
    "results = clf_model(rfc, X_train, y_train, X_test)\n",
    "rfc_accuracy=accuracy_score(y_test,results[0])\n",
    "rfc_f1=f1_score(y_test,results[0])\n",
    "model_evaluation(y_test, results[0], results[1])\n",
    "model_rfc=results[2]"
   ]
  },
  {
   "cell_type": "code",
   "execution_count": 29,
   "metadata": {},
   "outputs": [
    {
     "name": "stdout",
     "output_type": "stream",
     "text": [
      "[0.72485879 0.72545951 0.72424667 0.72335373 0.72396363]\n",
      "Mean cross validation test score: 0.7243764669189676\n",
      "Mean cross validation train score: 0.7268313853858956\n",
      "Standard deviation in cv test scores: 0.0007264827639875706\n"
     ]
    }
   ],
   "source": [
    "from sklearn.model_selection import cross_val_score\n",
    "\n",
    "cv_scores_test= cross_val_score(rfc,X_test,y_test,cv=5,scoring='roc_auc')\n",
    "cv_scores_train= cross_val_score(rfc,X_train,y_train,cv=5,scoring='roc_auc')\n",
    "print(cv_scores_test)\n",
    "cv_scores_rfc_test= cv_scores_test.mean()\n",
    "cv_scores_rfc_train= cv_scores_train.mean()\n",
    "cv_scores_std_test_rfc= cv_scores_test.std()\n",
    "print ('Mean cross validation test score: ' +str(cv_scores_rfc_test))\n",
    "print ('Mean cross validation train score: ' +str(cv_scores_rfc_train))\n",
    "print ('Standard deviation in cv test scores: ' +str(cv_scores_std_test_rfc))"
   ]
  },
  {
   "cell_type": "code",
   "execution_count": 30,
   "metadata": {},
   "outputs": [
    {
     "data": {
      "text/html": [
       "<div>\n",
       "<style scoped>\n",
       "    .dataframe tbody tr th:only-of-type {\n",
       "        vertical-align: middle;\n",
       "    }\n",
       "\n",
       "    .dataframe tbody tr th {\n",
       "        vertical-align: top;\n",
       "    }\n",
       "\n",
       "    .dataframe thead th {\n",
       "        text-align: right;\n",
       "    }\n",
       "</style>\n",
       "<table border=\"1\" class=\"dataframe\">\n",
       "  <thead>\n",
       "    <tr style=\"text-align: right;\">\n",
       "      <th></th>\n",
       "      <th>word</th>\n",
       "      <th>importance</th>\n",
       "    </tr>\n",
       "  </thead>\n",
       "  <tbody>\n",
       "    <tr>\n",
       "      <th>51</th>\n",
       "      <td>review_length</td>\n",
       "      <td>0.381755</td>\n",
       "    </tr>\n",
       "    <tr>\n",
       "      <th>26</th>\n",
       "      <td>one</td>\n",
       "      <td>0.098257</td>\n",
       "    </tr>\n",
       "    <tr>\n",
       "      <th>9</th>\n",
       "      <td>even</td>\n",
       "      <td>0.054728</td>\n",
       "    </tr>\n",
       "    <tr>\n",
       "      <th>43</th>\n",
       "      <td>use</td>\n",
       "      <td>0.047962</td>\n",
       "    </tr>\n",
       "    <tr>\n",
       "      <th>17</th>\n",
       "      <td>like</td>\n",
       "      <td>0.046129</td>\n",
       "    </tr>\n",
       "    <tr>\n",
       "      <th>11</th>\n",
       "      <td>get</td>\n",
       "      <td>0.043362</td>\n",
       "    </tr>\n",
       "    <tr>\n",
       "      <th>53</th>\n",
       "      <td>arrange_product_title</td>\n",
       "      <td>0.039600</td>\n",
       "    </tr>\n",
       "    <tr>\n",
       "      <th>48</th>\n",
       "      <td>would</td>\n",
       "      <td>0.039192</td>\n",
       "    </tr>\n",
       "    <tr>\n",
       "      <th>1</th>\n",
       "      <td>also</td>\n",
       "      <td>0.034393</td>\n",
       "    </tr>\n",
       "    <tr>\n",
       "      <th>52</th>\n",
       "      <td>arrange_product_id</td>\n",
       "      <td>0.030150</td>\n",
       "    </tr>\n",
       "    <tr>\n",
       "      <th>2</th>\n",
       "      <td>back</td>\n",
       "      <td>0.027042</td>\n",
       "    </tr>\n",
       "    <tr>\n",
       "      <th>54</th>\n",
       "      <td>arrange_product_parent</td>\n",
       "      <td>0.026069</td>\n",
       "    </tr>\n",
       "    <tr>\n",
       "      <th>50</th>\n",
       "      <td>star_rating</td>\n",
       "      <td>0.025379</td>\n",
       "    </tr>\n",
       "    <tr>\n",
       "      <th>4</th>\n",
       "      <td>br</td>\n",
       "      <td>0.021217</td>\n",
       "    </tr>\n",
       "    <tr>\n",
       "      <th>28</th>\n",
       "      <td>paper</td>\n",
       "      <td>0.020882</td>\n",
       "    </tr>\n",
       "    <tr>\n",
       "      <th>14</th>\n",
       "      <td>great</td>\n",
       "      <td>0.018488</td>\n",
       "    </tr>\n",
       "    <tr>\n",
       "      <th>45</th>\n",
       "      <td>using</td>\n",
       "      <td>0.010151</td>\n",
       "    </tr>\n",
       "    <tr>\n",
       "      <th>42</th>\n",
       "      <td>time</td>\n",
       "      <td>0.008711</td>\n",
       "    </tr>\n",
       "    <tr>\n",
       "      <th>41</th>\n",
       "      <td>thing</td>\n",
       "      <td>0.007555</td>\n",
       "    </tr>\n",
       "    <tr>\n",
       "      <th>21</th>\n",
       "      <td>make</td>\n",
       "      <td>0.006369</td>\n",
       "    </tr>\n",
       "  </tbody>\n",
       "</table>\n",
       "</div>"
      ],
      "text/plain": [
       "                      word  importance\n",
       "51           review_length    0.381755\n",
       "26                     one    0.098257\n",
       "9                     even    0.054728\n",
       "43                     use    0.047962\n",
       "17                    like    0.046129\n",
       "11                     get    0.043362\n",
       "53   arrange_product_title    0.039600\n",
       "48                   would    0.039192\n",
       "1                     also    0.034393\n",
       "52      arrange_product_id    0.030150\n",
       "2                     back    0.027042\n",
       "54  arrange_product_parent    0.026069\n",
       "50             star_rating    0.025379\n",
       "4                       br    0.021217\n",
       "28                   paper    0.020882\n",
       "14                   great    0.018488\n",
       "45                   using    0.010151\n",
       "42                    time    0.008711\n",
       "41                   thing    0.007555\n",
       "21                    make    0.006369"
      ]
     },
     "execution_count": 30,
     "metadata": {},
     "output_type": "execute_result"
    }
   ],
   "source": [
    "word_importances = pd.DataFrame({'word':df2.columns,'importance':model_rfc.feature_importances_})\n",
    "word_importances.sort_values('importance', ascending = False).head(20)"
   ]
  },
  {
   "cell_type": "markdown",
   "metadata": {},
   "source": [
    "Let's try Gradient Bootsting."
   ]
  },
  {
   "cell_type": "code",
   "execution_count": 31,
   "metadata": {},
   "outputs": [
    {
     "name": "stdout",
     "output_type": "stream",
     "text": [
      "[19:47:50] WARNING: D:\\bld\\xgboost-split_1634712635879\\work\\src\\learner.cc:1115: Starting in XGBoost 1.3.0, the default evaluation metric used with the objective 'binary:logistic' was changed from 'error' to 'logloss'. Explicitly set eval_metric if you'd like to restore the old behavior.\n",
      "confusion matrix: \n",
      " [[333910 173347]\n",
      " [ 52762 116733]]\n",
      "\n",
      "accuracy:  0.6658909024280681\n",
      "\n",
      "classification report: \n",
      "               precision    recall  f1-score   support\n",
      "\n",
      "           0       0.86      0.66      0.75    507257\n",
      "           1       0.40      0.69      0.51    169495\n",
      "\n",
      "    accuracy                           0.67    676752\n",
      "   macro avg       0.63      0.67      0.63    676752\n",
      "weighted avg       0.75      0.67      0.69    676752\n",
      "\n",
      "\n",
      "Area under ROC curve for validation set: 0.7396020195973956\n"
     ]
    },
    {
     "data": {
      "image/png": "[encoded data removed]",
      "text/plain": [
       "<Figure size 432x432 with 1 Axes>"
      ]
     },
     "metadata": {},
     "output_type": "display_data"
    }
   ],
   "source": [
    "from xgboost import XGBClassifier\n",
    "xgb_clf=XGBClassifier(n_estimators=20,learning_rate=0.03,max_depth=5,subsample=0.6,colsample_bytree= 0.6,reg_alpha= 10,seed=42)\n",
    "results = clf_model(xgb_clf, X_train, y_train, X_test)\n",
    "xgb_accuracy=accuracy_score(y_test,results[0])\n",
    "xgb_f1=f1_score(y_test,results[0])\n",
    "model_evaluation(y_test, results[0], results[1])\n",
    "model_xgb=results[2]"
   ]
  },
  {
   "cell_type": "code",
   "execution_count": 32,
   "metadata": {},
   "outputs": [
    {
     "name": "stdout",
     "output_type": "stream",
     "text": [
      "[19:47:59] WARNING: D:\\bld\\xgboost-split_1634712635879\\work\\src\\learner.cc:1115: Starting in XGBoost 1.3.0, the default evaluation metric used with the objective 'binary:logistic' was changed from 'error' to 'logloss'. Explicitly set eval_metric if you'd like to restore the old behavior.\n",
      "[19:48:04] WARNING: D:\\bld\\xgboost-split_1634712635879\\work\\src\\learner.cc:1115: Starting in XGBoost 1.3.0, the default evaluation metric used with the objective 'binary:logistic' was changed from 'error' to 'logloss'. Explicitly set eval_metric if you'd like to restore the old behavior.\n",
      "[19:48:08] WARNING: D:\\bld\\xgboost-split_1634712635879\\work\\src\\learner.cc:1115: Starting in XGBoost 1.3.0, the default evaluation metric used with the objective 'binary:logistic' was changed from 'error' to 'logloss'. Explicitly set eval_metric if you'd like to restore the old behavior.\n",
      "[19:48:13] WARNING: D:\\bld\\xgboost-split_1634712635879\\work\\src\\learner.cc:1115: Starting in XGBoost 1.3.0, the default evaluation metric used with the objective 'binary:logistic' was changed from 'error' to 'logloss'. Explicitly set eval_metric if you'd like to restore the old behavior.\n",
      "[19:48:18] WARNING: D:\\bld\\xgboost-split_1634712635879\\work\\src\\learner.cc:1115: Starting in XGBoost 1.3.0, the default evaluation metric used with the objective 'binary:logistic' was changed from 'error' to 'logloss'. Explicitly set eval_metric if you'd like to restore the old behavior.\n",
      "[19:48:23] WARNING: D:\\bld\\xgboost-split_1634712635879\\work\\src\\learner.cc:1115: Starting in XGBoost 1.3.0, the default evaluation metric used with the objective 'binary:logistic' was changed from 'error' to 'logloss'. Explicitly set eval_metric if you'd like to restore the old behavior.\n",
      "[19:48:29] WARNING: D:\\bld\\xgboost-split_1634712635879\\work\\src\\learner.cc:1115: Starting in XGBoost 1.3.0, the default evaluation metric used with the objective 'binary:logistic' was changed from 'error' to 'logloss'. Explicitly set eval_metric if you'd like to restore the old behavior.\n",
      "[19:48:35] WARNING: D:\\bld\\xgboost-split_1634712635879\\work\\src\\learner.cc:1115: Starting in XGBoost 1.3.0, the default evaluation metric used with the objective 'binary:logistic' was changed from 'error' to 'logloss'. Explicitly set eval_metric if you'd like to restore the old behavior.\n",
      "[19:48:40] WARNING: D:\\bld\\xgboost-split_1634712635879\\work\\src\\learner.cc:1115: Starting in XGBoost 1.3.0, the default evaluation metric used with the objective 'binary:logistic' was changed from 'error' to 'logloss'. Explicitly set eval_metric if you'd like to restore the old behavior.\n",
      "[19:48:46] WARNING: D:\\bld\\xgboost-split_1634712635879\\work\\src\\learner.cc:1115: Starting in XGBoost 1.3.0, the default evaluation metric used with the objective 'binary:logistic' was changed from 'error' to 'logloss'. Explicitly set eval_metric if you'd like to restore the old behavior.\n",
      "[0.73934378 0.74163285 0.73914369 0.73770399 0.73731001]\n",
      "Mean cross validation test score: 0.7390268638308699\n",
      "Mean cross validation train score: 0.7406491399164798\n",
      "Standard deviation in cv test scores: 0.0015233432951199076\n"
     ]
    }
   ],
   "source": [
    "cv_scores_test= cross_val_score(xgb_clf,X_test,y_test,cv=5,scoring='roc_auc')\n",
    "cv_scores_train= cross_val_score(xgb_clf,X_train,y_train,cv=5,scoring='roc_auc')\n",
    "print(cv_scores_test)\n",
    "cv_scores_xgb_test= cv_scores_test.mean()\n",
    "cv_scores_xgb_train= cv_scores_train.mean()\n",
    "cv_scores_std_test_xgb= cv_scores_test.std()\n",
    "print ('Mean cross validation test score: ' +str(cv_scores_xgb_test))\n",
    "print ('Mean cross validation train score: ' +str(cv_scores_xgb_train))\n",
    "print ('Standard deviation in cv test scores: ' +str(cv_scores_std_test_xgb))"
   ]
  },
  {
   "cell_type": "code",
   "execution_count": 33,
   "metadata": {},
   "outputs": [
    {
     "data": {
      "text/html": [
       "<div>\n",
       "<style scoped>\n",
       "    .dataframe tbody tr th:only-of-type {\n",
       "        vertical-align: middle;\n",
       "    }\n",
       "\n",
       "    .dataframe tbody tr th {\n",
       "        vertical-align: top;\n",
       "    }\n",
       "\n",
       "    .dataframe thead th {\n",
       "        text-align: right;\n",
       "    }\n",
       "</style>\n",
       "<table border=\"1\" class=\"dataframe\">\n",
       "  <thead>\n",
       "    <tr style=\"text-align: right;\">\n",
       "      <th></th>\n",
       "      <th>word</th>\n",
       "      <th>importance</th>\n",
       "    </tr>\n",
       "  </thead>\n",
       "  <tbody>\n",
       "    <tr>\n",
       "      <th>4</th>\n",
       "      <td>br</td>\n",
       "      <td>0.221614</td>\n",
       "    </tr>\n",
       "    <tr>\n",
       "      <th>51</th>\n",
       "      <td>review_length</td>\n",
       "      <td>0.218692</td>\n",
       "    </tr>\n",
       "    <tr>\n",
       "      <th>26</th>\n",
       "      <td>one</td>\n",
       "      <td>0.095787</td>\n",
       "    </tr>\n",
       "    <tr>\n",
       "      <th>14</th>\n",
       "      <td>great</td>\n",
       "      <td>0.047620</td>\n",
       "    </tr>\n",
       "    <tr>\n",
       "      <th>31</th>\n",
       "      <td>phone</td>\n",
       "      <td>0.040927</td>\n",
       "    </tr>\n",
       "    <tr>\n",
       "      <th>40</th>\n",
       "      <td>set</td>\n",
       "      <td>0.039575</td>\n",
       "    </tr>\n",
       "    <tr>\n",
       "      <th>43</th>\n",
       "      <td>use</td>\n",
       "      <td>0.038228</td>\n",
       "    </tr>\n",
       "    <tr>\n",
       "      <th>53</th>\n",
       "      <td>arrange_product_title</td>\n",
       "      <td>0.034232</td>\n",
       "    </tr>\n",
       "    <tr>\n",
       "      <th>33</th>\n",
       "      <td>print</td>\n",
       "      <td>0.032826</td>\n",
       "    </tr>\n",
       "    <tr>\n",
       "      <th>17</th>\n",
       "      <td>like</td>\n",
       "      <td>0.028759</td>\n",
       "    </tr>\n",
       "    <tr>\n",
       "      <th>48</th>\n",
       "      <td>would</td>\n",
       "      <td>0.028616</td>\n",
       "    </tr>\n",
       "    <tr>\n",
       "      <th>52</th>\n",
       "      <td>arrange_product_id</td>\n",
       "      <td>0.028570</td>\n",
       "    </tr>\n",
       "    <tr>\n",
       "      <th>28</th>\n",
       "      <td>paper</td>\n",
       "      <td>0.022149</td>\n",
       "    </tr>\n",
       "    <tr>\n",
       "      <th>50</th>\n",
       "      <td>star_rating</td>\n",
       "      <td>0.021724</td>\n",
       "    </tr>\n",
       "    <tr>\n",
       "      <th>1</th>\n",
       "      <td>also</td>\n",
       "      <td>0.021168</td>\n",
       "    </tr>\n",
       "    <tr>\n",
       "      <th>54</th>\n",
       "      <td>arrange_product_parent</td>\n",
       "      <td>0.020911</td>\n",
       "    </tr>\n",
       "    <tr>\n",
       "      <th>11</th>\n",
       "      <td>get</td>\n",
       "      <td>0.014024</td>\n",
       "    </tr>\n",
       "    <tr>\n",
       "      <th>8</th>\n",
       "      <td>easy</td>\n",
       "      <td>0.012963</td>\n",
       "    </tr>\n",
       "    <tr>\n",
       "      <th>42</th>\n",
       "      <td>time</td>\n",
       "      <td>0.004603</td>\n",
       "    </tr>\n",
       "    <tr>\n",
       "      <th>36</th>\n",
       "      <td>product</td>\n",
       "      <td>0.003522</td>\n",
       "    </tr>\n",
       "  </tbody>\n",
       "</table>\n",
       "</div>"
      ],
      "text/plain": [
       "                      word  importance\n",
       "4                       br    0.221614\n",
       "51           review_length    0.218692\n",
       "26                     one    0.095787\n",
       "14                   great    0.047620\n",
       "31                   phone    0.040927\n",
       "40                     set    0.039575\n",
       "43                     use    0.038228\n",
       "53   arrange_product_title    0.034232\n",
       "33                   print    0.032826\n",
       "17                    like    0.028759\n",
       "48                   would    0.028616\n",
       "52      arrange_product_id    0.028570\n",
       "28                   paper    0.022149\n",
       "50             star_rating    0.021724\n",
       "1                     also    0.021168\n",
       "54  arrange_product_parent    0.020911\n",
       "11                     get    0.014024\n",
       "8                     easy    0.012963\n",
       "42                    time    0.004603\n",
       "36                 product    0.003522"
      ]
     },
     "execution_count": 33,
     "metadata": {},
     "output_type": "execute_result"
    }
   ],
   "source": [
    "word_importances = pd.DataFrame({'word':df2.columns,'importance':model_xgb.feature_importances_})\n",
    "word_importances.sort_values('importance', ascending = False).head(20)"
   ]
  },
  {
   "cell_type": "markdown",
   "metadata": {},
   "source": [
    "Let's try Naive Bayes."
   ]
  },
  {
   "cell_type": "code",
   "execution_count": 34,
   "metadata": {},
   "outputs": [
    {
     "name": "stdout",
     "output_type": "stream",
     "text": [
      "confusion matrix: \n",
      " [[329219 178038]\n",
      " [ 69820  99675]]\n",
      "\n",
      "accuracy:  0.6337535759037284\n",
      "\n",
      "classification report: \n",
      "               precision    recall  f1-score   support\n",
      "\n",
      "           0       0.83      0.65      0.73    507257\n",
      "           1       0.36      0.59      0.45    169495\n",
      "\n",
      "    accuracy                           0.63    676752\n",
      "   macro avg       0.59      0.62      0.59    676752\n",
      "weighted avg       0.71      0.63      0.66    676752\n",
      "\n",
      "\n",
      "Area under ROC curve for validation set: 0.6639027596370204\n"
     ]
    },
    {
     "data": {
      "image/png": "[encoded data removed]",
      "text/plain": [
       "<Figure size 432x432 with 1 Axes>"
      ]
     },
     "metadata": {},
     "output_type": "display_data"
    }
   ],
   "source": [
    "from sklearn.naive_bayes import GaussianNB\n",
    "nb = GaussianNB()\n",
    "results = clf_model(nb, X_train, y_train, X_test)\n",
    "nb_accuracy=accuracy_score(y_test,results[0])\n",
    "nb_f1=f1_score(y_test,results[0])\n",
    "model_evaluation(y_test, results[0], results[1])\n",
    "model_nb=results[2]"
   ]
  },
  {
   "cell_type": "code",
   "execution_count": 35,
   "metadata": {},
   "outputs": [
    {
     "name": "stdout",
     "output_type": "stream",
     "text": [
      "[0.66329955 0.66241527 0.66521584 0.66419945 0.66282541]\n",
      "Mean cross validation test score: 0.663591105594663\n",
      "Mean cross validation train score: 0.6656226335352939\n",
      "Standard deviation in cv test scores: 0.001006353781577203\n"
     ]
    }
   ],
   "source": [
    "cv_scores_test= cross_val_score(nb,X_test,y_test,cv=5,scoring='roc_auc')\n",
    "cv_scores_train= cross_val_score(nb,X_train,y_train,cv=5,scoring='roc_auc')\n",
    "print(cv_scores_test)\n",
    "cv_scores_nb_test= cv_scores_test.mean()\n",
    "cv_scores_nb_train= cv_scores_train.mean()\n",
    "cv_scores_std_test_nb= cv_scores_test.std()\n",
    "print ('Mean cross validation test score: ' +str(cv_scores_nb_test))\n",
    "print ('Mean cross validation train score: ' +str(cv_scores_nb_train))\n",
    "print ('Standard deviation in cv test scores: ' +str(cv_scores_std_test_nb))"
   ]
  },
  {
   "cell_type": "markdown",
   "metadata": {},
   "source": [
    "Let's try Linear Discriminant Analysis."
   ]
  },
  {
   "cell_type": "code",
   "execution_count": 36,
   "metadata": {},
   "outputs": [
    {
     "name": "stdout",
     "output_type": "stream",
     "text": [
      "confusion matrix: \n",
      " [[338248 169009]\n",
      " [ 62322 107173]]\n",
      "\n",
      "accuracy:  0.6581746341348086\n",
      "\n",
      "classification report: \n",
      "               precision    recall  f1-score   support\n",
      "\n",
      "           0       0.84      0.67      0.75    507257\n",
      "           1       0.39      0.63      0.48    169495\n",
      "\n",
      "    accuracy                           0.66    676752\n",
      "   macro avg       0.62      0.65      0.61    676752\n",
      "weighted avg       0.73      0.66      0.68    676752\n",
      "\n",
      "\n",
      "Area under ROC curve for validation set: 0.7084693525043793\n"
     ]
    },
    {
     "data": {
      "image/png": "[encoded data removed]",
      "text/plain": [
       "<Figure size 432x432 with 1 Axes>"
      ]
     },
     "metadata": {},
     "output_type": "display_data"
    }
   ],
   "source": [
    "from sklearn.discriminant_analysis import LinearDiscriminantAnalysis\n",
    "LDA = LinearDiscriminantAnalysis()\n",
    "results = clf_model(LDA, X_train, y_train, X_test)\n",
    "LDA_accuracy=accuracy_score(y_test,results[0])\n",
    "LDA_f1=f1_score(y_test,results[0])\n",
    "model_evaluation(y_test, results[0], results[1])\n",
    "model_LDA=results[2]"
   ]
  },
  {
   "cell_type": "code",
   "execution_count": 37,
   "metadata": {},
   "outputs": [
    {
     "name": "stdout",
     "output_type": "stream",
     "text": [
      "[0.71606999 0.71718032 0.7195546  0.71761434 0.71736058]\n",
      "Mean cross validation test score: 0.7175559658615499\n",
      "Mean cross validation train score: 0.7103228885116681\n",
      "Standard deviation in cv test scores: 0.0011300769414217889\n"
     ]
    }
   ],
   "source": [
    "cv_scores_test= cross_val_score(LDA,X_test,y_test,cv=5,scoring='roc_auc')\n",
    "cv_scores_train= cross_val_score(LDA,X_train,y_train,cv=5,scoring='roc_auc')\n",
    "print(cv_scores_test)\n",
    "cv_scores_LDA_test= cv_scores_test.mean()\n",
    "cv_scores_LDA_train= cv_scores_train.mean()\n",
    "cv_scores_std_test_LDA= cv_scores_test.std()\n",
    "print ('Mean cross validation test score: ' +str(cv_scores_LDA_test))\n",
    "print ('Mean cross validation train score: ' +str(cv_scores_LDA_train))\n",
    "print ('Standard deviation in cv test scores: ' +str(cv_scores_std_test_LDA))"
   ]
  },
  {
   "cell_type": "markdown",
   "metadata": {},
   "source": [
    "Let's compare the model performance on the test set."
   ]
  },
  {
   "cell_type": "code",
   "execution_count": 38,
   "metadata": {},
   "outputs": [
    {
     "data": {
      "text/html": [
       "<div>\n",
       "<style scoped>\n",
       "    .dataframe tbody tr th:only-of-type {\n",
       "        vertical-align: middle;\n",
       "    }\n",
       "\n",
       "    .dataframe tbody tr th {\n",
       "        vertical-align: top;\n",
       "    }\n",
       "\n",
       "    .dataframe thead th {\n",
       "        text-align: right;\n",
       "    }\n",
       "</style>\n",
       "<table border=\"1\" class=\"dataframe\">\n",
       "  <thead>\n",
       "    <tr style=\"text-align: right;\">\n",
       "      <th></th>\n",
       "      <th>Algorithm</th>\n",
       "      <th>Accucracy</th>\n",
       "      <th>F1 score</th>\n",
       "    </tr>\n",
       "  </thead>\n",
       "  <tbody>\n",
       "    <tr>\n",
       "      <th>0</th>\n",
       "      <td>Dummy Regression</td>\n",
       "      <td>0.500522</td>\n",
       "      <td>0.334069</td>\n",
       "    </tr>\n",
       "    <tr>\n",
       "      <th>1</th>\n",
       "      <td>Logistic Regression</td>\n",
       "      <td>0.684675</td>\n",
       "      <td>0.490462</td>\n",
       "    </tr>\n",
       "    <tr>\n",
       "      <th>2</th>\n",
       "      <td>Random Forest</td>\n",
       "      <td>0.659160</td>\n",
       "      <td>0.497164</td>\n",
       "    </tr>\n",
       "    <tr>\n",
       "      <th>3</th>\n",
       "      <td>Gradient Boost</td>\n",
       "      <td>0.665891</td>\n",
       "      <td>0.508004</td>\n",
       "    </tr>\n",
       "    <tr>\n",
       "      <th>4</th>\n",
       "      <td>Naive Bayes</td>\n",
       "      <td>0.633754</td>\n",
       "      <td>0.445766</td>\n",
       "    </tr>\n",
       "    <tr>\n",
       "      <th>5</th>\n",
       "      <td>Linear Discriminant Analysis</td>\n",
       "      <td>0.658175</td>\n",
       "      <td>0.480945</td>\n",
       "    </tr>\n",
       "  </tbody>\n",
       "</table>\n",
       "</div>"
      ],
      "text/plain": [
       "                      Algorithm  Accucracy  F1 score\n",
       "0              Dummy Regression   0.500522  0.334069\n",
       "1           Logistic Regression   0.684675  0.490462\n",
       "2                 Random Forest   0.659160  0.497164\n",
       "3                Gradient Boost   0.665891  0.508004\n",
       "4                   Naive Bayes   0.633754  0.445766\n",
       "5  Linear Discriminant Analysis   0.658175  0.480945"
      ]
     },
     "execution_count": 38,
     "metadata": {},
     "output_type": "execute_result"
    }
   ],
   "source": [
    "modelLabels = [ 'Dummy Regression', 'Logistic Regression','Random Forest','Gradient Boost', 'Naive Bayes','Linear Discriminant Analysis']\n",
    "score_test= [cv_scores_lr_test,cv_scores_rfc_test,cv_scores_xgb_test,cv_scores_nb_test,cv_scores_LDA_test]\n",
    "score_train= [cv_scores_lr_train,cv_scores_rfc_train,cv_scores_xgb_train,cv_scores_nb_train,cv_scores_LDA_train]\n",
    "accucracy_test= [dcs_accuracy,logreg_accuracy,rfc_accuracy,xgb_accuracy,nb_accuracy,LDA_accuracy]\n",
    "f1_test= [dcs_f1,logreg_f1,rfc_f1,xgb_f1,nb_f1,LDA_f1]\n",
    "score_tab = pd.DataFrame(list(zip(modelLabels, accucracy_test, f1_test)), \n",
    "               columns =['Algorithm', 'Accucracy', 'F1 score' ]) \n",
    "\n",
    "score_tab"
   ]
  },
  {
   "cell_type": "code",
   "execution_count": 39,
   "metadata": {},
   "outputs": [
    {
     "data": {
      "image/png": "[encoded data removed]",
      "text/plain": [
       "<Figure size 1152x576 with 1 Axes>"
      ]
     },
     "metadata": {},
     "output_type": "display_data"
    }
   ],
   "source": [
    "index1=[1,2,3,4,5,6]\n",
    "index2=[1.2,2.2,3.2,4.2,5.2,6.2]\n",
    "plt.figure(figsize=(16,8))\n",
    "plt.xlabel('Models',fontsize=16)\n",
    "plt.ylabel ('Scores',fontsize=16)\n",
    "plt.title('Comparison of the models',fontsize=16)\n",
    "_=plt.bar(index1,accucracy_test,color='b',label='Accucracy',edgecolor='k',width=0.2)\n",
    "_=plt.bar(index2,f1_test,color='r',label='F1',edgecolor='k',width=0.2)\n",
    "plt.xticks([1,2,3,4,5,6], modelLabels)\n",
    "plt.legend()\n",
    "plt.savefig(\"ModelCompare.png\")\n",
    "plt.show()"
   ]
  },
  {
   "cell_type": "markdown",
   "metadata": {},
   "source": [
    "According to this, gradient boost is the best model. Next, let's optimize this model with a GridSearchCV. "
   ]
  },
  {
   "cell_type": "code",
   "execution_count": 55,
   "metadata": {},
   "outputs": [
    {
     "name": "stdout",
     "output_type": "stream",
     "text": [
      "Fitting 2 folds for each of 24 candidates, totalling 48 fits\n"
     ]
    },
    {
     "name": "stderr",
     "output_type": "stream",
     "text": [
      "[Parallel(n_jobs=-1)]: Using backend LokyBackend with 16 concurrent workers.\n",
      "[Parallel(n_jobs=-1)]: Done  48 out of  48 | elapsed:  5.3min finished\n"
     ]
    },
    {
     "name": "stdout",
     "output_type": "stream",
     "text": [
      "[20:08:08] WARNING: D:\\bld\\xgboost-split_1634712635879\\work\\src\\learner.cc:1115: Starting in XGBoost 1.3.0, the default evaluation metric used with the objective 'binary:logistic' was changed from 'error' to 'logloss'. Explicitly set eval_metric if you'd like to restore the old behavior.\n",
      "XGBClassifier(base_score=0.5, booster='gbtree', colsample_bylevel=1,\n",
      "              colsample_bynode=1, colsample_bytree=0.6,\n",
      "              enable_categorical=False, gamma=0, gpu_id=-1,\n",
      "              importance_type=None, interaction_constraints='',\n",
      "              learning_rate=0.1, max_delta_step=0, max_depth=10,\n",
      "              min_child_weight=1, missing=nan, monotone_constraints='()',\n",
      "              n_estimators=60, n_jobs=16, num_parallel_tree=1, predictor='auto',\n",
      "              random_state=0, reg_alpha=1, reg_lambda=1, scale_pos_weight=1,\n",
      "              subsample=0.6, tree_method='exact', validate_parameters=1,\n",
      "              verbosity=None)\n",
      "0.7524534191135238\n"
     ]
    }
   ],
   "source": [
    "GB = XGBClassifier()\n",
    "gb_param = {\n",
    "        'n_estimators' : [20,40,60],\n",
    "        'learning_rate': [0.1, 0.03],\n",
    "        'max_depth': [5,10],\n",
    "        'subsample': [0.6],\n",
    "        'colsample_bytree': [0.6] ,\n",
    "        'reg_alpha':[0,1]\n",
    "        }\n",
    "\n",
    "gsGB = GridSearchCV(GB, param_grid = gb_param, cv=2, scoring=\"roc_auc\", n_jobs= -1, verbose = 1)\n",
    "gsGB.fit(X_train,y_train)\n",
    "print(gsGB.best_estimator_)\n",
    "print(gsGB.best_score_)"
   ]
  },
  {
   "cell_type": "code",
   "execution_count": 56,
   "metadata": {},
   "outputs": [
    {
     "name": "stdout",
     "output_type": "stream",
     "text": [
      "[20:08:49] WARNING: D:\\bld\\xgboost-split_1634712635879\\work\\src\\learner.cc:1115: Starting in XGBoost 1.3.0, the default evaluation metric used with the objective 'binary:logistic' was changed from 'error' to 'logloss'. Explicitly set eval_metric if you'd like to restore the old behavior.\n",
      "confusion matrix: \n",
      " [[330057 177200]\n",
      " [ 48777 120718]]\n",
      "\n",
      "accuracy:  0.6660859517223444\n",
      "\n",
      "classification report: \n",
      "               precision    recall  f1-score   support\n",
      "\n",
      "           0       0.87      0.65      0.74    507257\n",
      "           1       0.41      0.71      0.52    169495\n",
      "\n",
      "    accuracy                           0.67    676752\n",
      "   macro avg       0.64      0.68      0.63    676752\n",
      "weighted avg       0.75      0.67      0.69    676752\n",
      "\n",
      "\n",
      "Area under ROC curve for validation set: 0.7505762600357024\n"
     ]
    },
    {
     "data": {
      "image/png": "[encoded data removed]",
      "text/plain": [
       "<Figure size 432x432 with 1 Axes>"
      ]
     },
     "metadata": {},
     "output_type": "display_data"
    }
   ],
   "source": [
    "xgb_clf=XGBClassifier(base_score=0.5, booster='gbtree', colsample_bylevel=1,\n",
    "              colsample_bynode=1, colsample_bytree=0.6,\n",
    "              enable_categorical=False, gamma=0, gpu_id=-1,\n",
    "              importance_type=None, interaction_constraints='',\n",
    "              learning_rate=0.1, max_delta_step=0, max_depth=10,\n",
    "              min_child_weight=1, missing=nan, monotone_constraints='()',\n",
    "              n_estimators=60, n_jobs=16, num_parallel_tree=1, predictor='auto',\n",
    "              random_state=0, reg_alpha=1, reg_lambda=1, scale_pos_weight=1,\n",
    "              subsample=0.6, tree_method='exact', validate_parameters=1,\n",
    "              verbosity=None)\n",
    "results = clf_model(xgb_clf, X_train, y_train, X_test)\n",
    "xgb_accuracy=accuracy_score(y_test,results[0])\n",
    "model_evaluation(y_test, results[0], results[1])\n",
    "model_xgb=results[2]"
   ]
  },
  {
   "cell_type": "code",
   "execution_count": 57,
   "metadata": {},
   "outputs": [
    {
     "data": {
      "text/plain": [
       "0                                       Great product.\n",
       "1    What's to say about this commodity item except...\n",
       "2      Haven't used yet, but I am sure I will like it.\n",
       "3    Although this was labeled as &#34;new&#34; the...\n",
       "4                      Gorgeous colors and easy to use\n",
       "Name: review_body, dtype: object"
      ]
     },
     "execution_count": 57,
     "metadata": {},
     "output_type": "execute_result"
    }
   ],
   "source": [
    "reviewdata['review_body'].head()"
   ]
  },
  {
   "cell_type": "code",
   "execution_count": 58,
   "metadata": {},
   "outputs": [],
   "source": [
    "review_train, review_test, reviewy_train, reviewy_test = train_test_split(reviewdata.review_body, \n",
    "                                                    reviewdata.classified_review, test_size=0.3, \n",
    "                                                    random_state=47)"
   ]
  },
  {
   "cell_type": "code",
   "execution_count": 59,
   "metadata": {},
   "outputs": [],
   "source": [
    "target = pd.Series(xgb_clf.predict(X_test))\n",
    "review_content = pd.Series(review_test)\n",
    "\n",
    "output = pd.DataFrame(list(zip(review_content, target)), \n",
    "               columns =['Reviews content', 'Reviews helpful prediction']) \n",
    "\n",
    "\n",
    "\n",
    "\n",
    "output.to_csv('final_result_review.csv', index=False, header=True)"
   ]
  },
  {
   "cell_type": "code",
   "execution_count": 60,
   "metadata": {},
   "outputs": [],
   "source": [
    "from xgboost import __version__ as xgboost_version"
   ]
  },
  {
   "cell_type": "code",
   "execution_count": 61,
   "metadata": {},
   "outputs": [],
   "source": [
    "best_model = gsGB.best_estimator_\n",
    "best_model.version = '1.0'\n",
    "best_model.pandas_version = pd.__version__\n",
    "best_model.numpy_version = np.__version__\n",
    "best_model.xgboost_version = xgboost_version\n",
    "best_model.X_columns = [col for col in X_train.columns]\n",
    "best_model.build_datetime = datetime.datetime.now()"
   ]
  },
  {
   "cell_type": "code",
   "execution_count": 62,
   "metadata": {},
   "outputs": [
    {
     "name": "stdout",
     "output_type": "stream",
     "text": [
      "A file already exists with this name.\n",
      "\n",
      "Do you want to overwrite? (Y/N)Y\n",
      "Writing file.  \"../models\\Amazon_Office_Product_Helpful_Review_Classification.pkl\"\n"
     ]
    }
   ],
   "source": [
    "from library.sb_utils import save_file\n",
    "modelpath = '../models'\n",
    "save_file(best_model, 'Amazon_Office_Product_Helpful_Review_Classification.pkl', modelpath)"
   ]
  },
  {
   "cell_type": "markdown",
   "metadata": {},
   "source": [
    "# Summary: "
   ]
  },
  {
   "cell_type": "markdown",
   "metadata": {},
   "source": [
    "In this project, we have created a model to predict how useful a review is on Amazon Office Product. Because of the polarization of the reviews, we label the more helpful review as 1 with the rest as 0. Next, we consider a TFIDF model with 50 features and externals features such as the review_length, arrange_product_title etc. Next, we fit the training data with the following models: 'Logistic Regression','Random Forest','Gradient Boost', 'Naive Bayes','Linear Discriminant Analysis'. We choose the roc_auc and the recall number as metrics instead of accucracy for our evaluations because the number of useless review is much bigger than the helpful ones. With these settings, the best model is 'Gradient Boost'. We then do a GridSearchCV to find the best parameters for our model. This optimized model gives an accucravy of 0.66 and a ROC_AUC curve of 0.75."
   ]
  },
  {
   "cell_type": "markdown",
   "metadata": {},
   "source": [
    "# Future Directions:"
   ]
  },
  {
   "cell_type": "markdown",
   "metadata": {},
   "source": [
    "More advanced algorithms such as recurrent neural networks. \n",
    "\n",
    "More features such as prices and the number of people who buy the product. \n",
    "\n",
    "Token the reviews with bi-gram and tri-gram."
   ]
  }
 ],
 "metadata": {
  "kernelspec": {
   "display_name": "Python 3",
   "language": "python",
   "name": "python3"
  },
  "language_info": {
   "codemirror_mode": {
    "name": "ipython",
    "version": 3
   },
   "file_extension": ".py",
   "mimetype": "text/x-python",
   "name": "python",
   "nbconvert_exporter": "python",
   "pygments_lexer": "ipython3",
   "version": "3.8.5"
  }
 },
 "nbformat": 4,
 "nbformat_minor": 4
}
