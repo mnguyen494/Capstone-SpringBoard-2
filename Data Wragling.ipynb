{
 "cells": [
  {
   "cell_type": "code",
   "execution_count": 2,
   "metadata": {},
   "outputs": [],
   "source": [
    "import pandas as pd\n",
    "import numpy as np\n",
    "import datetime\n",
    "import matplotlib.pyplot as plt\n",
    "import os\n",
    "import matplotlib.pyplot as plt\n",
    "from library.sb_utils import save_file"
   ]
  },
  {
   "cell_type": "code",
   "execution_count": 3,
   "metadata": {},
   "outputs": [],
   "source": [
    "import warnings\n",
    "warnings.filterwarnings(\"ignore\")"
   ]
  },
  {
   "cell_type": "code",
   "execution_count": 4,
   "metadata": {},
   "outputs": [],
   "source": [
    "path='https://s3.amazonaws.com/amazon-reviews-pds/tsv/amazon_reviews_us_Office_Products_v1_00.tsv.gz'\n",
    "df=pd.read_csv(path, sep=\"\\t\", header=None,encoding='utf8',names=range(22))"
   ]
  },
  {
   "cell_type": "markdown",
   "metadata": {},
   "source": [
    "When I first read the data, there was an error saying that the numbers of columns are inconsistent across the dataframe. The number 22 in the names option is the number of max columns in the dataframe."
   ]
  },
  {
   "cell_type": "code",
   "execution_count": 5,
   "metadata": {},
   "outputs": [
    {
     "data": {
      "text/plain": [
       "(2640353, 22)"
      ]
     },
     "execution_count": 5,
     "metadata": {},
     "output_type": "execute_result"
    }
   ],
   "source": [
    "df.shape"
   ]
  },
  {
   "cell_type": "markdown",
   "metadata": {},
   "source": [
    "Let's check the data."
   ]
  },
  {
   "cell_type": "code",
   "execution_count": 6,
   "metadata": {},
   "outputs": [
    {
     "data": {
      "text/html": [
       "<div>\n",
       "<style scoped>\n",
       "    .dataframe tbody tr th:only-of-type {\n",
       "        vertical-align: middle;\n",
       "    }\n",
       "\n",
       "    .dataframe tbody tr th {\n",
       "        vertical-align: top;\n",
       "    }\n",
       "\n",
       "    .dataframe thead th {\n",
       "        text-align: right;\n",
       "    }\n",
       "</style>\n",
       "<table border=\"1\" class=\"dataframe\">\n",
       "  <thead>\n",
       "    <tr style=\"text-align: right;\">\n",
       "      <th></th>\n",
       "      <th>0</th>\n",
       "      <th>1</th>\n",
       "      <th>2</th>\n",
       "      <th>3</th>\n",
       "      <th>4</th>\n",
       "      <th>5</th>\n",
       "      <th>6</th>\n",
       "      <th>7</th>\n",
       "      <th>8</th>\n",
       "      <th>9</th>\n",
       "      <th>...</th>\n",
       "      <th>12</th>\n",
       "      <th>13</th>\n",
       "      <th>14</th>\n",
       "      <th>15</th>\n",
       "      <th>16</th>\n",
       "      <th>17</th>\n",
       "      <th>18</th>\n",
       "      <th>19</th>\n",
       "      <th>20</th>\n",
       "      <th>21</th>\n",
       "    </tr>\n",
       "  </thead>\n",
       "  <tbody>\n",
       "    <tr>\n",
       "      <th>0</th>\n",
       "      <td>marketplace</td>\n",
       "      <td>customer_id</td>\n",
       "      <td>review_id</td>\n",
       "      <td>product_id</td>\n",
       "      <td>product_parent</td>\n",
       "      <td>product_title</td>\n",
       "      <td>product_category</td>\n",
       "      <td>star_rating</td>\n",
       "      <td>helpful_votes</td>\n",
       "      <td>total_votes</td>\n",
       "      <td>...</td>\n",
       "      <td>review_headline</td>\n",
       "      <td>review_body</td>\n",
       "      <td>review_date</td>\n",
       "      <td>NaN</td>\n",
       "      <td>NaN</td>\n",
       "      <td>NaN</td>\n",
       "      <td>NaN</td>\n",
       "      <td>NaN</td>\n",
       "      <td>NaN</td>\n",
       "      <td>NaN</td>\n",
       "    </tr>\n",
       "    <tr>\n",
       "      <th>1</th>\n",
       "      <td>US</td>\n",
       "      <td>43081963</td>\n",
       "      <td>R18RVCKGH1SSI9</td>\n",
       "      <td>B001BM2MAC</td>\n",
       "      <td>307809868</td>\n",
       "      <td>Scotch Cushion Wrap 7961, 12 Inches x 100 Feet</td>\n",
       "      <td>Office Products</td>\n",
       "      <td>5</td>\n",
       "      <td>0</td>\n",
       "      <td>0</td>\n",
       "      <td>...</td>\n",
       "      <td>Five Stars</td>\n",
       "      <td>Great product.</td>\n",
       "      <td>2015-08-31</td>\n",
       "      <td>NaN</td>\n",
       "      <td>NaN</td>\n",
       "      <td>NaN</td>\n",
       "      <td>NaN</td>\n",
       "      <td>NaN</td>\n",
       "      <td>NaN</td>\n",
       "      <td>NaN</td>\n",
       "    </tr>\n",
       "    <tr>\n",
       "      <th>2</th>\n",
       "      <td>US</td>\n",
       "      <td>10951564</td>\n",
       "      <td>R3L4L6LW1PUOFY</td>\n",
       "      <td>B00DZYEXPQ</td>\n",
       "      <td>75004341</td>\n",
       "      <td>Dust-Off Compressed Gas Duster, Pack of 4</td>\n",
       "      <td>Office Products</td>\n",
       "      <td>5</td>\n",
       "      <td>0</td>\n",
       "      <td>1</td>\n",
       "      <td>...</td>\n",
       "      <td>Phffffffft, Phfffffft. Lots of air, and it's C...</td>\n",
       "      <td>What's to say about this commodity item except...</td>\n",
       "      <td>2015-08-31</td>\n",
       "      <td>NaN</td>\n",
       "      <td>NaN</td>\n",
       "      <td>NaN</td>\n",
       "      <td>NaN</td>\n",
       "      <td>NaN</td>\n",
       "      <td>NaN</td>\n",
       "      <td>NaN</td>\n",
       "    </tr>\n",
       "    <tr>\n",
       "      <th>3</th>\n",
       "      <td>US</td>\n",
       "      <td>21143145</td>\n",
       "      <td>R2J8AWXWTDX2TF</td>\n",
       "      <td>B00RTMUHDW</td>\n",
       "      <td>529689027</td>\n",
       "      <td>Amram Tagger Standard Tag Attaching Tagging Gu...</td>\n",
       "      <td>Office Products</td>\n",
       "      <td>5</td>\n",
       "      <td>0</td>\n",
       "      <td>0</td>\n",
       "      <td>...</td>\n",
       "      <td>but I am sure I will like it.</td>\n",
       "      <td>Haven't used yet, but I am sure I will like it.</td>\n",
       "      <td>2015-08-31</td>\n",
       "      <td>NaN</td>\n",
       "      <td>NaN</td>\n",
       "      <td>NaN</td>\n",
       "      <td>NaN</td>\n",
       "      <td>NaN</td>\n",
       "      <td>NaN</td>\n",
       "      <td>NaN</td>\n",
       "    </tr>\n",
       "    <tr>\n",
       "      <th>4</th>\n",
       "      <td>US</td>\n",
       "      <td>52782374</td>\n",
       "      <td>R1PR37BR7G3M6A</td>\n",
       "      <td>B00D7H8XB6</td>\n",
       "      <td>868449945</td>\n",
       "      <td>AmazonBasics 12-Sheet High-Security Micro-Cut ...</td>\n",
       "      <td>Office Products</td>\n",
       "      <td>1</td>\n",
       "      <td>2</td>\n",
       "      <td>3</td>\n",
       "      <td>...</td>\n",
       "      <td>and the shredder was dirty and the bin was par...</td>\n",
       "      <td>Although this was labeled as &amp;#34;new&amp;#34; the...</td>\n",
       "      <td>2015-08-31</td>\n",
       "      <td>NaN</td>\n",
       "      <td>NaN</td>\n",
       "      <td>NaN</td>\n",
       "      <td>NaN</td>\n",
       "      <td>NaN</td>\n",
       "      <td>NaN</td>\n",
       "      <td>NaN</td>\n",
       "    </tr>\n",
       "  </tbody>\n",
       "</table>\n",
       "<p>5 rows × 22 columns</p>\n",
       "</div>"
      ],
      "text/plain": [
       "            0            1               2           3               4   \\\n",
       "0  marketplace  customer_id       review_id  product_id  product_parent   \n",
       "1           US     43081963  R18RVCKGH1SSI9  B001BM2MAC       307809868   \n",
       "2           US     10951564  R3L4L6LW1PUOFY  B00DZYEXPQ        75004341   \n",
       "3           US     21143145  R2J8AWXWTDX2TF  B00RTMUHDW       529689027   \n",
       "4           US     52782374  R1PR37BR7G3M6A  B00D7H8XB6       868449945   \n",
       "\n",
       "                                                  5                 6   \\\n",
       "0                                      product_title  product_category   \n",
       "1     Scotch Cushion Wrap 7961, 12 Inches x 100 Feet   Office Products   \n",
       "2          Dust-Off Compressed Gas Duster, Pack of 4   Office Products   \n",
       "3  Amram Tagger Standard Tag Attaching Tagging Gu...   Office Products   \n",
       "4  AmazonBasics 12-Sheet High-Security Micro-Cut ...   Office Products   \n",
       "\n",
       "            7              8            9   ...  \\\n",
       "0  star_rating  helpful_votes  total_votes  ...   \n",
       "1            5              0            0  ...   \n",
       "2            5              0            1  ...   \n",
       "3            5              0            0  ...   \n",
       "4            1              2            3  ...   \n",
       "\n",
       "                                                  12  \\\n",
       "0                                    review_headline   \n",
       "1                                         Five Stars   \n",
       "2  Phffffffft, Phfffffft. Lots of air, and it's C...   \n",
       "3                      but I am sure I will like it.   \n",
       "4  and the shredder was dirty and the bin was par...   \n",
       "\n",
       "                                                  13           14  15  16  \\\n",
       "0                                        review_body  review_date NaN NaN   \n",
       "1                                     Great product.   2015-08-31 NaN NaN   \n",
       "2  What's to say about this commodity item except...   2015-08-31 NaN NaN   \n",
       "3    Haven't used yet, but I am sure I will like it.   2015-08-31 NaN NaN   \n",
       "4  Although this was labeled as &#34;new&#34; the...   2015-08-31 NaN NaN   \n",
       "\n",
       "    17   18   19   20   21  \n",
       "0  NaN  NaN  NaN  NaN  NaN  \n",
       "1  NaN  NaN  NaN  NaN  NaN  \n",
       "2  NaN  NaN  NaN  NaN  NaN  \n",
       "3  NaN  NaN  NaN  NaN  NaN  \n",
       "4  NaN  NaN  NaN  NaN  NaN  \n",
       "\n",
       "[5 rows x 22 columns]"
      ]
     },
     "execution_count": 6,
     "metadata": {},
     "output_type": "execute_result"
    }
   ],
   "source": [
    "df.head()"
   ]
  },
  {
   "cell_type": "markdown",
   "metadata": {},
   "source": [
    "It seems that columns 15 to 21 contain mostly null values. Let us use describe to check them. "
   ]
  },
  {
   "cell_type": "code",
   "execution_count": 7,
   "metadata": {},
   "outputs": [
    {
     "data": {
      "text/html": [
       "<div>\n",
       "<style scoped>\n",
       "    .dataframe tbody tr th:only-of-type {\n",
       "        vertical-align: middle;\n",
       "    }\n",
       "\n",
       "    .dataframe tbody tr th {\n",
       "        vertical-align: top;\n",
       "    }\n",
       "\n",
       "    .dataframe thead th {\n",
       "        text-align: right;\n",
       "    }\n",
       "</style>\n",
       "<table border=\"1\" class=\"dataframe\">\n",
       "  <thead>\n",
       "    <tr style=\"text-align: right;\">\n",
       "      <th></th>\n",
       "      <th>0</th>\n",
       "      <th>1</th>\n",
       "      <th>2</th>\n",
       "      <th>3</th>\n",
       "      <th>4</th>\n",
       "      <th>5</th>\n",
       "      <th>6</th>\n",
       "      <th>7</th>\n",
       "      <th>8</th>\n",
       "      <th>9</th>\n",
       "      <th>...</th>\n",
       "      <th>12</th>\n",
       "      <th>13</th>\n",
       "      <th>14</th>\n",
       "      <th>15</th>\n",
       "      <th>16</th>\n",
       "      <th>17</th>\n",
       "      <th>18</th>\n",
       "      <th>19</th>\n",
       "      <th>20</th>\n",
       "      <th>21</th>\n",
       "    </tr>\n",
       "  </thead>\n",
       "  <tbody>\n",
       "    <tr>\n",
       "      <th>count</th>\n",
       "      <td>2640353</td>\n",
       "      <td>2640353.0</td>\n",
       "      <td>2640353</td>\n",
       "      <td>2640353</td>\n",
       "      <td>2640353.0</td>\n",
       "      <td>2640353</td>\n",
       "      <td>2640353</td>\n",
       "      <td>2640339.0</td>\n",
       "      <td>2640336.0</td>\n",
       "      <td>2640336.0</td>\n",
       "      <td>...</td>\n",
       "      <td>2640307</td>\n",
       "      <td>2640256</td>\n",
       "      <td>2640320</td>\n",
       "      <td>98.000000</td>\n",
       "      <td>98.000000</td>\n",
       "      <td>98</td>\n",
       "      <td>98</td>\n",
       "      <td>98</td>\n",
       "      <td>98</td>\n",
       "      <td>98</td>\n",
       "    </tr>\n",
       "    <tr>\n",
       "      <th>unique</th>\n",
       "      <td>2</td>\n",
       "      <td>1796334.0</td>\n",
       "      <td>2640353</td>\n",
       "      <td>313154</td>\n",
       "      <td>292791.0</td>\n",
       "      <td>284381</td>\n",
       "      <td>19</td>\n",
       "      <td>14.0</td>\n",
       "      <td>870.0</td>\n",
       "      <td>915.0</td>\n",
       "      <td>...</td>\n",
       "      <td>1375433</td>\n",
       "      <td>2421352</td>\n",
       "      <td>5919</td>\n",
       "      <td>NaN</td>\n",
       "      <td>NaN</td>\n",
       "      <td>1</td>\n",
       "      <td>2</td>\n",
       "      <td>67</td>\n",
       "      <td>97</td>\n",
       "      <td>85</td>\n",
       "    </tr>\n",
       "    <tr>\n",
       "      <th>top</th>\n",
       "      <td>US</td>\n",
       "      <td>14587556.0</td>\n",
       "      <td>RURLHNB6O3JPI</td>\n",
       "      <td>B005QAQFFS</td>\n",
       "      <td>492022839.0</td>\n",
       "      <td>Panasonic Landline Telephone</td>\n",
       "      <td>Office Products</td>\n",
       "      <td>5.0</td>\n",
       "      <td>0.0</td>\n",
       "      <td>0.0</td>\n",
       "      <td>...</td>\n",
       "      <td>Five Stars</td>\n",
       "      <td>good</td>\n",
       "      <td>2015-02-23</td>\n",
       "      <td>NaN</td>\n",
       "      <td>NaN</td>\n",
       "      <td>N</td>\n",
       "      <td>Y</td>\n",
       "      <td>Five Stars</td>\n",
       "      <td>Good quality</td>\n",
       "      <td>2015-08-04</td>\n",
       "    </tr>\n",
       "    <tr>\n",
       "      <th>freq</th>\n",
       "      <td>2640352</td>\n",
       "      <td>478.0</td>\n",
       "      <td>1</td>\n",
       "      <td>5350</td>\n",
       "      <td>5307.0</td>\n",
       "      <td>6279</td>\n",
       "      <td>2640335</td>\n",
       "      <td>1499676.0</td>\n",
       "      <td>1769493.0</td>\n",
       "      <td>1625696.0</td>\n",
       "      <td>...</td>\n",
       "      <td>376679</td>\n",
       "      <td>5176</td>\n",
       "      <td>5049</td>\n",
       "      <td>NaN</td>\n",
       "      <td>NaN</td>\n",
       "      <td>98</td>\n",
       "      <td>93</td>\n",
       "      <td>23</td>\n",
       "      <td>2</td>\n",
       "      <td>3</td>\n",
       "    </tr>\n",
       "    <tr>\n",
       "      <th>mean</th>\n",
       "      <td>NaN</td>\n",
       "      <td>NaN</td>\n",
       "      <td>NaN</td>\n",
       "      <td>NaN</td>\n",
       "      <td>NaN</td>\n",
       "      <td>NaN</td>\n",
       "      <td>NaN</td>\n",
       "      <td>NaN</td>\n",
       "      <td>NaN</td>\n",
       "      <td>NaN</td>\n",
       "      <td>...</td>\n",
       "      <td>NaN</td>\n",
       "      <td>NaN</td>\n",
       "      <td>NaN</td>\n",
       "      <td>0.704082</td>\n",
       "      <td>0.908163</td>\n",
       "      <td>NaN</td>\n",
       "      <td>NaN</td>\n",
       "      <td>NaN</td>\n",
       "      <td>NaN</td>\n",
       "      <td>NaN</td>\n",
       "    </tr>\n",
       "    <tr>\n",
       "      <th>std</th>\n",
       "      <td>NaN</td>\n",
       "      <td>NaN</td>\n",
       "      <td>NaN</td>\n",
       "      <td>NaN</td>\n",
       "      <td>NaN</td>\n",
       "      <td>NaN</td>\n",
       "      <td>NaN</td>\n",
       "      <td>NaN</td>\n",
       "      <td>NaN</td>\n",
       "      <td>NaN</td>\n",
       "      <td>...</td>\n",
       "      <td>NaN</td>\n",
       "      <td>NaN</td>\n",
       "      <td>NaN</td>\n",
       "      <td>3.349747</td>\n",
       "      <td>3.529220</td>\n",
       "      <td>NaN</td>\n",
       "      <td>NaN</td>\n",
       "      <td>NaN</td>\n",
       "      <td>NaN</td>\n",
       "      <td>NaN</td>\n",
       "    </tr>\n",
       "    <tr>\n",
       "      <th>min</th>\n",
       "      <td>NaN</td>\n",
       "      <td>NaN</td>\n",
       "      <td>NaN</td>\n",
       "      <td>NaN</td>\n",
       "      <td>NaN</td>\n",
       "      <td>NaN</td>\n",
       "      <td>NaN</td>\n",
       "      <td>NaN</td>\n",
       "      <td>NaN</td>\n",
       "      <td>NaN</td>\n",
       "      <td>...</td>\n",
       "      <td>NaN</td>\n",
       "      <td>NaN</td>\n",
       "      <td>NaN</td>\n",
       "      <td>0.000000</td>\n",
       "      <td>0.000000</td>\n",
       "      <td>NaN</td>\n",
       "      <td>NaN</td>\n",
       "      <td>NaN</td>\n",
       "      <td>NaN</td>\n",
       "      <td>NaN</td>\n",
       "    </tr>\n",
       "    <tr>\n",
       "      <th>25%</th>\n",
       "      <td>NaN</td>\n",
       "      <td>NaN</td>\n",
       "      <td>NaN</td>\n",
       "      <td>NaN</td>\n",
       "      <td>NaN</td>\n",
       "      <td>NaN</td>\n",
       "      <td>NaN</td>\n",
       "      <td>NaN</td>\n",
       "      <td>NaN</td>\n",
       "      <td>NaN</td>\n",
       "      <td>...</td>\n",
       "      <td>NaN</td>\n",
       "      <td>NaN</td>\n",
       "      <td>NaN</td>\n",
       "      <td>0.000000</td>\n",
       "      <td>0.000000</td>\n",
       "      <td>NaN</td>\n",
       "      <td>NaN</td>\n",
       "      <td>NaN</td>\n",
       "      <td>NaN</td>\n",
       "      <td>NaN</td>\n",
       "    </tr>\n",
       "    <tr>\n",
       "      <th>50%</th>\n",
       "      <td>NaN</td>\n",
       "      <td>NaN</td>\n",
       "      <td>NaN</td>\n",
       "      <td>NaN</td>\n",
       "      <td>NaN</td>\n",
       "      <td>NaN</td>\n",
       "      <td>NaN</td>\n",
       "      <td>NaN</td>\n",
       "      <td>NaN</td>\n",
       "      <td>NaN</td>\n",
       "      <td>...</td>\n",
       "      <td>NaN</td>\n",
       "      <td>NaN</td>\n",
       "      <td>NaN</td>\n",
       "      <td>0.000000</td>\n",
       "      <td>0.000000</td>\n",
       "      <td>NaN</td>\n",
       "      <td>NaN</td>\n",
       "      <td>NaN</td>\n",
       "      <td>NaN</td>\n",
       "      <td>NaN</td>\n",
       "    </tr>\n",
       "    <tr>\n",
       "      <th>75%</th>\n",
       "      <td>NaN</td>\n",
       "      <td>NaN</td>\n",
       "      <td>NaN</td>\n",
       "      <td>NaN</td>\n",
       "      <td>NaN</td>\n",
       "      <td>NaN</td>\n",
       "      <td>NaN</td>\n",
       "      <td>NaN</td>\n",
       "      <td>NaN</td>\n",
       "      <td>NaN</td>\n",
       "      <td>...</td>\n",
       "      <td>NaN</td>\n",
       "      <td>NaN</td>\n",
       "      <td>NaN</td>\n",
       "      <td>0.750000</td>\n",
       "      <td>1.000000</td>\n",
       "      <td>NaN</td>\n",
       "      <td>NaN</td>\n",
       "      <td>NaN</td>\n",
       "      <td>NaN</td>\n",
       "      <td>NaN</td>\n",
       "    </tr>\n",
       "    <tr>\n",
       "      <th>max</th>\n",
       "      <td>NaN</td>\n",
       "      <td>NaN</td>\n",
       "      <td>NaN</td>\n",
       "      <td>NaN</td>\n",
       "      <td>NaN</td>\n",
       "      <td>NaN</td>\n",
       "      <td>NaN</td>\n",
       "      <td>NaN</td>\n",
       "      <td>NaN</td>\n",
       "      <td>NaN</td>\n",
       "      <td>...</td>\n",
       "      <td>NaN</td>\n",
       "      <td>NaN</td>\n",
       "      <td>NaN</td>\n",
       "      <td>32.000000</td>\n",
       "      <td>33.000000</td>\n",
       "      <td>NaN</td>\n",
       "      <td>NaN</td>\n",
       "      <td>NaN</td>\n",
       "      <td>NaN</td>\n",
       "      <td>NaN</td>\n",
       "    </tr>\n",
       "  </tbody>\n",
       "</table>\n",
       "<p>11 rows × 22 columns</p>\n",
       "</div>"
      ],
      "text/plain": [
       "             0           1              2           3            4   \\\n",
       "count   2640353   2640353.0        2640353     2640353    2640353.0   \n",
       "unique        2   1796334.0        2640353      313154     292791.0   \n",
       "top          US  14587556.0  RURLHNB6O3JPI  B005QAQFFS  492022839.0   \n",
       "freq    2640352       478.0              1        5350       5307.0   \n",
       "mean        NaN         NaN            NaN         NaN          NaN   \n",
       "std         NaN         NaN            NaN         NaN          NaN   \n",
       "min         NaN         NaN            NaN         NaN          NaN   \n",
       "25%         NaN         NaN            NaN         NaN          NaN   \n",
       "50%         NaN         NaN            NaN         NaN          NaN   \n",
       "75%         NaN         NaN            NaN         NaN          NaN   \n",
       "max         NaN         NaN            NaN         NaN          NaN   \n",
       "\n",
       "                                  5                6          7          8   \\\n",
       "count                        2640353          2640353  2640339.0  2640336.0   \n",
       "unique                        284381               19       14.0      870.0   \n",
       "top     Panasonic Landline Telephone  Office Products        5.0        0.0   \n",
       "freq                            6279          2640335  1499676.0  1769493.0   \n",
       "mean                             NaN              NaN        NaN        NaN   \n",
       "std                              NaN              NaN        NaN        NaN   \n",
       "min                              NaN              NaN        NaN        NaN   \n",
       "25%                              NaN              NaN        NaN        NaN   \n",
       "50%                              NaN              NaN        NaN        NaN   \n",
       "75%                              NaN              NaN        NaN        NaN   \n",
       "max                              NaN              NaN        NaN        NaN   \n",
       "\n",
       "               9   ...          12       13          14         15         16  \\\n",
       "count   2640336.0  ...     2640307  2640256     2640320  98.000000  98.000000   \n",
       "unique      915.0  ...     1375433  2421352        5919        NaN        NaN   \n",
       "top           0.0  ...  Five Stars     good  2015-02-23        NaN        NaN   \n",
       "freq    1625696.0  ...      376679     5176        5049        NaN        NaN   \n",
       "mean          NaN  ...         NaN      NaN         NaN   0.704082   0.908163   \n",
       "std           NaN  ...         NaN      NaN         NaN   3.349747   3.529220   \n",
       "min           NaN  ...         NaN      NaN         NaN   0.000000   0.000000   \n",
       "25%           NaN  ...         NaN      NaN         NaN   0.000000   0.000000   \n",
       "50%           NaN  ...         NaN      NaN         NaN   0.000000   0.000000   \n",
       "75%           NaN  ...         NaN      NaN         NaN   0.750000   1.000000   \n",
       "max           NaN  ...         NaN      NaN         NaN  32.000000  33.000000   \n",
       "\n",
       "         17   18          19            20          21  \n",
       "count    98   98          98            98          98  \n",
       "unique    1    2          67            97          85  \n",
       "top       N    Y  Five Stars  Good quality  2015-08-04  \n",
       "freq     98   93          23             2           3  \n",
       "mean    NaN  NaN         NaN           NaN         NaN  \n",
       "std     NaN  NaN         NaN           NaN         NaN  \n",
       "min     NaN  NaN         NaN           NaN         NaN  \n",
       "25%     NaN  NaN         NaN           NaN         NaN  \n",
       "50%     NaN  NaN         NaN           NaN         NaN  \n",
       "75%     NaN  NaN         NaN           NaN         NaN  \n",
       "max     NaN  NaN         NaN           NaN         NaN  \n",
       "\n",
       "[11 rows x 22 columns]"
      ]
     },
     "execution_count": 7,
     "metadata": {},
     "output_type": "execute_result"
    }
   ],
   "source": [
    "df.describe(include = 'all')"
   ]
  },
  {
   "cell_type": "markdown",
   "metadata": {},
   "source": [
    "Only 98 rows of colums 15 to 21 are not null. I think it's safe to just remove them."
   ]
  },
  {
   "cell_type": "code",
   "execution_count": 8,
   "metadata": {},
   "outputs": [],
   "source": [
    "droplist=15+np.arange(7)"
   ]
  },
  {
   "cell_type": "code",
   "execution_count": 9,
   "metadata": {},
   "outputs": [],
   "source": [
    "df2=df.drop(droplist.tolist(), axis=1)"
   ]
  },
  {
   "cell_type": "code",
   "execution_count": 10,
   "metadata": {},
   "outputs": [],
   "source": [
    "df2.rename(columns=df2.iloc[0],inplace=True)"
   ]
  },
  {
   "cell_type": "code",
   "execution_count": 11,
   "metadata": {},
   "outputs": [],
   "source": [
    "df2.drop(index=0,inplace=True)"
   ]
  },
  {
   "cell_type": "code",
   "execution_count": 12,
   "metadata": {},
   "outputs": [
    {
     "data": {
      "text/html": [
       "<div>\n",
       "<style scoped>\n",
       "    .dataframe tbody tr th:only-of-type {\n",
       "        vertical-align: middle;\n",
       "    }\n",
       "\n",
       "    .dataframe tbody tr th {\n",
       "        vertical-align: top;\n",
       "    }\n",
       "\n",
       "    .dataframe thead th {\n",
       "        text-align: right;\n",
       "    }\n",
       "</style>\n",
       "<table border=\"1\" class=\"dataframe\">\n",
       "  <thead>\n",
       "    <tr style=\"text-align: right;\">\n",
       "      <th></th>\n",
       "      <th>marketplace</th>\n",
       "      <th>customer_id</th>\n",
       "      <th>review_id</th>\n",
       "      <th>product_id</th>\n",
       "      <th>product_parent</th>\n",
       "      <th>product_title</th>\n",
       "      <th>product_category</th>\n",
       "      <th>star_rating</th>\n",
       "      <th>helpful_votes</th>\n",
       "      <th>total_votes</th>\n",
       "      <th>vine</th>\n",
       "      <th>verified_purchase</th>\n",
       "      <th>review_headline</th>\n",
       "      <th>review_body</th>\n",
       "      <th>review_date</th>\n",
       "    </tr>\n",
       "  </thead>\n",
       "  <tbody>\n",
       "    <tr>\n",
       "      <th>1</th>\n",
       "      <td>US</td>\n",
       "      <td>43081963</td>\n",
       "      <td>R18RVCKGH1SSI9</td>\n",
       "      <td>B001BM2MAC</td>\n",
       "      <td>307809868</td>\n",
       "      <td>Scotch Cushion Wrap 7961, 12 Inches x 100 Feet</td>\n",
       "      <td>Office Products</td>\n",
       "      <td>5</td>\n",
       "      <td>0</td>\n",
       "      <td>0</td>\n",
       "      <td>N</td>\n",
       "      <td>Y</td>\n",
       "      <td>Five Stars</td>\n",
       "      <td>Great product.</td>\n",
       "      <td>2015-08-31</td>\n",
       "    </tr>\n",
       "    <tr>\n",
       "      <th>2</th>\n",
       "      <td>US</td>\n",
       "      <td>10951564</td>\n",
       "      <td>R3L4L6LW1PUOFY</td>\n",
       "      <td>B00DZYEXPQ</td>\n",
       "      <td>75004341</td>\n",
       "      <td>Dust-Off Compressed Gas Duster, Pack of 4</td>\n",
       "      <td>Office Products</td>\n",
       "      <td>5</td>\n",
       "      <td>0</td>\n",
       "      <td>1</td>\n",
       "      <td>N</td>\n",
       "      <td>Y</td>\n",
       "      <td>Phffffffft, Phfffffft. Lots of air, and it's C...</td>\n",
       "      <td>What's to say about this commodity item except...</td>\n",
       "      <td>2015-08-31</td>\n",
       "    </tr>\n",
       "    <tr>\n",
       "      <th>3</th>\n",
       "      <td>US</td>\n",
       "      <td>21143145</td>\n",
       "      <td>R2J8AWXWTDX2TF</td>\n",
       "      <td>B00RTMUHDW</td>\n",
       "      <td>529689027</td>\n",
       "      <td>Amram Tagger Standard Tag Attaching Tagging Gu...</td>\n",
       "      <td>Office Products</td>\n",
       "      <td>5</td>\n",
       "      <td>0</td>\n",
       "      <td>0</td>\n",
       "      <td>N</td>\n",
       "      <td>Y</td>\n",
       "      <td>but I am sure I will like it.</td>\n",
       "      <td>Haven't used yet, but I am sure I will like it.</td>\n",
       "      <td>2015-08-31</td>\n",
       "    </tr>\n",
       "    <tr>\n",
       "      <th>4</th>\n",
       "      <td>US</td>\n",
       "      <td>52782374</td>\n",
       "      <td>R1PR37BR7G3M6A</td>\n",
       "      <td>B00D7H8XB6</td>\n",
       "      <td>868449945</td>\n",
       "      <td>AmazonBasics 12-Sheet High-Security Micro-Cut ...</td>\n",
       "      <td>Office Products</td>\n",
       "      <td>1</td>\n",
       "      <td>2</td>\n",
       "      <td>3</td>\n",
       "      <td>N</td>\n",
       "      <td>Y</td>\n",
       "      <td>and the shredder was dirty and the bin was par...</td>\n",
       "      <td>Although this was labeled as &amp;#34;new&amp;#34; the...</td>\n",
       "      <td>2015-08-31</td>\n",
       "    </tr>\n",
       "    <tr>\n",
       "      <th>5</th>\n",
       "      <td>US</td>\n",
       "      <td>24045652</td>\n",
       "      <td>R3BDDDZMZBZDPU</td>\n",
       "      <td>B001XCWP34</td>\n",
       "      <td>33521401</td>\n",
       "      <td>Derwent Colored Pencils, Inktense Ink Pencils,...</td>\n",
       "      <td>Office Products</td>\n",
       "      <td>4</td>\n",
       "      <td>0</td>\n",
       "      <td>0</td>\n",
       "      <td>N</td>\n",
       "      <td>Y</td>\n",
       "      <td>Four Stars</td>\n",
       "      <td>Gorgeous colors and easy to use</td>\n",
       "      <td>2015-08-31</td>\n",
       "    </tr>\n",
       "  </tbody>\n",
       "</table>\n",
       "</div>"
      ],
      "text/plain": [
       "  marketplace customer_id       review_id  product_id product_parent  \\\n",
       "1          US    43081963  R18RVCKGH1SSI9  B001BM2MAC      307809868   \n",
       "2          US    10951564  R3L4L6LW1PUOFY  B00DZYEXPQ       75004341   \n",
       "3          US    21143145  R2J8AWXWTDX2TF  B00RTMUHDW      529689027   \n",
       "4          US    52782374  R1PR37BR7G3M6A  B00D7H8XB6      868449945   \n",
       "5          US    24045652  R3BDDDZMZBZDPU  B001XCWP34       33521401   \n",
       "\n",
       "                                       product_title product_category  \\\n",
       "1     Scotch Cushion Wrap 7961, 12 Inches x 100 Feet  Office Products   \n",
       "2          Dust-Off Compressed Gas Duster, Pack of 4  Office Products   \n",
       "3  Amram Tagger Standard Tag Attaching Tagging Gu...  Office Products   \n",
       "4  AmazonBasics 12-Sheet High-Security Micro-Cut ...  Office Products   \n",
       "5  Derwent Colored Pencils, Inktense Ink Pencils,...  Office Products   \n",
       "\n",
       "  star_rating helpful_votes total_votes vine verified_purchase  \\\n",
       "1           5             0           0    N                 Y   \n",
       "2           5             0           1    N                 Y   \n",
       "3           5             0           0    N                 Y   \n",
       "4           1             2           3    N                 Y   \n",
       "5           4             0           0    N                 Y   \n",
       "\n",
       "                                     review_headline  \\\n",
       "1                                         Five Stars   \n",
       "2  Phffffffft, Phfffffft. Lots of air, and it's C...   \n",
       "3                      but I am sure I will like it.   \n",
       "4  and the shredder was dirty and the bin was par...   \n",
       "5                                         Four Stars   \n",
       "\n",
       "                                         review_body review_date  \n",
       "1                                     Great product.  2015-08-31  \n",
       "2  What's to say about this commodity item except...  2015-08-31  \n",
       "3    Haven't used yet, but I am sure I will like it.  2015-08-31  \n",
       "4  Although this was labeled as &#34;new&#34; the...  2015-08-31  \n",
       "5                    Gorgeous colors and easy to use  2015-08-31  "
      ]
     },
     "execution_count": 12,
     "metadata": {},
     "output_type": "execute_result"
    }
   ],
   "source": [
    "df2.head()"
   ]
  },
  {
   "cell_type": "code",
   "execution_count": 13,
   "metadata": {},
   "outputs": [
    {
     "data": {
      "text/html": [
       "<div>\n",
       "<style scoped>\n",
       "    .dataframe tbody tr th:only-of-type {\n",
       "        vertical-align: middle;\n",
       "    }\n",
       "\n",
       "    .dataframe tbody tr th {\n",
       "        vertical-align: top;\n",
       "    }\n",
       "\n",
       "    .dataframe thead th {\n",
       "        text-align: right;\n",
       "    }\n",
       "</style>\n",
       "<table border=\"1\" class=\"dataframe\">\n",
       "  <thead>\n",
       "    <tr style=\"text-align: right;\">\n",
       "      <th></th>\n",
       "      <th>marketplace</th>\n",
       "      <th>customer_id</th>\n",
       "      <th>review_id</th>\n",
       "      <th>product_id</th>\n",
       "      <th>product_parent</th>\n",
       "      <th>product_title</th>\n",
       "      <th>product_category</th>\n",
       "      <th>star_rating</th>\n",
       "      <th>helpful_votes</th>\n",
       "      <th>total_votes</th>\n",
       "      <th>vine</th>\n",
       "      <th>verified_purchase</th>\n",
       "      <th>review_headline</th>\n",
       "      <th>review_body</th>\n",
       "      <th>review_date</th>\n",
       "    </tr>\n",
       "  </thead>\n",
       "  <tbody>\n",
       "    <tr>\n",
       "      <th>count</th>\n",
       "      <td>2640352</td>\n",
       "      <td>2640352</td>\n",
       "      <td>2640352</td>\n",
       "      <td>2640352</td>\n",
       "      <td>2640352</td>\n",
       "      <td>2640352</td>\n",
       "      <td>2640352</td>\n",
       "      <td>2640338</td>\n",
       "      <td>2640335</td>\n",
       "      <td>2640335</td>\n",
       "      <td>2640335</td>\n",
       "      <td>2640335</td>\n",
       "      <td>2640306</td>\n",
       "      <td>2640255</td>\n",
       "      <td>2640319</td>\n",
       "    </tr>\n",
       "    <tr>\n",
       "      <th>unique</th>\n",
       "      <td>1</td>\n",
       "      <td>1796333</td>\n",
       "      <td>2640352</td>\n",
       "      <td>313153</td>\n",
       "      <td>292790</td>\n",
       "      <td>284380</td>\n",
       "      <td>18</td>\n",
       "      <td>13</td>\n",
       "      <td>869</td>\n",
       "      <td>914</td>\n",
       "      <td>2</td>\n",
       "      <td>2</td>\n",
       "      <td>1375432</td>\n",
       "      <td>2421351</td>\n",
       "      <td>5918</td>\n",
       "    </tr>\n",
       "    <tr>\n",
       "      <th>top</th>\n",
       "      <td>US</td>\n",
       "      <td>14587556</td>\n",
       "      <td>RURLHNB6O3JPI</td>\n",
       "      <td>B005QAQFFS</td>\n",
       "      <td>492022839</td>\n",
       "      <td>Panasonic Landline Telephone</td>\n",
       "      <td>Office Products</td>\n",
       "      <td>5</td>\n",
       "      <td>0</td>\n",
       "      <td>0</td>\n",
       "      <td>N</td>\n",
       "      <td>Y</td>\n",
       "      <td>Five Stars</td>\n",
       "      <td>good</td>\n",
       "      <td>2015-02-23</td>\n",
       "    </tr>\n",
       "    <tr>\n",
       "      <th>freq</th>\n",
       "      <td>2640352</td>\n",
       "      <td>478</td>\n",
       "      <td>1</td>\n",
       "      <td>5350</td>\n",
       "      <td>5307</td>\n",
       "      <td>6279</td>\n",
       "      <td>2640335</td>\n",
       "      <td>1499676</td>\n",
       "      <td>1769493</td>\n",
       "      <td>1625696</td>\n",
       "      <td>2611163</td>\n",
       "      <td>2256032</td>\n",
       "      <td>376679</td>\n",
       "      <td>5176</td>\n",
       "      <td>5049</td>\n",
       "    </tr>\n",
       "  </tbody>\n",
       "</table>\n",
       "</div>"
      ],
      "text/plain": [
       "       marketplace  customer_id      review_id  product_id  product_parent  \\\n",
       "count      2640352      2640352        2640352     2640352         2640352   \n",
       "unique           1      1796333        2640352      313153          292790   \n",
       "top             US     14587556  RURLHNB6O3JPI  B005QAQFFS       492022839   \n",
       "freq       2640352          478              1        5350            5307   \n",
       "\n",
       "                       product_title product_category  star_rating  \\\n",
       "count                        2640352          2640352      2640338   \n",
       "unique                        284380               18           13   \n",
       "top     Panasonic Landline Telephone  Office Products            5   \n",
       "freq                            6279          2640335      1499676   \n",
       "\n",
       "        helpful_votes  total_votes     vine verified_purchase review_headline  \\\n",
       "count         2640335      2640335  2640335           2640335         2640306   \n",
       "unique            869          914        2                 2         1375432   \n",
       "top                 0            0        N                 Y      Five Stars   \n",
       "freq          1769493      1625696  2611163           2256032          376679   \n",
       "\n",
       "       review_body review_date  \n",
       "count      2640255     2640319  \n",
       "unique     2421351        5918  \n",
       "top           good  2015-02-23  \n",
       "freq          5176        5049  "
      ]
     },
     "execution_count": 13,
     "metadata": {},
     "output_type": "execute_result"
    }
   ],
   "source": [
    "df2.describe()"
   ]
  },
  {
   "cell_type": "code",
   "execution_count": 14,
   "metadata": {},
   "outputs": [
    {
     "data": {
      "text/plain": [
       "(2640352, 15)"
      ]
     },
     "execution_count": 14,
     "metadata": {},
     "output_type": "execute_result"
    }
   ],
   "source": [
    "df2.shape"
   ]
  },
  {
   "cell_type": "markdown",
   "metadata": {},
   "source": [
    "The number of null entries are quite small to the full data. Let's remove them."
   ]
  },
  {
   "cell_type": "code",
   "execution_count": 15,
   "metadata": {},
   "outputs": [],
   "source": [
    "df2.dropna(how='any',inplace=True)"
   ]
  },
  {
   "cell_type": "code",
   "execution_count": 16,
   "metadata": {},
   "outputs": [
    {
     "data": {
      "text/plain": [
       "(2640210, 15)"
      ]
     },
     "execution_count": 16,
     "metadata": {},
     "output_type": "execute_result"
    }
   ],
   "source": [
    "df2.shape"
   ]
  },
  {
   "cell_type": "code",
   "execution_count": 17,
   "metadata": {},
   "outputs": [],
   "source": [
    "df2.reset_index(drop=True,inplace=True)"
   ]
  },
  {
   "cell_type": "code",
   "execution_count": 18,
   "metadata": {},
   "outputs": [
    {
     "data": {
      "text/html": [
       "<div>\n",
       "<style scoped>\n",
       "    .dataframe tbody tr th:only-of-type {\n",
       "        vertical-align: middle;\n",
       "    }\n",
       "\n",
       "    .dataframe tbody tr th {\n",
       "        vertical-align: top;\n",
       "    }\n",
       "\n",
       "    .dataframe thead th {\n",
       "        text-align: right;\n",
       "    }\n",
       "</style>\n",
       "<table border=\"1\" class=\"dataframe\">\n",
       "  <thead>\n",
       "    <tr style=\"text-align: right;\">\n",
       "      <th></th>\n",
       "      <th>marketplace</th>\n",
       "      <th>customer_id</th>\n",
       "      <th>review_id</th>\n",
       "      <th>product_id</th>\n",
       "      <th>product_parent</th>\n",
       "      <th>product_title</th>\n",
       "      <th>product_category</th>\n",
       "      <th>star_rating</th>\n",
       "      <th>helpful_votes</th>\n",
       "      <th>total_votes</th>\n",
       "      <th>vine</th>\n",
       "      <th>verified_purchase</th>\n",
       "      <th>review_headline</th>\n",
       "      <th>review_body</th>\n",
       "      <th>review_date</th>\n",
       "    </tr>\n",
       "  </thead>\n",
       "  <tbody>\n",
       "    <tr>\n",
       "      <th>0</th>\n",
       "      <td>US</td>\n",
       "      <td>43081963</td>\n",
       "      <td>R18RVCKGH1SSI9</td>\n",
       "      <td>B001BM2MAC</td>\n",
       "      <td>307809868</td>\n",
       "      <td>Scotch Cushion Wrap 7961, 12 Inches x 100 Feet</td>\n",
       "      <td>Office Products</td>\n",
       "      <td>5</td>\n",
       "      <td>0</td>\n",
       "      <td>0</td>\n",
       "      <td>N</td>\n",
       "      <td>Y</td>\n",
       "      <td>Five Stars</td>\n",
       "      <td>Great product.</td>\n",
       "      <td>2015-08-31</td>\n",
       "    </tr>\n",
       "    <tr>\n",
       "      <th>1</th>\n",
       "      <td>US</td>\n",
       "      <td>10951564</td>\n",
       "      <td>R3L4L6LW1PUOFY</td>\n",
       "      <td>B00DZYEXPQ</td>\n",
       "      <td>75004341</td>\n",
       "      <td>Dust-Off Compressed Gas Duster, Pack of 4</td>\n",
       "      <td>Office Products</td>\n",
       "      <td>5</td>\n",
       "      <td>0</td>\n",
       "      <td>1</td>\n",
       "      <td>N</td>\n",
       "      <td>Y</td>\n",
       "      <td>Phffffffft, Phfffffft. Lots of air, and it's C...</td>\n",
       "      <td>What's to say about this commodity item except...</td>\n",
       "      <td>2015-08-31</td>\n",
       "    </tr>\n",
       "    <tr>\n",
       "      <th>2</th>\n",
       "      <td>US</td>\n",
       "      <td>21143145</td>\n",
       "      <td>R2J8AWXWTDX2TF</td>\n",
       "      <td>B00RTMUHDW</td>\n",
       "      <td>529689027</td>\n",
       "      <td>Amram Tagger Standard Tag Attaching Tagging Gu...</td>\n",
       "      <td>Office Products</td>\n",
       "      <td>5</td>\n",
       "      <td>0</td>\n",
       "      <td>0</td>\n",
       "      <td>N</td>\n",
       "      <td>Y</td>\n",
       "      <td>but I am sure I will like it.</td>\n",
       "      <td>Haven't used yet, but I am sure I will like it.</td>\n",
       "      <td>2015-08-31</td>\n",
       "    </tr>\n",
       "    <tr>\n",
       "      <th>3</th>\n",
       "      <td>US</td>\n",
       "      <td>52782374</td>\n",
       "      <td>R1PR37BR7G3M6A</td>\n",
       "      <td>B00D7H8XB6</td>\n",
       "      <td>868449945</td>\n",
       "      <td>AmazonBasics 12-Sheet High-Security Micro-Cut ...</td>\n",
       "      <td>Office Products</td>\n",
       "      <td>1</td>\n",
       "      <td>2</td>\n",
       "      <td>3</td>\n",
       "      <td>N</td>\n",
       "      <td>Y</td>\n",
       "      <td>and the shredder was dirty and the bin was par...</td>\n",
       "      <td>Although this was labeled as &amp;#34;new&amp;#34; the...</td>\n",
       "      <td>2015-08-31</td>\n",
       "    </tr>\n",
       "    <tr>\n",
       "      <th>4</th>\n",
       "      <td>US</td>\n",
       "      <td>24045652</td>\n",
       "      <td>R3BDDDZMZBZDPU</td>\n",
       "      <td>B001XCWP34</td>\n",
       "      <td>33521401</td>\n",
       "      <td>Derwent Colored Pencils, Inktense Ink Pencils,...</td>\n",
       "      <td>Office Products</td>\n",
       "      <td>4</td>\n",
       "      <td>0</td>\n",
       "      <td>0</td>\n",
       "      <td>N</td>\n",
       "      <td>Y</td>\n",
       "      <td>Four Stars</td>\n",
       "      <td>Gorgeous colors and easy to use</td>\n",
       "      <td>2015-08-31</td>\n",
       "    </tr>\n",
       "  </tbody>\n",
       "</table>\n",
       "</div>"
      ],
      "text/plain": [
       "  marketplace customer_id       review_id  product_id product_parent  \\\n",
       "0          US    43081963  R18RVCKGH1SSI9  B001BM2MAC      307809868   \n",
       "1          US    10951564  R3L4L6LW1PUOFY  B00DZYEXPQ       75004341   \n",
       "2          US    21143145  R2J8AWXWTDX2TF  B00RTMUHDW      529689027   \n",
       "3          US    52782374  R1PR37BR7G3M6A  B00D7H8XB6      868449945   \n",
       "4          US    24045652  R3BDDDZMZBZDPU  B001XCWP34       33521401   \n",
       "\n",
       "                                       product_title product_category  \\\n",
       "0     Scotch Cushion Wrap 7961, 12 Inches x 100 Feet  Office Products   \n",
       "1          Dust-Off Compressed Gas Duster, Pack of 4  Office Products   \n",
       "2  Amram Tagger Standard Tag Attaching Tagging Gu...  Office Products   \n",
       "3  AmazonBasics 12-Sheet High-Security Micro-Cut ...  Office Products   \n",
       "4  Derwent Colored Pencils, Inktense Ink Pencils,...  Office Products   \n",
       "\n",
       "  star_rating helpful_votes total_votes vine verified_purchase  \\\n",
       "0           5             0           0    N                 Y   \n",
       "1           5             0           1    N                 Y   \n",
       "2           5             0           0    N                 Y   \n",
       "3           1             2           3    N                 Y   \n",
       "4           4             0           0    N                 Y   \n",
       "\n",
       "                                     review_headline  \\\n",
       "0                                         Five Stars   \n",
       "1  Phffffffft, Phfffffft. Lots of air, and it's C...   \n",
       "2                      but I am sure I will like it.   \n",
       "3  and the shredder was dirty and the bin was par...   \n",
       "4                                         Four Stars   \n",
       "\n",
       "                                         review_body review_date  \n",
       "0                                     Great product.  2015-08-31  \n",
       "1  What's to say about this commodity item except...  2015-08-31  \n",
       "2    Haven't used yet, but I am sure I will like it.  2015-08-31  \n",
       "3  Although this was labeled as &#34;new&#34; the...  2015-08-31  \n",
       "4                    Gorgeous colors and easy to use  2015-08-31  "
      ]
     },
     "execution_count": 18,
     "metadata": {},
     "output_type": "execute_result"
    }
   ],
   "source": [
    "df2.head()"
   ]
  },
  {
   "cell_type": "code",
   "execution_count": 19,
   "metadata": {},
   "outputs": [
    {
     "name": "stdout",
     "output_type": "stream",
     "text": [
      "<class 'pandas.core.frame.DataFrame'>\n",
      "RangeIndex: 2640210 entries, 0 to 2640209\n",
      "Data columns (total 15 columns):\n",
      " #   Column             Dtype \n",
      "---  ------             ----- \n",
      " 0   marketplace        object\n",
      " 1   customer_id        object\n",
      " 2   review_id          object\n",
      " 3   product_id         object\n",
      " 4   product_parent     object\n",
      " 5   product_title      object\n",
      " 6   product_category   object\n",
      " 7   star_rating        object\n",
      " 8   helpful_votes      object\n",
      " 9   total_votes        object\n",
      " 10  vine               object\n",
      " 11  verified_purchase  object\n",
      " 12  review_headline    object\n",
      " 13  review_body        object\n",
      " 14  review_date        object\n",
      "dtypes: object(15)\n",
      "memory usage: 302.1+ MB\n"
     ]
    }
   ],
   "source": [
    "df2.info()"
   ]
  },
  {
   "cell_type": "code",
   "execution_count": 20,
   "metadata": {},
   "outputs": [
    {
     "data": {
      "text/html": [
       "<div>\n",
       "<style scoped>\n",
       "    .dataframe tbody tr th:only-of-type {\n",
       "        vertical-align: middle;\n",
       "    }\n",
       "\n",
       "    .dataframe tbody tr th {\n",
       "        vertical-align: top;\n",
       "    }\n",
       "\n",
       "    .dataframe thead th {\n",
       "        text-align: right;\n",
       "    }\n",
       "</style>\n",
       "<table border=\"1\" class=\"dataframe\">\n",
       "  <thead>\n",
       "    <tr style=\"text-align: right;\">\n",
       "      <th></th>\n",
       "      <th>marketplace</th>\n",
       "      <th>customer_id</th>\n",
       "      <th>review_id</th>\n",
       "      <th>product_id</th>\n",
       "      <th>product_parent</th>\n",
       "      <th>product_title</th>\n",
       "      <th>product_category</th>\n",
       "      <th>star_rating</th>\n",
       "      <th>helpful_votes</th>\n",
       "      <th>total_votes</th>\n",
       "      <th>vine</th>\n",
       "      <th>verified_purchase</th>\n",
       "      <th>review_headline</th>\n",
       "      <th>review_body</th>\n",
       "      <th>review_date</th>\n",
       "    </tr>\n",
       "  </thead>\n",
       "  <tbody>\n",
       "    <tr>\n",
       "      <th>count</th>\n",
       "      <td>2640210</td>\n",
       "      <td>2640210</td>\n",
       "      <td>2640210</td>\n",
       "      <td>2640210</td>\n",
       "      <td>2640210</td>\n",
       "      <td>2640210</td>\n",
       "      <td>2640210</td>\n",
       "      <td>2640210</td>\n",
       "      <td>2640210</td>\n",
       "      <td>2640210</td>\n",
       "      <td>2640210</td>\n",
       "      <td>2640210</td>\n",
       "      <td>2640210</td>\n",
       "      <td>2640210</td>\n",
       "      <td>2640210</td>\n",
       "    </tr>\n",
       "    <tr>\n",
       "      <th>unique</th>\n",
       "      <td>1</td>\n",
       "      <td>1796235</td>\n",
       "      <td>2640210</td>\n",
       "      <td>313132</td>\n",
       "      <td>292769</td>\n",
       "      <td>284352</td>\n",
       "      <td>1</td>\n",
       "      <td>10</td>\n",
       "      <td>869</td>\n",
       "      <td>914</td>\n",
       "      <td>2</td>\n",
       "      <td>2</td>\n",
       "      <td>1375391</td>\n",
       "      <td>2421312</td>\n",
       "      <td>5918</td>\n",
       "    </tr>\n",
       "    <tr>\n",
       "      <th>top</th>\n",
       "      <td>US</td>\n",
       "      <td>14587556</td>\n",
       "      <td>RURLHNB6O3JPI</td>\n",
       "      <td>B005QAQFFS</td>\n",
       "      <td>492022839</td>\n",
       "      <td>Panasonic Landline Telephone</td>\n",
       "      <td>Office Products</td>\n",
       "      <td>5</td>\n",
       "      <td>0</td>\n",
       "      <td>0</td>\n",
       "      <td>N</td>\n",
       "      <td>Y</td>\n",
       "      <td>Five Stars</td>\n",
       "      <td>good</td>\n",
       "      <td>2015-02-23</td>\n",
       "    </tr>\n",
       "    <tr>\n",
       "      <th>freq</th>\n",
       "      <td>2640210</td>\n",
       "      <td>478</td>\n",
       "      <td>1</td>\n",
       "      <td>5350</td>\n",
       "      <td>5307</td>\n",
       "      <td>6279</td>\n",
       "      <td>2640210</td>\n",
       "      <td>1499607</td>\n",
       "      <td>1769436</td>\n",
       "      <td>1625648</td>\n",
       "      <td>2611039</td>\n",
       "      <td>2255929</td>\n",
       "      <td>376650</td>\n",
       "      <td>5176</td>\n",
       "      <td>5049</td>\n",
       "    </tr>\n",
       "  </tbody>\n",
       "</table>\n",
       "</div>"
      ],
      "text/plain": [
       "       marketplace  customer_id      review_id  product_id  product_parent  \\\n",
       "count      2640210      2640210        2640210     2640210         2640210   \n",
       "unique           1      1796235        2640210      313132          292769   \n",
       "top             US     14587556  RURLHNB6O3JPI  B005QAQFFS       492022839   \n",
       "freq       2640210          478              1        5350            5307   \n",
       "\n",
       "                       product_title product_category  star_rating  \\\n",
       "count                        2640210          2640210      2640210   \n",
       "unique                        284352                1           10   \n",
       "top     Panasonic Landline Telephone  Office Products            5   \n",
       "freq                            6279          2640210      1499607   \n",
       "\n",
       "        helpful_votes  total_votes     vine verified_purchase review_headline  \\\n",
       "count         2640210      2640210  2640210           2640210         2640210   \n",
       "unique            869          914        2                 2         1375391   \n",
       "top                 0            0        N                 Y      Five Stars   \n",
       "freq          1769436      1625648  2611039           2255929          376650   \n",
       "\n",
       "       review_body review_date  \n",
       "count      2640210     2640210  \n",
       "unique     2421312        5918  \n",
       "top           good  2015-02-23  \n",
       "freq          5176        5049  "
      ]
     },
     "execution_count": 20,
     "metadata": {},
     "output_type": "execute_result"
    }
   ],
   "source": [
    "df2.describe()"
   ]
  },
  {
   "cell_type": "markdown",
   "metadata": {},
   "source": [
    "Let's check the type of data in each column."
   ]
  },
  {
   "cell_type": "code",
   "execution_count": 21,
   "metadata": {},
   "outputs": [
    {
     "name": "stdout",
     "output_type": "stream",
     "text": [
      "marketplace [<class 'str'>]\n",
      "customer_id [<class 'str'> <class 'int'>]\n",
      "review_id [<class 'str'>]\n",
      "product_id [<class 'str'>]\n",
      "product_parent [<class 'str'> <class 'int'>]\n",
      "product_title [<class 'str'>]\n",
      "product_category [<class 'str'>]\n",
      "star_rating [<class 'str'> <class 'int'> <class 'float'>]\n",
      "helpful_votes [<class 'str'> <class 'int'> <class 'float'>]\n",
      "total_votes [<class 'str'> <class 'int'> <class 'float'>]\n",
      "vine [<class 'str'>]\n",
      "verified_purchase [<class 'str'>]\n",
      "review_headline [<class 'str'>]\n",
      "review_body [<class 'str'>]\n",
      "review_date [<class 'str'>]\n"
     ]
    }
   ],
   "source": [
    "for i in df2.columns:\n",
    "    print(i,df2[i].map(type).unique())"
   ]
  },
  {
   "cell_type": "markdown",
   "metadata": {},
   "source": [
    "Some of the columns have multiple data type. Let's convert them to one type."
   ]
  },
  {
   "cell_type": "code",
   "execution_count": 22,
   "metadata": {},
   "outputs": [
    {
     "data": {
      "text/plain": [
       "array(['43081963', '10951564', '21143145', ..., 52090046, 52503173,\n",
       "       52585611], dtype=object)"
      ]
     },
     "execution_count": 22,
     "metadata": {},
     "output_type": "execute_result"
    }
   ],
   "source": [
    "df2['customer_id'].unique()"
   ]
  },
  {
   "cell_type": "code",
   "execution_count": 23,
   "metadata": {},
   "outputs": [],
   "source": [
    "df2[['customer_id']]=df2[['customer_id']].astype(int)"
   ]
  },
  {
   "cell_type": "code",
   "execution_count": 24,
   "metadata": {},
   "outputs": [
    {
     "data": {
      "text/plain": [
       "array([43081963, 10951564, 21143145, ..., 52090046, 52503173, 52585611])"
      ]
     },
     "execution_count": 24,
     "metadata": {},
     "output_type": "execute_result"
    }
   ],
   "source": [
    "df2['customer_id'].unique()"
   ]
  },
  {
   "cell_type": "code",
   "execution_count": 25,
   "metadata": {},
   "outputs": [
    {
     "data": {
      "text/plain": [
       "dtype('int32')"
      ]
     },
     "execution_count": 25,
     "metadata": {},
     "output_type": "execute_result"
    }
   ],
   "source": [
    "df2['customer_id'].dtype"
   ]
  },
  {
   "cell_type": "code",
   "execution_count": 26,
   "metadata": {},
   "outputs": [
    {
     "data": {
      "text/plain": [
       "array(['307809868', '75004341', '529689027', ..., 45010061, 538411034,\n",
       "       260230341], dtype=object)"
      ]
     },
     "execution_count": 26,
     "metadata": {},
     "output_type": "execute_result"
    }
   ],
   "source": [
    "df2['product_parent'].unique()"
   ]
  },
  {
   "cell_type": "code",
   "execution_count": 27,
   "metadata": {},
   "outputs": [],
   "source": [
    "df2[['product_parent']]=df2[['product_parent']].astype(int)"
   ]
  },
  {
   "cell_type": "code",
   "execution_count": 28,
   "metadata": {},
   "outputs": [
    {
     "data": {
      "text/plain": [
       "dtype('int32')"
      ]
     },
     "execution_count": 28,
     "metadata": {},
     "output_type": "execute_result"
    }
   ],
   "source": [
    "df2['product_parent'].dtype"
   ]
  },
  {
   "cell_type": "code",
   "execution_count": 29,
   "metadata": {},
   "outputs": [
    {
     "data": {
      "text/plain": [
       "array(['5', '1', '4', '2', '3', 5, 3, 4, 2, 1], dtype=object)"
      ]
     },
     "execution_count": 29,
     "metadata": {},
     "output_type": "execute_result"
    }
   ],
   "source": [
    "df2['star_rating'].unique()"
   ]
  },
  {
   "cell_type": "code",
   "execution_count": 30,
   "metadata": {},
   "outputs": [],
   "source": [
    "df2[['star_rating']]=df2[['star_rating']].astype(int)"
   ]
  },
  {
   "cell_type": "code",
   "execution_count": 31,
   "metadata": {},
   "outputs": [
    {
     "data": {
      "text/plain": [
       "array(['0', '2', '6', '1', '3', '5', '4', '12', '254', '7', '8', '17',\n",
       "       '9', '110', '31', '38', '21', '36', '39', '56', '63', '61', '14',\n",
       "       '221', '13', '15', '20', '33', '19', '11', '23', '10', '44', '16',\n",
       "       '22', '27', '161', '41', '40', '24', '54', '32', '62', '42', '82',\n",
       "       '105', '35', '18', '30', '276', '25', '55', '37', '165', '68',\n",
       "       '47', '49', '132', '43', '45', '26', '71', '111', '28', '152',\n",
       "       '96', '199', '75', '113', '117', '48', '50', '73', '98', '240',\n",
       "       '112', '78', '127', '84', '66', '81', '29', '340', '67', '87', 0,\n",
       "       21, 3, 1, 2, 7, 11, 5, 4, 26, 9, 20, 6, 10, 38, 15, 14, 66, 28, 37,\n",
       "       25, 23, 33, 47, 95, 22, 278, 8, 123, 13, 17, 12, 18, 32, 43, 51,\n",
       "       34, 19, 58, 55, 35, 77, 2280, 16, 256, 53, 45, 96, 27, 215, 253,\n",
       "       24, 49, 73, 90, 88, 830, 31, 30, 59, 100, 69, 102, 163, 247, 48,\n",
       "       63, 158, 111, 36, 263, 173, 52, 116, 44, 227, 54, 87, 62, 104, 78,\n",
       "       220, 423, 29, 50, 64, 164, 39, 40, 260, 115, 42, 144, 76, 151, 130,\n",
       "       72, 70, 235, 228, 79, 61, 80, 182, 57, 41, 92, 67, 114, 56, 65, 91,\n",
       "       86, 133, 98, 238, 161, 178, 46, 84, 97, 153, 142, 82, 165, 126,\n",
       "       137, 99, 81, 160, 110, 109, 60, 113, 83, 105, 524, 68, 71, 172,\n",
       "       108, 498, 344, 536, 128, 107, 540, 149, 103, 94, 135, 75, 219, 656,\n",
       "       106, 302, 122, 124, 243, 833, 226, 244, 241, 127, 389, 245, 210,\n",
       "       177, 251, 183, 271, 121, 197.0, 112.0, 242.0, 85.0, 356.0, 74.0,\n",
       "       303.0, 134.0, 101, 225, 159, 272, 966, 835, 264, 89, 446, 125, 411,\n",
       "       487, 157, 136, 221, 145, 184, 193, 199, 120, 118, 166, 779, 331,\n",
       "       201, 738, 229, 179, 174, 129, 467, 246, 138, 209, 501, 800, 284,\n",
       "       186, 268, 217, 132, 266, 412, 313, 147, 396, 273, 335, 240, 117,\n",
       "       131, 472, 152, 337, 223, 675, 167, 323, 139, 318, 200, 249, 310,\n",
       "       596, 261, 222, 171, 146, 314, 218, 906, 297, 447, 373, 143, 154,\n",
       "       150, 93, 312, 208.0, 204.0, 141.0, 1419.0, 119.0, 169, 194, 202,\n",
       "       233, 230, 408, 162, 207, 198, 250, 239, 371, 705, 170, 612, 180,\n",
       "       211, 176, 598, 354, 155, 237, 1231, 283, 352, 196, 350, 232, 392,\n",
       "       419, 576, 360, 294, 831, 189, 281, 304, 311, 355, 899, 295, 140,\n",
       "       212, 451, 291, 175, 950, 566, 400, 298, 624, 181, 279, 308, 340,\n",
       "       234, 300, 248, 265.0, 252.0, 379.0, 825.0, 1910, 168, 945, 399,\n",
       "       450, 978, 156, 206, 187, 521, 348, 329, 621, 492, 1922, 932, 445,\n",
       "       188, 224, 288, 6832, 214, 439, 757, 425, 259, 287, 499, 884, 525,\n",
       "       602, 968, 1423, 813, 378, 338, 1208, 280, 307, 349, 731, 328, 481,\n",
       "       258, 466, 513, 999, 579, 185, 617, 406, 192, 1756, 561, 236, 148,\n",
       "       476, 921, 689, 918, 299, 333, 1043, 512, 269, 254.0, 643.0, 321.0,\n",
       "       544.0, 493.0, 190.0, 463.0, 270.0, 1014, 545, 444, 315, 316, 381,\n",
       "       334, 1004, 547, 893, 662, 873, 506, 1273, 2519, 1333, 382, 290,\n",
       "       394, 578, 1221, 543, 296, 203, 676, 362, 301, 1019, 1864, 305, 741,\n",
       "       1714, 523, 647, 347, 453, 572, 1789, 205, 324, 449, 952, 517, 520,\n",
       "       1255, 414, 375, 574, 255, 1664, 285, 1290, 591, 317, 509, 599, 465,\n",
       "       309, 2194, 594, 496, 904, 538, 639, 325, 2862, 1077, 346, 730,\n",
       "       2879, 4232, 4328, 3388, 486, 431, 1284, 2045, 330, 1183, 1737, 473,\n",
       "       1174, 267, 795, 970, 366, 632, 452, 528, 216, 367, 282, 518, 863,\n",
       "       432, 363, 609, 896, 293, 763, 708, 2335, 635, 191, 422, 567, 2909,\n",
       "       650, 1832, 505, 668, 418, 468, 213, 438, 195, 377, 345, 1346, 637,\n",
       "       600, 409, 6821, 460, 262, 358, 937, 380, 5948, 370, 585, 2296, 888,\n",
       "       395, 469, 1455, 457, 1358, 277, 679, 542, 1821, 327, 802, 700,\n",
       "       1307, 9362, 455, 1803, 351, 926, 424, 1555, 341, 670, 3608, 530,\n",
       "       1970, 8509, 1673, 13375, 711, 2687, 1694, 391, 844, 803, 859, 336,\n",
       "       1999, 1177, 569, 1994, 849, 388, 806, 289, 717, 868, 374, 886,\n",
       "       2334, 1025, 495, 553, 804, 1157, 415, 16053, 1001, 18217, 2214,\n",
       "       792, 1429, 410, 3606, 719, 3024, 1408, 936, 1909, 2046, 740, 383,\n",
       "       6833, 2023, 514, 922, 5430, 1073, 959, 454, 1169, 440, 593, 41393,\n",
       "       3838, 475, 430, 1385, 4588, 319, 739, 929, 231.0, 365.0, 404.0,\n",
       "       573.0, 1389.0, 1357.0, 306.0, 1226.0, 522.0, 2698.0, 1335.0, 462.0,\n",
       "       480.0, 767.0, 1461.0, 413.0, 429.0, 497.0, 343.0, 725.0, 292.0,\n",
       "       734.0, 684.0, 359.0, 1304.0, 618.0, 1066.0, 577.0, 2103.0, 339.0,\n",
       "       560.0, 485.0, 539.0, 798.0, 680.0, 758.0, 257.0, 625.0, 275.0,\n",
       "       326.0, 809.0, 471.0, 368.0, 784.0, 1587.0, 490.0, 671.0, 402.0,\n",
       "       857.0, 1067.0, 507.0, 385.0, 687.0, 659.0, 575.0, 715.0, 1033.0,\n",
       "       511.0, 456.0, 1359.0, 811.0, 1022.0, 889.0, 458.0, 1517.0, 785.0,\n",
       "       332.0, 369.0, 1007.0, 759.0, 564.0, 420.0, 398.0, 595.0, 407.0,\n",
       "       276.0, 526, 620, 470, 3090, 908, 597, 654, 746, 1486, 658, 912,\n",
       "       1054, 479, 435, 750, 973, 1167, 701.0, 274.0, 1286.0, 1685.0,\n",
       "       563.0, 616.0, 895.0, 1303.0, 770.0, 1723.0, 1403.0, 2429.0, 801.0,\n",
       "       853, 1195, 535, 1604, 1151, 342, 1137, 390, 1164, 357, 649, 611,\n",
       "       805.0, 568.0, 707.0, 634.0, 403.0, 1613.0, 691.0, 1011.0, 829.0,\n",
       "       541.0, 320.0, 1016.0, 428.0, 1522.0, 607.0, 765, 667, 606, 677,\n",
       "       559, 1015, 581, 1010, 474, 944, 550, 386, 626, 646, 615, 913, 1416,\n",
       "       426, 537, 660, 534, 433, 397, 799, 672, 416, 838, 443],\n",
       "      dtype=object)"
      ]
     },
     "execution_count": 31,
     "metadata": {},
     "output_type": "execute_result"
    }
   ],
   "source": [
    "df2['helpful_votes'].unique()"
   ]
  },
  {
   "cell_type": "code",
   "execution_count": 32,
   "metadata": {},
   "outputs": [],
   "source": [
    "df2[['helpful_votes']]=df2[['helpful_votes']].astype(int)"
   ]
  },
  {
   "cell_type": "code",
   "execution_count": 33,
   "metadata": {},
   "outputs": [
    {
     "data": {
      "text/plain": [
       "array(['0', '1', '3', '6', '2', '10', '5', '9', '12', '254', '7', '17',\n",
       "       '4', '8', '19', '159', '31', '38', '11', '21', '36', '47', '65',\n",
       "       '63', '64', '16', '221', '14', '18', '32', '20', '34', '13', '24',\n",
       "       '44', '30', '28', '170', '42', '52', '22', '29', '56', '46', '43',\n",
       "       '86', '27', '115', '15', '23', '33', '276', '26', '35', '58', '39',\n",
       "       '175', '41', '70', '53', '136', '49', '25', '72', '62', '112',\n",
       "       '68', '165', '131', '96', '75', '202', '76', '40', '114', '152',\n",
       "       '120', '57', '51', '48', '50', '83', '102', '244', '113', '80',\n",
       "       '54', '139', '85', '67', '158', '82', '368', '90', 0, 21, 3, 1, 2,\n",
       "       7, 13, 11, 5, 4, 26, 9, 6, 10, 39, 15, 14, 16, 67, 29, 42, 33, 27,\n",
       "       55, 8, 18, 99, 22, 278, 127, 23, 38, 12, 20, 63, 44, 37, 52, 59,\n",
       "       83, 25, 2314, 19, 284, 54, 50, 24, 98, 219, 35, 82, 17, 93, 92,\n",
       "       845, 31, 46, 28, 40, 60, 104, 74, 103, 173, 266, 48, 34, 30, 102,\n",
       "       70, 81, 161, 111, 71, 36, 286, 120, 239, 91, 76, 62, 223, 226, 452,\n",
       "       95, 167, 45, 268, 123, 51, 47, 145, 32, 61, 43, 89, 163, 56, 131,\n",
       "       72, 64, 251, 229, 79, 185, 57, 96, 49, 68, 115, 41, 66, 75, 140,\n",
       "       244, 178, 117, 85, 97, 53, 58, 150, 130, 160, 105, 174, 255, 137,\n",
       "       84, 162, 110, 90, 119, 87, 113, 73, 535, 141, 69, 100, 503, 122,\n",
       "       116, 358, 541, 149, 78, 101, 550, 106, 107, 86, 231, 706, 112, 156,\n",
       "       77, 314, 132, 80, 125, 248, 886, 227, 247, 159, 397, 148, 182, 155,\n",
       "       254, 213, 124, 129, 135, 258, 194, 65, 273, 203.0, 242.0, 169.0,\n",
       "       357.0, 94.0, 118.0, 317.0, 233.0, 232, 1010, 862, 450, 126, 445,\n",
       "       511, 158, 186, 151, 179, 114, 197, 215, 109, 168, 88, 805, 338,\n",
       "       206, 170, 128, 204, 769, 234, 184, 195, 177, 136, 138, 510, 257,\n",
       "       209, 144, 522, 172, 835, 295, 205, 281, 183, 220, 142, 289, 435,\n",
       "       316, 287, 406, 279, 370, 121, 188, 236, 139, 283, 449, 481, 371,\n",
       "       702, 345, 321, 354, 133, 222, 249, 153, 310, 618, 261, 212, 228,\n",
       "       176, 147, 335, 359, 134, 143, 917, 303, 464, 199, 108, 180, 193,\n",
       "       433, 326, 336, 270, 274.0, 225.0, 181.0, 1438.0, 214, 201, 243,\n",
       "       414, 152, 154, 250, 241, 382, 760, 555, 629, 218, 612, 360, 524,\n",
       "       1265, 297, 263, 175, 210, 373, 402, 441, 595, 306, 851, 309, 304,\n",
       "       315, 911, 294, 312, 146, 192, 487, 980, 589, 426, 325, 661, 202,\n",
       "       320, 323, 412, 420, 361, 216, 235, 322, 217, 256.0, 253.0, 393.0,\n",
       "       1962, 191, 970, 429, 240, 166, 208, 453, 992, 164, 165, 190, 262,\n",
       "       245, 552, 365, 211, 635, 386, 509, 346, 1955, 966, 285, 465, 189,\n",
       "       621, 291, 171, 6995, 252, 282, 467, 796, 292, 565, 919, 554, 617,\n",
       "       994, 1518, 819, 400, 348, 1228, 356, 362, 368, 746, 523, 468, 530,\n",
       "       1035, 597, 187, 264, 651, 422, 680, 1801, 591, 648, 329, 812, 275,\n",
       "       502, 959, 714, 954, 269, 1075, 561, 482.0, 207.0, 267.0, 865.0,\n",
       "       198.0, 494.0, 688.0, 328.0, 570.0, 514.0, 277.0, 518.0, 302.0,\n",
       "       324.0, 1084, 401, 568, 508, 447, 342, 337, 390, 350, 1022, 573,\n",
       "       237, 678, 230, 260, 895, 1333, 2572, 1358, 398, 403, 596, 1236,\n",
       "       377, 562, 300, 686, 391, 1061, 1891, 238, 318, 340, 341, 762, 490,\n",
       "       157, 1750, 532, 705, 375, 200, 474, 221, 592, 1834, 399, 525, 333,\n",
       "       224, 480, 265, 1115, 319, 529, 533, 1290, 384, 599, 1695, 1331,\n",
       "       606, 327, 650, 544, 616, 507, 308, 585, 334, 2228, 634, 916, 546,\n",
       "       332, 659, 553, 2968, 1126, 355, 736, 2967, 4340, 4445, 3486, 500,\n",
       "       1335, 2120, 347, 415, 1245, 1767, 728, 301, 506, 272, 536, 331,\n",
       "       1259, 307, 296, 829, 990, 381, 664, 456, 280, 641, 531, 363, 879,\n",
       "       451, 665, 913, 791, 2369, 655, 430, 582, 3004, 689, 1870, 709, 673,\n",
       "       512, 486, 443, 383, 1420, 496, 343, 305, 646, 624, 413, 890, 7235,\n",
       "       488, 290, 462, 1019, 620, 395, 6322, 2453, 946, 421, 504, 442,\n",
       "       1552, 497, 1449, 298, 737, 993, 576, 1927, 871, 768, 1403, 349,\n",
       "       9932, 405, 498, 417, 1926, 986, 1659, 726, 3857, 580, 2103, 947,\n",
       "       9028, 1808, 14085, 759, 2894, 777, 196, 1809, 903, 288, 818, 888,\n",
       "       2070, 1197, 2127, 353, 271, 571, 566, 857, 416, 875, 927, 732, 949,\n",
       "       2492, 1094, 583, 868, 1250, 16308, 557, 18648, 2400, 852, 1527,\n",
       "       587, 955, 3807, 3202, 1513, 694, 1015, 2078, 2229, 803, 7456, 246,\n",
       "       2195, 526, 998, 5720, 1162, 991, 1270, 41866, 623, 4187, 458, 1448,\n",
       "       5009, 330, 484, 948, 352.0, 339.0, 479.0, 1497.0, 1375.0, 1237.0,\n",
       "       681.0, 374.0, 2736.0, 1399.0, 569.0, 489.0, 394.0, 378.0, 396.0,\n",
       "       793.0, 466.0, 1523.0, 935.0, 740.0, 380.0, 1340.0, 698.0, 1365.0,\n",
       "       276.0, 684.0, 1107.0, 534.0, 581.0, 2117.0, 388.0, 549.0, 493.0,\n",
       "       811.0, 685.0, 770.0, 501.0, 379.0, 788.0, 1726.0, 505.0, 748.0,\n",
       "       1047.0, 1154.0, 666.0, 720.0, 1052.0, 389.0, 548.0, 855.0, 461.0,\n",
       "       293.0, 952.0, 1382.0, 828.0, 918.0, 434.0, 559.0, 1547.0, 831.0,\n",
       "       376.0, 313.0, 423.0, 1028.0, 765.0, 602.0, 645, 495, 3130, 923,\n",
       "       605, 392, 668, 771, 1525, 671, 925, 674, 1068, 801, 492, 753, 976,\n",
       "       1184, 418.0, 259.0, 715.0, 299.0, 1058.0, 1305.0, 1712.0, 693.0,\n",
       "       915.0, 1328.0, 440.0, 808.0, 1757.0, 1417.0, 2478.0, 822.0, 558.0,\n",
       "       858, 1225, 539, 663, 1186, 463, 1232, 367, 1216, 311, 537, 604,\n",
       "       577.0, 727.0, 679.0, 649.0, 407.0, 1391.0, 1630.0, 700.0, 545.0,\n",
       "       1041.0, 840.0, 470.0, 1025.0, 1620.0, 614.0, 485.0, 744.0, 520.0,\n",
       "       931, 372, 776, 369, 448, 619, 387, 593, 613, 683, 460, 567, 491,\n",
       "       432, 483, 472, 1065, 584, 1016, 574, 344, 631, 922, 627, 1434, 538,\n",
       "       540, 444, 813, 425, 454, 869, 476], dtype=object)"
      ]
     },
     "execution_count": 33,
     "metadata": {},
     "output_type": "execute_result"
    }
   ],
   "source": [
    "df2['total_votes'].unique()"
   ]
  },
  {
   "cell_type": "code",
   "execution_count": 34,
   "metadata": {},
   "outputs": [],
   "source": [
    "df2[['total_votes']]=df2[['total_votes']].astype(int)"
   ]
  },
  {
   "cell_type": "markdown",
   "metadata": {},
   "source": [
    " Let's check the first few strings of the 'review_date' column."
   ]
  },
  {
   "cell_type": "code",
   "execution_count": 35,
   "metadata": {},
   "outputs": [
    {
     "data": {
      "text/plain": [
       "2015    815733\n",
       "2014    789283\n",
       "2013    463910\n",
       "2012    197667\n",
       "2011    122061\n",
       "2010     75125\n",
       "2009     48893\n",
       "2008     33515\n",
       "2007     29114\n",
       "2006     13330\n",
       "2005     10796\n",
       "2003      9920\n",
       "2004      9217\n",
       "2002      8536\n",
       "2001      7190\n",
       "2000      5102\n",
       "1999       714\n",
       "5           63\n",
       "4           15\n",
       "3            8\n",
       "2            7\n",
       "1998         6\n",
       "1            5\n",
       "Name: review_date, dtype: int64"
      ]
     },
     "execution_count": 35,
     "metadata": {},
     "output_type": "execute_result"
    }
   ],
   "source": [
    "df2['review_date'].str[:4].value_counts()"
   ]
  },
  {
   "cell_type": "code",
   "execution_count": 36,
   "metadata": {},
   "outputs": [
    {
     "data": {
      "text/plain": [
       "4    2640112\n",
       "1         98\n",
       "Name: review_date, dtype: int64"
      ]
     },
     "execution_count": 36,
     "metadata": {},
     "output_type": "execute_result"
    }
   ],
   "source": [
    "df2['review_date'].str[:4].map(len).value_counts()"
   ]
  },
  {
   "cell_type": "markdown",
   "metadata": {},
   "source": [
    "It seems that some of the data contain only one single number. Without other information, it's difficult to interpret these values. In addition, they are quite small. So, let's remove them. "
   ]
  },
  {
   "cell_type": "code",
   "execution_count": 37,
   "metadata": {},
   "outputs": [],
   "source": [
    "df3=df2[df2['review_date'].str[:4].map(len)==4]"
   ]
  },
  {
   "cell_type": "code",
   "execution_count": 38,
   "metadata": {},
   "outputs": [
    {
     "data": {
      "text/plain": [
       "2015    815733\n",
       "2014    789283\n",
       "2013    463910\n",
       "2012    197667\n",
       "2011    122061\n",
       "2010     75125\n",
       "2009     48893\n",
       "2008     33515\n",
       "2007     29114\n",
       "2006     13330\n",
       "2005     10796\n",
       "2003      9920\n",
       "2004      9217\n",
       "2002      8536\n",
       "2001      7190\n",
       "2000      5102\n",
       "1999       714\n",
       "1998         6\n",
       "Name: review_date, dtype: int64"
      ]
     },
     "execution_count": 38,
     "metadata": {},
     "output_type": "execute_result"
    }
   ],
   "source": [
    "df3['review_date'].str[:4].value_counts()"
   ]
  },
  {
   "cell_type": "code",
   "execution_count": 39,
   "metadata": {},
   "outputs": [],
   "source": [
    "df3['review_date'] = pd.to_datetime(df3['review_date'])"
   ]
  },
  {
   "cell_type": "code",
   "execution_count": 40,
   "metadata": {},
   "outputs": [
    {
     "data": {
      "text/plain": [
       "0   2015-08-31\n",
       "1   2015-08-31\n",
       "2   2015-08-31\n",
       "3   2015-08-31\n",
       "4   2015-08-31\n",
       "Name: review_date, dtype: datetime64[ns]"
      ]
     },
     "execution_count": 40,
     "metadata": {},
     "output_type": "execute_result"
    }
   ],
   "source": [
    "df3['review_date'].head()"
   ]
  },
  {
   "cell_type": "code",
   "execution_count": 41,
   "metadata": {},
   "outputs": [
    {
     "data": {
      "text/html": [
       "<div>\n",
       "<style scoped>\n",
       "    .dataframe tbody tr th:only-of-type {\n",
       "        vertical-align: middle;\n",
       "    }\n",
       "\n",
       "    .dataframe tbody tr th {\n",
       "        vertical-align: top;\n",
       "    }\n",
       "\n",
       "    .dataframe thead th {\n",
       "        text-align: right;\n",
       "    }\n",
       "</style>\n",
       "<table border=\"1\" class=\"dataframe\">\n",
       "  <thead>\n",
       "    <tr style=\"text-align: right;\">\n",
       "      <th></th>\n",
       "      <th>marketplace</th>\n",
       "      <th>customer_id</th>\n",
       "      <th>review_id</th>\n",
       "      <th>product_id</th>\n",
       "      <th>product_parent</th>\n",
       "      <th>product_title</th>\n",
       "      <th>product_category</th>\n",
       "      <th>star_rating</th>\n",
       "      <th>helpful_votes</th>\n",
       "      <th>total_votes</th>\n",
       "      <th>vine</th>\n",
       "      <th>verified_purchase</th>\n",
       "      <th>review_headline</th>\n",
       "      <th>review_body</th>\n",
       "      <th>review_date</th>\n",
       "    </tr>\n",
       "  </thead>\n",
       "  <tbody>\n",
       "    <tr>\n",
       "      <th>0</th>\n",
       "      <td>US</td>\n",
       "      <td>43081963</td>\n",
       "      <td>R18RVCKGH1SSI9</td>\n",
       "      <td>B001BM2MAC</td>\n",
       "      <td>307809868</td>\n",
       "      <td>Scotch Cushion Wrap 7961, 12 Inches x 100 Feet</td>\n",
       "      <td>Office Products</td>\n",
       "      <td>5</td>\n",
       "      <td>0</td>\n",
       "      <td>0</td>\n",
       "      <td>N</td>\n",
       "      <td>Y</td>\n",
       "      <td>Five Stars</td>\n",
       "      <td>Great product.</td>\n",
       "      <td>2015-08-31</td>\n",
       "    </tr>\n",
       "    <tr>\n",
       "      <th>1</th>\n",
       "      <td>US</td>\n",
       "      <td>10951564</td>\n",
       "      <td>R3L4L6LW1PUOFY</td>\n",
       "      <td>B00DZYEXPQ</td>\n",
       "      <td>75004341</td>\n",
       "      <td>Dust-Off Compressed Gas Duster, Pack of 4</td>\n",
       "      <td>Office Products</td>\n",
       "      <td>5</td>\n",
       "      <td>0</td>\n",
       "      <td>1</td>\n",
       "      <td>N</td>\n",
       "      <td>Y</td>\n",
       "      <td>Phffffffft, Phfffffft. Lots of air, and it's C...</td>\n",
       "      <td>What's to say about this commodity item except...</td>\n",
       "      <td>2015-08-31</td>\n",
       "    </tr>\n",
       "    <tr>\n",
       "      <th>2</th>\n",
       "      <td>US</td>\n",
       "      <td>21143145</td>\n",
       "      <td>R2J8AWXWTDX2TF</td>\n",
       "      <td>B00RTMUHDW</td>\n",
       "      <td>529689027</td>\n",
       "      <td>Amram Tagger Standard Tag Attaching Tagging Gu...</td>\n",
       "      <td>Office Products</td>\n",
       "      <td>5</td>\n",
       "      <td>0</td>\n",
       "      <td>0</td>\n",
       "      <td>N</td>\n",
       "      <td>Y</td>\n",
       "      <td>but I am sure I will like it.</td>\n",
       "      <td>Haven't used yet, but I am sure I will like it.</td>\n",
       "      <td>2015-08-31</td>\n",
       "    </tr>\n",
       "    <tr>\n",
       "      <th>3</th>\n",
       "      <td>US</td>\n",
       "      <td>52782374</td>\n",
       "      <td>R1PR37BR7G3M6A</td>\n",
       "      <td>B00D7H8XB6</td>\n",
       "      <td>868449945</td>\n",
       "      <td>AmazonBasics 12-Sheet High-Security Micro-Cut ...</td>\n",
       "      <td>Office Products</td>\n",
       "      <td>1</td>\n",
       "      <td>2</td>\n",
       "      <td>3</td>\n",
       "      <td>N</td>\n",
       "      <td>Y</td>\n",
       "      <td>and the shredder was dirty and the bin was par...</td>\n",
       "      <td>Although this was labeled as &amp;#34;new&amp;#34; the...</td>\n",
       "      <td>2015-08-31</td>\n",
       "    </tr>\n",
       "    <tr>\n",
       "      <th>4</th>\n",
       "      <td>US</td>\n",
       "      <td>24045652</td>\n",
       "      <td>R3BDDDZMZBZDPU</td>\n",
       "      <td>B001XCWP34</td>\n",
       "      <td>33521401</td>\n",
       "      <td>Derwent Colored Pencils, Inktense Ink Pencils,...</td>\n",
       "      <td>Office Products</td>\n",
       "      <td>4</td>\n",
       "      <td>0</td>\n",
       "      <td>0</td>\n",
       "      <td>N</td>\n",
       "      <td>Y</td>\n",
       "      <td>Four Stars</td>\n",
       "      <td>Gorgeous colors and easy to use</td>\n",
       "      <td>2015-08-31</td>\n",
       "    </tr>\n",
       "  </tbody>\n",
       "</table>\n",
       "</div>"
      ],
      "text/plain": [
       "  marketplace  customer_id       review_id  product_id  product_parent  \\\n",
       "0          US     43081963  R18RVCKGH1SSI9  B001BM2MAC       307809868   \n",
       "1          US     10951564  R3L4L6LW1PUOFY  B00DZYEXPQ        75004341   \n",
       "2          US     21143145  R2J8AWXWTDX2TF  B00RTMUHDW       529689027   \n",
       "3          US     52782374  R1PR37BR7G3M6A  B00D7H8XB6       868449945   \n",
       "4          US     24045652  R3BDDDZMZBZDPU  B001XCWP34        33521401   \n",
       "\n",
       "                                       product_title product_category  \\\n",
       "0     Scotch Cushion Wrap 7961, 12 Inches x 100 Feet  Office Products   \n",
       "1          Dust-Off Compressed Gas Duster, Pack of 4  Office Products   \n",
       "2  Amram Tagger Standard Tag Attaching Tagging Gu...  Office Products   \n",
       "3  AmazonBasics 12-Sheet High-Security Micro-Cut ...  Office Products   \n",
       "4  Derwent Colored Pencils, Inktense Ink Pencils,...  Office Products   \n",
       "\n",
       "   star_rating  helpful_votes  total_votes vine verified_purchase  \\\n",
       "0            5              0            0    N                 Y   \n",
       "1            5              0            1    N                 Y   \n",
       "2            5              0            0    N                 Y   \n",
       "3            1              2            3    N                 Y   \n",
       "4            4              0            0    N                 Y   \n",
       "\n",
       "                                     review_headline  \\\n",
       "0                                         Five Stars   \n",
       "1  Phffffffft, Phfffffft. Lots of air, and it's C...   \n",
       "2                      but I am sure I will like it.   \n",
       "3  and the shredder was dirty and the bin was par...   \n",
       "4                                         Four Stars   \n",
       "\n",
       "                                         review_body review_date  \n",
       "0                                     Great product.  2015-08-31  \n",
       "1  What's to say about this commodity item except...  2015-08-31  \n",
       "2    Haven't used yet, but I am sure I will like it.  2015-08-31  \n",
       "3  Although this was labeled as &#34;new&#34; the...  2015-08-31  \n",
       "4                    Gorgeous colors and easy to use  2015-08-31  "
      ]
     },
     "execution_count": 41,
     "metadata": {},
     "output_type": "execute_result"
    }
   ],
   "source": [
    "df3.head()"
   ]
  },
  {
   "cell_type": "code",
   "execution_count": 42,
   "metadata": {},
   "outputs": [
    {
     "name": "stdout",
     "output_type": "stream",
     "text": [
      "<class 'pandas.core.frame.DataFrame'>\n",
      "Int64Index: 2640112 entries, 0 to 2640209\n",
      "Data columns (total 15 columns):\n",
      " #   Column             Dtype         \n",
      "---  ------             -----         \n",
      " 0   marketplace        object        \n",
      " 1   customer_id        int32         \n",
      " 2   review_id          object        \n",
      " 3   product_id         object        \n",
      " 4   product_parent     int32         \n",
      " 5   product_title      object        \n",
      " 6   product_category   object        \n",
      " 7   star_rating        int32         \n",
      " 8   helpful_votes      int32         \n",
      " 9   total_votes        int32         \n",
      " 10  vine               object        \n",
      " 11  verified_purchase  object        \n",
      " 12  review_headline    object        \n",
      " 13  review_body        object        \n",
      " 14  review_date        datetime64[ns]\n",
      "dtypes: datetime64[ns](1), int32(5), object(9)\n",
      "memory usage: 271.9+ MB\n"
     ]
    }
   ],
   "source": [
    "df3.info()"
   ]
  },
  {
   "cell_type": "markdown",
   "metadata": {},
   "source": [
    "Before we move forward, we need to decide on the metric to decide whether a review is trustworthy. The 'helpful_votes' feature looks promising. So, let's take a look."
   ]
  },
  {
   "cell_type": "code",
   "execution_count": 49,
   "metadata": {},
   "outputs": [],
   "source": [
    "import seaborn as sns\n",
    "sns.set(font_scale = 1.3)"
   ]
  },
  {
   "cell_type": "code",
   "execution_count": 65,
   "metadata": {},
   "outputs": [
    {
     "data": {
      "image/png": "[encoded data removed]",
      "text/plain": [
       "<Figure size 432x288 with 1 Axes>"
      ]
     },
     "metadata": {},
     "output_type": "display_data"
    }
   ],
   "source": [
    "ax = sns.boxplot(y='helpful_votes', data=df3)\n",
    "ax.set(ylabel='Number of Helpful Votes')\n",
    "plt.savefig(\"helpful_votes_number.png\", bbox_inches=\"tight\")\n",
    "plt.show()"
   ]
  },
  {
   "cell_type": "markdown",
   "metadata": {},
   "source": [
    "The range of 'helpful_votes' are too wide with too many outliner. Let's create a new feature called: \"helpful_cotes_ratio\" as the ratio between help_votes and total_votes."
   ]
  },
  {
   "cell_type": "code",
   "execution_count": 56,
   "metadata": {},
   "outputs": [],
   "source": [
    "df3['helpful_votes_ratio']=0.0"
   ]
  },
  {
   "cell_type": "code",
   "execution_count": 57,
   "metadata": {},
   "outputs": [],
   "source": [
    "df3.loc[df3['total_votes'] != 0,'helpful_votes_ratio']=df3[df3['total_votes'] != 0]['helpful_votes'].astype(float)/df3[df3['total_votes'] != 0]['total_votes'].astype(float)"
   ]
  },
  {
   "cell_type": "markdown",
   "metadata": {},
   "source": [
    "Let's plot some of the features to check for outliner."
   ]
  },
  {
   "cell_type": "code",
   "execution_count": 61,
   "metadata": {},
   "outputs": [
    {
     "data": {
      "image/png": "[encoded data removed]",
      "text/plain": [
       "<Figure size 432x288 with 1 Axes>"
      ]
     },
     "metadata": {},
     "output_type": "display_data"
    }
   ],
   "source": [
    "ax2 = sns.boxplot( y='helpful_votes_ratio', data=df3)\n",
    "ax2.set( ylabel='Distribution of the Helpful Votes Ratio')\n",
    "plt.savefig(\"helpful_votes_ratio.png\")\n",
    "plt.show()"
   ]
  },
  {
   "cell_type": "markdown",
   "metadata": {},
   "source": [
    "This is much improvement. Now, let's check for outlier."
   ]
  },
  {
   "cell_type": "code",
   "execution_count": 66,
   "metadata": {},
   "outputs": [
    {
     "data": {
      "text/plain": [
       "41866"
      ]
     },
     "execution_count": 66,
     "metadata": {},
     "output_type": "execute_result"
    }
   ],
   "source": [
    "df3['total_votes'].max()"
   ]
  },
  {
   "cell_type": "code",
   "execution_count": 67,
   "metadata": {},
   "outputs": [
    {
     "data": {
      "text/html": [
       "<div>\n",
       "<style scoped>\n",
       "    .dataframe tbody tr th:only-of-type {\n",
       "        vertical-align: middle;\n",
       "    }\n",
       "\n",
       "    .dataframe tbody tr th {\n",
       "        vertical-align: top;\n",
       "    }\n",
       "\n",
       "    .dataframe thead th {\n",
       "        text-align: right;\n",
       "    }\n",
       "</style>\n",
       "<table border=\"1\" class=\"dataframe\">\n",
       "  <thead>\n",
       "    <tr style=\"text-align: right;\">\n",
       "      <th></th>\n",
       "      <th>marketplace</th>\n",
       "      <th>customer_id</th>\n",
       "      <th>review_id</th>\n",
       "      <th>product_id</th>\n",
       "      <th>product_parent</th>\n",
       "      <th>product_title</th>\n",
       "      <th>product_category</th>\n",
       "      <th>star_rating</th>\n",
       "      <th>helpful_votes</th>\n",
       "      <th>total_votes</th>\n",
       "      <th>vine</th>\n",
       "      <th>verified_purchase</th>\n",
       "      <th>review_headline</th>\n",
       "      <th>review_body</th>\n",
       "      <th>review_date</th>\n",
       "      <th>helpful_votes_ratio</th>\n",
       "    </tr>\n",
       "  </thead>\n",
       "  <tbody>\n",
       "    <tr>\n",
       "      <th>2167784</th>\n",
       "      <td>US</td>\n",
       "      <td>50268169</td>\n",
       "      <td>R19XO9PS38WRWO</td>\n",
       "      <td>B004F9QBE6</td>\n",
       "      <td>596552794</td>\n",
       "      <td>BIC Cristal For Her Ball Pen, 1.0mm, Black, 16...</td>\n",
       "      <td>Office Products</td>\n",
       "      <td>5</td>\n",
       "      <td>41393</td>\n",
       "      <td>41866</td>\n",
       "      <td>N</td>\n",
       "      <td>N</td>\n",
       "      <td>FINALLY!</td>\n",
       "      <td>Someone has answered my gentle prayers and FIN...</td>\n",
       "      <td>2012-08-24</td>\n",
       "      <td>0.988702</td>\n",
       "    </tr>\n",
       "  </tbody>\n",
       "</table>\n",
       "</div>"
      ],
      "text/plain": [
       "        marketplace  customer_id       review_id  product_id  product_parent  \\\n",
       "2167784          US     50268169  R19XO9PS38WRWO  B004F9QBE6       596552794   \n",
       "\n",
       "                                             product_title product_category  \\\n",
       "2167784  BIC Cristal For Her Ball Pen, 1.0mm, Black, 16...  Office Products   \n",
       "\n",
       "         star_rating  helpful_votes  total_votes vine verified_purchase  \\\n",
       "2167784            5          41393        41866    N                 N   \n",
       "\n",
       "        review_headline                                        review_body  \\\n",
       "2167784        FINALLY!  Someone has answered my gentle prayers and FIN...   \n",
       "\n",
       "        review_date  helpful_votes_ratio  \n",
       "2167784  2012-08-24             0.988702  "
      ]
     },
     "execution_count": 67,
     "metadata": {},
     "output_type": "execute_result"
    }
   ],
   "source": [
    "df3[df3['total_votes']==df3['total_votes'].max()]"
   ]
  },
  {
   "cell_type": "code",
   "execution_count": 68,
   "metadata": {},
   "outputs": [
    {
     "data": {
      "text/plain": [
       "\"Someone has answered my gentle prayers and FINALLY designed a pen that I can use all month long! I use it when I'm swimming, riding a horse, walking on the beach and doing yoga. It's comfortable, leak-proof, non-slip and it makes me feel so feminine and pretty! Since I've begun using these pens, men have found me more attractive and approchable. It has given me soft skin and manageable hair and it has really given me the self-esteem I needed to start a book club and flirt with the bag-boy at my local market. My drawings of kittens and ponies have improved, and now that I'm writing my last name hyphenated with the Robert Pattinson's last name, I really believe he may some day marry me! I'm positively giddy. Those smart men in marketing have come up with a pen that my lady parts can really identify with.<br /><br />Where has this pen been all my life???\""
      ]
     },
     "execution_count": 68,
     "metadata": {},
     "output_type": "execute_result"
    }
   ],
   "source": [
    "df3.loc[2167784,'review_body']"
   ]
  },
  {
   "cell_type": "markdown",
   "metadata": {},
   "source": [
    "This review is completely nonsense for a pen. Let's remove it. This sounds like a prank."
   ]
  },
  {
   "cell_type": "code",
   "execution_count": 87,
   "metadata": {},
   "outputs": [],
   "source": [
    "df4=df3.drop(index=2167784)"
   ]
  },
  {
   "cell_type": "code",
   "execution_count": 88,
   "metadata": {},
   "outputs": [
    {
     "data": {
      "text/html": [
       "<div>\n",
       "<style scoped>\n",
       "    .dataframe tbody tr th:only-of-type {\n",
       "        vertical-align: middle;\n",
       "    }\n",
       "\n",
       "    .dataframe tbody tr th {\n",
       "        vertical-align: top;\n",
       "    }\n",
       "\n",
       "    .dataframe thead th {\n",
       "        text-align: right;\n",
       "    }\n",
       "</style>\n",
       "<table border=\"1\" class=\"dataframe\">\n",
       "  <thead>\n",
       "    <tr style=\"text-align: right;\">\n",
       "      <th></th>\n",
       "      <th>helpful_votes</th>\n",
       "    </tr>\n",
       "  </thead>\n",
       "  <tbody>\n",
       "    <tr>\n",
       "      <th>count</th>\n",
       "      <td>2.640111e+06</td>\n",
       "    </tr>\n",
       "    <tr>\n",
       "      <th>mean</th>\n",
       "      <td>1.886628e+00</td>\n",
       "    </tr>\n",
       "    <tr>\n",
       "      <th>std</th>\n",
       "      <td>2.686637e+01</td>\n",
       "    </tr>\n",
       "    <tr>\n",
       "      <th>min</th>\n",
       "      <td>0.000000e+00</td>\n",
       "    </tr>\n",
       "    <tr>\n",
       "      <th>25%</th>\n",
       "      <td>0.000000e+00</td>\n",
       "    </tr>\n",
       "    <tr>\n",
       "      <th>50%</th>\n",
       "      <td>0.000000e+00</td>\n",
       "    </tr>\n",
       "    <tr>\n",
       "      <th>75%</th>\n",
       "      <td>1.000000e+00</td>\n",
       "    </tr>\n",
       "    <tr>\n",
       "      <th>max</th>\n",
       "      <td>1.821700e+04</td>\n",
       "    </tr>\n",
       "  </tbody>\n",
       "</table>\n",
       "</div>"
      ],
      "text/plain": [
       "       helpful_votes\n",
       "count   2.640111e+06\n",
       "mean    1.886628e+00\n",
       "std     2.686637e+01\n",
       "min     0.000000e+00\n",
       "25%     0.000000e+00\n",
       "50%     0.000000e+00\n",
       "75%     1.000000e+00\n",
       "max     1.821700e+04"
      ]
     },
     "execution_count": 88,
     "metadata": {},
     "output_type": "execute_result"
    }
   ],
   "source": [
    "df4[['helpful_votes']].describe()"
   ]
  },
  {
   "cell_type": "code",
   "execution_count": 89,
   "metadata": {},
   "outputs": [
    {
     "data": {
      "text/plain": [
       "<AxesSubplot:>"
      ]
     },
     "execution_count": 89,
     "metadata": {},
     "output_type": "execute_result"
    },
    {
     "data": {
      "image/png": "[encoded data removed]",
      "text/plain": [
       "<Figure size 432x288 with 1 Axes>"
      ]
     },
     "metadata": {
      "needs_background": "light"
     },
     "output_type": "display_data"
    }
   ],
   "source": [
    "df4[['helpful_votes']].boxplot()"
   ]
  },
  {
   "cell_type": "code",
   "execution_count": 90,
   "metadata": {},
   "outputs": [
    {
     "data": {
      "text/plain": [
       "<AxesSubplot:>"
      ]
     },
     "execution_count": 90,
     "metadata": {},
     "output_type": "execute_result"
    },
    {
     "data": {
      "image/png": "[encoded data removed]",
      "text/plain": [
       "<Figure size 432x288 with 1 Axes>"
      ]
     },
     "metadata": {
      "needs_background": "light"
     },
     "output_type": "display_data"
    }
   ],
   "source": [
    "df4[['total_votes']].boxplot()"
   ]
  },
  {
   "cell_type": "code",
   "execution_count": 91,
   "metadata": {},
   "outputs": [
    {
     "data": {
      "text/html": [
       "<div>\n",
       "<style scoped>\n",
       "    .dataframe tbody tr th:only-of-type {\n",
       "        vertical-align: middle;\n",
       "    }\n",
       "\n",
       "    .dataframe tbody tr th {\n",
       "        vertical-align: top;\n",
       "    }\n",
       "\n",
       "    .dataframe thead th {\n",
       "        text-align: right;\n",
       "    }\n",
       "</style>\n",
       "<table border=\"1\" class=\"dataframe\">\n",
       "  <thead>\n",
       "    <tr style=\"text-align: right;\">\n",
       "      <th></th>\n",
       "      <th>marketplace</th>\n",
       "      <th>customer_id</th>\n",
       "      <th>review_id</th>\n",
       "      <th>product_id</th>\n",
       "      <th>product_parent</th>\n",
       "      <th>product_title</th>\n",
       "      <th>product_category</th>\n",
       "      <th>star_rating</th>\n",
       "      <th>helpful_votes</th>\n",
       "      <th>total_votes</th>\n",
       "      <th>vine</th>\n",
       "      <th>verified_purchase</th>\n",
       "      <th>review_headline</th>\n",
       "      <th>review_body</th>\n",
       "      <th>review_date</th>\n",
       "      <th>helpful_votes_ratio</th>\n",
       "    </tr>\n",
       "  </thead>\n",
       "  <tbody>\n",
       "    <tr>\n",
       "      <th>2165806</th>\n",
       "      <td>US</td>\n",
       "      <td>29167258</td>\n",
       "      <td>R2PKU2MR4GXKG7</td>\n",
       "      <td>B004F9QBE6</td>\n",
       "      <td>596552794</td>\n",
       "      <td>BIC Cristal For Her Ball Pen, 1.0mm, Black, 16...</td>\n",
       "      <td>Office Products</td>\n",
       "      <td>1</td>\n",
       "      <td>18217</td>\n",
       "      <td>18648</td>\n",
       "      <td>N</td>\n",
       "      <td>N</td>\n",
       "      <td>Missing the batteries</td>\n",
       "      <td>I can't find a switch to turn it on, and it di...</td>\n",
       "      <td>2012-08-28</td>\n",
       "      <td>0.976888</td>\n",
       "    </tr>\n",
       "  </tbody>\n",
       "</table>\n",
       "</div>"
      ],
      "text/plain": [
       "        marketplace  customer_id       review_id  product_id  product_parent  \\\n",
       "2165806          US     29167258  R2PKU2MR4GXKG7  B004F9QBE6       596552794   \n",
       "\n",
       "                                             product_title product_category  \\\n",
       "2165806  BIC Cristal For Her Ball Pen, 1.0mm, Black, 16...  Office Products   \n",
       "\n",
       "         star_rating  helpful_votes  total_votes vine verified_purchase  \\\n",
       "2165806            1          18217        18648    N                 N   \n",
       "\n",
       "               review_headline  \\\n",
       "2165806  Missing the batteries   \n",
       "\n",
       "                                               review_body review_date  \\\n",
       "2165806  I can't find a switch to turn it on, and it di...  2012-08-28   \n",
       "\n",
       "         helpful_votes_ratio  \n",
       "2165806             0.976888  "
      ]
     },
     "execution_count": 91,
     "metadata": {},
     "output_type": "execute_result"
    }
   ],
   "source": [
    "df4.loc[df4[df4['total_votes']==df4['total_votes'].max()].index]"
   ]
  },
  {
   "cell_type": "markdown",
   "metadata": {},
   "source": [
    "The next outliner is also pretty weird. The product is a pen but it mentions battery. It's even more strange this is the same product. Let's check the product specifically and compare it to other products."
   ]
  },
  {
   "cell_type": "code",
   "execution_count": 92,
   "metadata": {},
   "outputs": [
    {
     "data": {
      "text/plain": [
       "<AxesSubplot:>"
      ]
     },
     "execution_count": 92,
     "metadata": {},
     "output_type": "execute_result"
    },
    {
     "data": {
      "image/png": "[encoded data removed]",
      "text/plain": [
       "<Figure size 432x288 with 1 Axes>"
      ]
     },
     "metadata": {
      "needs_background": "light"
     },
     "output_type": "display_data"
    }
   ],
   "source": [
    "df4[df4['product_id']=='B004F9QBE6'][['helpful_votes']].boxplot()"
   ]
  },
  {
   "cell_type": "code",
   "execution_count": 93,
   "metadata": {},
   "outputs": [
    {
     "data": {
      "text/plain": [
       "<AxesSubplot:>"
      ]
     },
     "execution_count": 93,
     "metadata": {},
     "output_type": "execute_result"
    },
    {
     "data": {
      "image/png": "[encoded data removed]",
      "text/plain": [
       "<Figure size 432x288 with 1 Axes>"
      ]
     },
     "metadata": {
      "needs_background": "light"
     },
     "output_type": "display_data"
    }
   ],
   "source": [
    "df4[df4['product_id']!='B004F9QBE6'][['helpful_votes']].boxplot()"
   ]
  },
  {
   "cell_type": "markdown",
   "metadata": {},
   "source": [
    "Other products also have many outliner. Let's check a different feature: \"verified_purchase\"."
   ]
  },
  {
   "cell_type": "code",
   "execution_count": 94,
   "metadata": {},
   "outputs": [
    {
     "data": {
      "text/plain": [
       "<AxesSubplot:>"
      ]
     },
     "execution_count": 94,
     "metadata": {},
     "output_type": "execute_result"
    },
    {
     "data": {
      "image/png": "[encoded data removed]",
      "text/plain": [
       "<Figure size 432x288 with 1 Axes>"
      ]
     },
     "metadata": {
      "needs_background": "light"
     },
     "output_type": "display_data"
    }
   ],
   "source": [
    "df4[df4['verified_purchase']=='Y'][['helpful_votes']].boxplot()"
   ]
  },
  {
   "cell_type": "markdown",
   "metadata": {},
   "source": [
    "Hmm, the outliner is much smaller. Let's see how much data has been taken out using this feature."
   ]
  },
  {
   "cell_type": "code",
   "execution_count": 95,
   "metadata": {},
   "outputs": [
    {
     "data": {
      "text/html": [
       "<div>\n",
       "<style scoped>\n",
       "    .dataframe tbody tr th:only-of-type {\n",
       "        vertical-align: middle;\n",
       "    }\n",
       "\n",
       "    .dataframe tbody tr th {\n",
       "        vertical-align: top;\n",
       "    }\n",
       "\n",
       "    .dataframe thead th {\n",
       "        text-align: right;\n",
       "    }\n",
       "</style>\n",
       "<table border=\"1\" class=\"dataframe\">\n",
       "  <thead>\n",
       "    <tr style=\"text-align: right;\">\n",
       "      <th></th>\n",
       "      <th>customer_id</th>\n",
       "      <th>product_parent</th>\n",
       "      <th>star_rating</th>\n",
       "      <th>helpful_votes</th>\n",
       "      <th>total_votes</th>\n",
       "      <th>helpful_votes_ratio</th>\n",
       "    </tr>\n",
       "  </thead>\n",
       "  <tbody>\n",
       "    <tr>\n",
       "      <th>count</th>\n",
       "      <td>2.255839e+06</td>\n",
       "      <td>2.255839e+06</td>\n",
       "      <td>2.255839e+06</td>\n",
       "      <td>2.255839e+06</td>\n",
       "      <td>2.255839e+06</td>\n",
       "      <td>2.255839e+06</td>\n",
       "    </tr>\n",
       "    <tr>\n",
       "      <th>mean</th>\n",
       "      <td>2.853273e+07</td>\n",
       "      <td>4.977244e+08</td>\n",
       "      <td>4.148925e+00</td>\n",
       "      <td>1.235769e+00</td>\n",
       "      <td>1.488756e+00</td>\n",
       "      <td>2.551940e-01</td>\n",
       "    </tr>\n",
       "    <tr>\n",
       "      <th>std</th>\n",
       "      <td>1.536502e+07</td>\n",
       "      <td>2.884760e+08</td>\n",
       "      <td>1.331552e+00</td>\n",
       "      <td>1.139431e+01</td>\n",
       "      <td>1.189656e+01</td>\n",
       "      <td>4.185744e-01</td>\n",
       "    </tr>\n",
       "    <tr>\n",
       "      <th>min</th>\n",
       "      <td>1.004900e+04</td>\n",
       "      <td>8.550000e+02</td>\n",
       "      <td>1.000000e+00</td>\n",
       "      <td>0.000000e+00</td>\n",
       "      <td>0.000000e+00</td>\n",
       "      <td>0.000000e+00</td>\n",
       "    </tr>\n",
       "    <tr>\n",
       "      <th>25%</th>\n",
       "      <td>1.494642e+07</td>\n",
       "      <td>2.440889e+08</td>\n",
       "      <td>4.000000e+00</td>\n",
       "      <td>0.000000e+00</td>\n",
       "      <td>0.000000e+00</td>\n",
       "      <td>0.000000e+00</td>\n",
       "    </tr>\n",
       "    <tr>\n",
       "      <th>50%</th>\n",
       "      <td>2.755064e+07</td>\n",
       "      <td>4.985021e+08</td>\n",
       "      <td>5.000000e+00</td>\n",
       "      <td>0.000000e+00</td>\n",
       "      <td>0.000000e+00</td>\n",
       "      <td>0.000000e+00</td>\n",
       "    </tr>\n",
       "    <tr>\n",
       "      <th>75%</th>\n",
       "      <td>4.293682e+07</td>\n",
       "      <td>7.465106e+08</td>\n",
       "      <td>5.000000e+00</td>\n",
       "      <td>1.000000e+00</td>\n",
       "      <td>1.000000e+00</td>\n",
       "      <td>6.000000e-01</td>\n",
       "    </tr>\n",
       "    <tr>\n",
       "      <th>max</th>\n",
       "      <td>5.309657e+07</td>\n",
       "      <td>9.999961e+08</td>\n",
       "      <td>5.000000e+00</td>\n",
       "      <td>6.832000e+03</td>\n",
       "      <td>6.995000e+03</td>\n",
       "      <td>1.000000e+00</td>\n",
       "    </tr>\n",
       "  </tbody>\n",
       "</table>\n",
       "</div>"
      ],
      "text/plain": [
       "        customer_id  product_parent   star_rating  helpful_votes  \\\n",
       "count  2.255839e+06    2.255839e+06  2.255839e+06   2.255839e+06   \n",
       "mean   2.853273e+07    4.977244e+08  4.148925e+00   1.235769e+00   \n",
       "std    1.536502e+07    2.884760e+08  1.331552e+00   1.139431e+01   \n",
       "min    1.004900e+04    8.550000e+02  1.000000e+00   0.000000e+00   \n",
       "25%    1.494642e+07    2.440889e+08  4.000000e+00   0.000000e+00   \n",
       "50%    2.755064e+07    4.985021e+08  5.000000e+00   0.000000e+00   \n",
       "75%    4.293682e+07    7.465106e+08  5.000000e+00   1.000000e+00   \n",
       "max    5.309657e+07    9.999961e+08  5.000000e+00   6.832000e+03   \n",
       "\n",
       "        total_votes  helpful_votes_ratio  \n",
       "count  2.255839e+06         2.255839e+06  \n",
       "mean   1.488756e+00         2.551940e-01  \n",
       "std    1.189656e+01         4.185744e-01  \n",
       "min    0.000000e+00         0.000000e+00  \n",
       "25%    0.000000e+00         0.000000e+00  \n",
       "50%    0.000000e+00         0.000000e+00  \n",
       "75%    1.000000e+00         6.000000e-01  \n",
       "max    6.995000e+03         1.000000e+00  "
      ]
     },
     "execution_count": 95,
     "metadata": {},
     "output_type": "execute_result"
    }
   ],
   "source": [
    "df4[df4['verified_purchase']=='Y'].describe()"
   ]
  },
  {
   "cell_type": "markdown",
   "metadata": {},
   "source": [
    "Not so much. Let's use verified_purchase from now on."
   ]
  },
  {
   "cell_type": "code",
   "execution_count": 96,
   "metadata": {},
   "outputs": [],
   "source": [
    "df5=df4[df4['verified_purchase']=='Y']"
   ]
  },
  {
   "cell_type": "markdown",
   "metadata": {},
   "source": [
    "Now, let's check the most outliner of the verified purchase."
   ]
  },
  {
   "cell_type": "code",
   "execution_count": 98,
   "metadata": {},
   "outputs": [
    {
     "data": {
      "text/html": [
       "<div>\n",
       "<style scoped>\n",
       "    .dataframe tbody tr th:only-of-type {\n",
       "        vertical-align: middle;\n",
       "    }\n",
       "\n",
       "    .dataframe tbody tr th {\n",
       "        vertical-align: top;\n",
       "    }\n",
       "\n",
       "    .dataframe thead th {\n",
       "        text-align: right;\n",
       "    }\n",
       "</style>\n",
       "<table border=\"1\" class=\"dataframe\">\n",
       "  <thead>\n",
       "    <tr style=\"text-align: right;\">\n",
       "      <th></th>\n",
       "      <th>marketplace</th>\n",
       "      <th>customer_id</th>\n",
       "      <th>review_id</th>\n",
       "      <th>product_id</th>\n",
       "      <th>product_parent</th>\n",
       "      <th>product_title</th>\n",
       "      <th>product_category</th>\n",
       "      <th>star_rating</th>\n",
       "      <th>helpful_votes</th>\n",
       "      <th>total_votes</th>\n",
       "      <th>vine</th>\n",
       "      <th>verified_purchase</th>\n",
       "      <th>review_headline</th>\n",
       "      <th>review_body</th>\n",
       "      <th>review_date</th>\n",
       "      <th>helpful_votes_ratio</th>\n",
       "    </tr>\n",
       "  </thead>\n",
       "  <tbody>\n",
       "    <tr>\n",
       "      <th>1314436</th>\n",
       "      <td>US</td>\n",
       "      <td>23956847</td>\n",
       "      <td>R3VRMWPRRRDCCT</td>\n",
       "      <td>B00AVWKUJS</td>\n",
       "      <td>646333008</td>\n",
       "      <td>Canon Office and Business MX922 All in One Pri...</td>\n",
       "      <td>Office Products</td>\n",
       "      <td>4</td>\n",
       "      <td>6832</td>\n",
       "      <td>6995</td>\n",
       "      <td>N</td>\n",
       "      <td>Y</td>\n",
       "      <td>A MUST READ REVIEW IF SERIOUSLY IN THE MARKET ...</td>\n",
       "      <td>This is my first review on any product on Amaz...</td>\n",
       "      <td>2014-07-01</td>\n",
       "      <td>0.976698</td>\n",
       "    </tr>\n",
       "  </tbody>\n",
       "</table>\n",
       "</div>"
      ],
      "text/plain": [
       "        marketplace  customer_id       review_id  product_id  product_parent  \\\n",
       "1314436          US     23956847  R3VRMWPRRRDCCT  B00AVWKUJS       646333008   \n",
       "\n",
       "                                             product_title product_category  \\\n",
       "1314436  Canon Office and Business MX922 All in One Pri...  Office Products   \n",
       "\n",
       "         star_rating  helpful_votes  total_votes vine verified_purchase  \\\n",
       "1314436            4           6832         6995    N                 Y   \n",
       "\n",
       "                                           review_headline  \\\n",
       "1314436  A MUST READ REVIEW IF SERIOUSLY IN THE MARKET ...   \n",
       "\n",
       "                                               review_body review_date  \\\n",
       "1314436  This is my first review on any product on Amaz...  2014-07-01   \n",
       "\n",
       "         helpful_votes_ratio  \n",
       "1314436             0.976698  "
      ]
     },
     "execution_count": 98,
     "metadata": {},
     "output_type": "execute_result"
    }
   ],
   "source": [
    "df5[df5['total_votes']==df5['total_votes'].max()]"
   ]
  },
  {
   "cell_type": "code",
   "execution_count": 99,
   "metadata": {},
   "outputs": [
    {
     "data": {
      "text/plain": [
       "\"This is my first review on any product on Amazon, this review will be on the [[ASIN:B00AVWKUJS Canon PIXMA MX922 Wireless Color Photo Printer with Scanner, Copier and Fax]]. After reading almost 75 reviews this will be focusing on the reviews with 1-2 stars. First to the complaints on the wireless air-print from Ios or Android, if you setup the printer using WPS your phone will never pick up the printer or will appear offline. You have to select WLAN Setup from Menu on the printer then select other setup options on the LCD screen then select standard setup and find your router then select and type in your password then connect. Also you have to make sure your phone is on the same channel, so especially if you have a dual-band router and your phone is on the 5ghz channel and the printer is on the 2.4ghz channel you will also run into problems. So every thing has to be on same channel, phone on 2.4ghz then the printer has to be on 2.4ghz channel then you will have absolutely no problems printing from your phone. Then with the complaints about noise there is a Quit mode selection in the menu when turned on it reduced all printer noise by at least 75%. Now to the ink consumption this printer is one of the best in the simple fact that if one of your cartridges runs out it will continue to print. Also the printer by default will print even all Black and White documents in the color setting because it brings a better quality this can simply be changed in your printer settings in your control panel to Black and White so most regular text documents will use the XXL cartridge which lasts for ever. With this setting changed if the page has color it stills prints in color.Compared to other printers when one cartridge runs out the printer will not continue to print until the ink cartridge is changed. The Canon PIXMA MX922 is one of the best printers I've used regarding ink, as a plus you can buy a color and XXL Black cartridge set from Amazon for a total of $60. As far as the scanner and copier go's it is one of the best I've used on a printer under $200. Have not had a chance to use the Fax so I can't reply in this review on that subject. One of the few downfalls of this printer is the size it really is a rather large printer compared to other all in one printers in it's class so take that into consideration. Photos are absolutely beautiful when used with Cannon Pro Platinum photo paper at 4x6 100 sheets for $20 on Amazon. As far as setup and install program wise it's pretty much standard  procedure. I've had the printer for about two weeks now and really I am so impressed for only $99. To those saying about break downs well with the SquareTrade 3-Year Electronics Protection Plan ($75-100) for only $14.20 how can you go wrong? There is another slight downside if you don't have a router or wireless access the printer doesn't come with the USB cable to direct connect, but one can be purchased on Amazon for $5.49 the Mediabridge USB 2.0 - A Male to B Male Cable (10 Feet) - High-Speed with Gold-Plated Connectors - Black. For those people giving this printer 1-2 stars it really is not their fault they are just ignorant to technology. Throwing off people into second guessing in purchasing this amazing piece of home all in one equipment. The auto 35 page duplex is also so time saving and conserves so much on paper consumption. I really hope this review finds people who are interested in purchasing this machine. The VERY few downsides like the USB and shear size is the only reason I didn't give this product a 5 star rating. I hope this review was helpful in letting you disregard the people giving this product 1-2 stars. Thanks for taking the time to read a real review!anner and copier go's it is one of the best I've used on a printer under $200. Have not had a chance to use the Fax so I can't reply in this review on that subject. One of the few downfalls of this printer is the size it really is a rather large printer compared to other all in one printers in it's class so take that into consideration. Photos are absolutely beautiful when used with Cannon Pro Platinum photo paper at 4x6 100 sheets for $20 on Amazon. As far as setup and install program wise it's pretty much standard  procedure. I've had the printer for about two weeks now and really I am so impressed for only $99. To those saying about break downs well with the SquareTrade 3-Year Electronics Protection Plan ($75-100) for only $14.20 how can you go wrong? There is another slight downside if you don't have a router or wireless access the printer doesn't come with the USB cable to direct connect, but one can be purchased on Amazon for $5.49 the Mediabridge USB 2.0 - A Male to B Male Cable (10 Feet) - High-Speed with Gold-Plated Connectors - Black. For those people giving this printer 1-2 stars it really is not their fault they are just ignorant to technology. Throwing off people into second guessing in purchasing this amazing piece of home all in one equipment. The auto 35 page duplex is also so time saving and conserves so much on paper consumption. I really hope this review finds people who are interested in purchasing this machine. The VERY few downsides like the USB and shear size is the only reason I didn't give this product a 5 star rating. I hope this review was helpful in letting you disregard the people giving this product 1-2 stars. Thanks for taking the time to read a real review!\""
      ]
     },
     "execution_count": 99,
     "metadata": {},
     "output_type": "execute_result"
    }
   ],
   "source": [
    "df5.loc[1314436,'review_body']"
   ]
  },
  {
   "cell_type": "markdown",
   "metadata": {},
   "source": [
    "This review is very detailed and useful!"
   ]
  },
  {
   "cell_type": "code",
   "execution_count": 100,
   "metadata": {},
   "outputs": [
    {
     "data": {
      "text/html": [
       "<div>\n",
       "<style scoped>\n",
       "    .dataframe tbody tr th:only-of-type {\n",
       "        vertical-align: middle;\n",
       "    }\n",
       "\n",
       "    .dataframe tbody tr th {\n",
       "        vertical-align: top;\n",
       "    }\n",
       "\n",
       "    .dataframe thead th {\n",
       "        text-align: right;\n",
       "    }\n",
       "</style>\n",
       "<table border=\"1\" class=\"dataframe\">\n",
       "  <thead>\n",
       "    <tr style=\"text-align: right;\">\n",
       "      <th></th>\n",
       "      <th>helpful_votes</th>\n",
       "      <th>total_votes</th>\n",
       "    </tr>\n",
       "    <tr>\n",
       "      <th>star_rating</th>\n",
       "      <th></th>\n",
       "      <th></th>\n",
       "    </tr>\n",
       "  </thead>\n",
       "  <tbody>\n",
       "    <tr>\n",
       "      <th>1</th>\n",
       "      <td>493475.0</td>\n",
       "      <td>682618.0</td>\n",
       "    </tr>\n",
       "    <tr>\n",
       "      <th>2</th>\n",
       "      <td>183622.0</td>\n",
       "      <td>243469.0</td>\n",
       "    </tr>\n",
       "    <tr>\n",
       "      <th>3</th>\n",
       "      <td>259833.0</td>\n",
       "      <td>329613.0</td>\n",
       "    </tr>\n",
       "    <tr>\n",
       "      <th>4</th>\n",
       "      <td>455392.0</td>\n",
       "      <td>522005.0</td>\n",
       "    </tr>\n",
       "    <tr>\n",
       "      <th>5</th>\n",
       "      <td>1395375.0</td>\n",
       "      <td>1580688.0</td>\n",
       "    </tr>\n",
       "  </tbody>\n",
       "</table>\n",
       "</div>"
      ],
      "text/plain": [
       "             helpful_votes  total_votes\n",
       "star_rating                            \n",
       "1                 493475.0     682618.0\n",
       "2                 183622.0     243469.0\n",
       "3                 259833.0     329613.0\n",
       "4                 455392.0     522005.0\n",
       "5                1395375.0    1580688.0"
      ]
     },
     "execution_count": 100,
     "metadata": {},
     "output_type": "execute_result"
    }
   ],
   "source": [
    "df5.groupby('star_rating').sum()[['helpful_votes','total_votes']]"
   ]
  },
  {
   "cell_type": "code",
   "execution_count": 101,
   "metadata": {},
   "outputs": [
    {
     "data": {
      "text/html": [
       "<div>\n",
       "<style scoped>\n",
       "    .dataframe tbody tr th:only-of-type {\n",
       "        vertical-align: middle;\n",
       "    }\n",
       "\n",
       "    .dataframe tbody tr th {\n",
       "        vertical-align: top;\n",
       "    }\n",
       "\n",
       "    .dataframe thead th {\n",
       "        text-align: right;\n",
       "    }\n",
       "</style>\n",
       "<table border=\"1\" class=\"dataframe\">\n",
       "  <thead>\n",
       "    <tr style=\"text-align: right;\">\n",
       "      <th></th>\n",
       "      <th></th>\n",
       "      <th>helpful_votes</th>\n",
       "      <th>total_votes</th>\n",
       "    </tr>\n",
       "    <tr>\n",
       "      <th>star_rating</th>\n",
       "      <th>verified_purchase</th>\n",
       "      <th></th>\n",
       "      <th></th>\n",
       "    </tr>\n",
       "  </thead>\n",
       "  <tbody>\n",
       "    <tr>\n",
       "      <th rowspan=\"2\" valign=\"top\">1</th>\n",
       "      <th>N</th>\n",
       "      <td>473183.0</td>\n",
       "      <td>615737.0</td>\n",
       "    </tr>\n",
       "    <tr>\n",
       "      <th>Y</th>\n",
       "      <td>493475.0</td>\n",
       "      <td>682618.0</td>\n",
       "    </tr>\n",
       "    <tr>\n",
       "      <th rowspan=\"2\" valign=\"top\">2</th>\n",
       "      <th>N</th>\n",
       "      <td>162888.0</td>\n",
       "      <td>201050.0</td>\n",
       "    </tr>\n",
       "    <tr>\n",
       "      <th>Y</th>\n",
       "      <td>183622.0</td>\n",
       "      <td>243469.0</td>\n",
       "    </tr>\n",
       "    <tr>\n",
       "      <th rowspan=\"2\" valign=\"top\">3</th>\n",
       "      <th>N</th>\n",
       "      <td>234146.0</td>\n",
       "      <td>271629.0</td>\n",
       "    </tr>\n",
       "    <tr>\n",
       "      <th>Y</th>\n",
       "      <td>259833.0</td>\n",
       "      <td>329613.0</td>\n",
       "    </tr>\n",
       "    <tr>\n",
       "      <th rowspan=\"2\" valign=\"top\">4</th>\n",
       "      <th>N</th>\n",
       "      <td>406871.0</td>\n",
       "      <td>447687.0</td>\n",
       "    </tr>\n",
       "    <tr>\n",
       "      <th>Y</th>\n",
       "      <td>455392.0</td>\n",
       "      <td>522005.0</td>\n",
       "    </tr>\n",
       "    <tr>\n",
       "      <th rowspan=\"2\" valign=\"top\">5</th>\n",
       "      <th>N</th>\n",
       "      <td>916122.0</td>\n",
       "      <td>1016225.0</td>\n",
       "    </tr>\n",
       "    <tr>\n",
       "      <th>Y</th>\n",
       "      <td>1395375.0</td>\n",
       "      <td>1580688.0</td>\n",
       "    </tr>\n",
       "  </tbody>\n",
       "</table>\n",
       "</div>"
      ],
      "text/plain": [
       "                               helpful_votes  total_votes\n",
       "star_rating verified_purchase                            \n",
       "1           N                       473183.0     615737.0\n",
       "            Y                       493475.0     682618.0\n",
       "2           N                       162888.0     201050.0\n",
       "            Y                       183622.0     243469.0\n",
       "3           N                       234146.0     271629.0\n",
       "            Y                       259833.0     329613.0\n",
       "4           N                       406871.0     447687.0\n",
       "            Y                       455392.0     522005.0\n",
       "5           N                       916122.0    1016225.0\n",
       "            Y                      1395375.0    1580688.0"
      ]
     },
     "execution_count": 101,
     "metadata": {},
     "output_type": "execute_result"
    }
   ],
   "source": [
    "df4.groupby(['star_rating', 'verified_purchase']).sum()[['helpful_votes','total_votes']]"
   ]
  },
  {
   "cell_type": "code",
   "execution_count": 102,
   "metadata": {},
   "outputs": [
    {
     "name": "stdout",
     "output_type": "stream",
     "text": [
      "A file already exists with this name.\n",
      "\n",
      "Do you want to overwrite? (Y/N)N\n",
      "\n",
      "Please re-run this cell with a new filename.\n"
     ]
    }
   ],
   "source": [
    "# save the data to a new csv file\n",
    "datapath = 'data'\n",
    "save_file(df5, 'verified_purchase.csv', datapath)"
   ]
  },
  {
   "cell_type": "code",
   "execution_count": 103,
   "metadata": {},
   "outputs": [
    {
     "name": "stdout",
     "output_type": "stream",
     "text": [
      "A file already exists with this name.\n",
      "\n",
      "Do you want to overwrite? (Y/N)N\n",
      "\n",
      "Please re-run this cell with a new filename.\n"
     ]
    }
   ],
   "source": [
    "# save the data to a new csv file\n",
    "datapath = 'data'\n",
    "save_file(df4, 'all_purchase.csv', datapath)"
   ]
  },
  {
   "cell_type": "code",
   "execution_count": null,
   "metadata": {},
   "outputs": [],
   "source": []
  }
 ],
 "metadata": {
  "kernelspec": {
   "display_name": "Python 3",
   "language": "python",
   "name": "python3"
  },
  "language_info": {
   "codemirror_mode": {
    "name": "ipython",
    "version": 3
   },
   "file_extension": ".py",
   "mimetype": "text/x-python",
   "name": "python",
   "nbconvert_exporter": "python",
   "pygments_lexer": "ipython3",
   "version": "3.8.5"
  }
 },
 "nbformat": 4,
 "nbformat_minor": 4
}
